{
 "cells": [
  {
   "cell_type": "code",
   "execution_count": 1,
   "metadata": {},
   "outputs": [],
   "source": [
    "import nanomotif as nm\n",
    "import logging as log\n",
    "import polars as pl\n",
    "import matplotlib.pyplot as plt\n",
    "import seaborn as sns\n",
    "import re\n",
    "import numpy as np\n",
    "padding = 12"
   ]
  },
  {
   "cell_type": "code",
   "execution_count": 3,
   "metadata": {},
   "outputs": [
    {
     "data": {
      "text/plain": [
       "16"
      ]
     },
     "execution_count": 3,
     "metadata": {},
     "output_type": "execute_result"
    }
   ],
   "source": [
    "assembly = nm.load_assembly(\"../data/zymo/assembly.polished.fasta\")\n",
    "pileup = nm.load_pileup(\"../data/zymo/modkit.pileup.bed\")\n"
   ]
  },
  {
   "cell_type": "code",
   "execution_count": null,
   "metadata": {},
   "outputs": [
    {
     "data": {
      "text/html": [
       "<div><style>\n",
       ".dataframe > thead > tr > th,\n",
       ".dataframe > tbody > tr > td {\n",
       "  text-align: right;\n",
       "}\n",
       "</style>\n",
       "<small>shape: (5, 7)</small><table border=\"1\" class=\"dataframe\"><thead><tr><th>padded_motif</th><th>model</th><th>cdf_score</th><th>contig</th><th>mod_type</th><th>motif</th><th>mod_position</th></tr><tr><td>str</td><td>object</td><td>f64</td><td>str</td><td>str</td><td>str</td><td>i64</td></tr></thead><tbody><tr><td>&quot;..............…</td><td>BetaBernoulliModel(alpha=11419, beta=51)</td><td>1.0</td><td>&quot;contig_3&quot;</td><td>&quot;m&quot;</td><td>&quot;CCTGG&quot;</td><td>1</td></tr><tr><td>&quot;..............…</td><td>BetaBernoulliModel(alpha=11384, beta=86)</td><td>1.0</td><td>&quot;contig_3&quot;</td><td>&quot;m&quot;</td><td>&quot;CCAGG&quot;</td><td>1</td></tr><tr><td>&quot;..............…</td><td>BetaBernoulliModel(alpha=31759, beta=483)</td><td>1.0</td><td>&quot;contig_3&quot;</td><td>&quot;a&quot;</td><td>&quot;GATC&quot;</td><td>1</td></tr><tr><td>&quot;..............…</td><td>BetaBernoulliModel(alpha=558, beta=38)</td><td>1.0</td><td>&quot;contig_3&quot;</td><td>&quot;a&quot;</td><td>&quot;AAC......GTGC&quot;</td><td>1</td></tr><tr><td>&quot;..............…</td><td>BetaBernoulliModel(alpha=529, beta=67)</td><td>1.0</td><td>&quot;contig_3&quot;</td><td>&quot;a&quot;</td><td>&quot;GCAC......GTT&quot;</td><td>2</td></tr></tbody></table></div>"
      ],
      "text/plain": [
       "shape: (5, 7)\n",
       "┌────────────────┬────────────────┬───────────┬──────────┬──────────┬───────────────┬──────────────┐\n",
       "│ padded_motif   ┆ model          ┆ cdf_score ┆ contig   ┆ mod_type ┆ motif         ┆ mod_position │\n",
       "│ ---            ┆ ---            ┆ ---       ┆ ---      ┆ ---      ┆ ---           ┆ ---          │\n",
       "│ str            ┆ object         ┆ f64       ┆ str      ┆ str      ┆ str           ┆ i64          │\n",
       "╞════════════════╪════════════════╪═══════════╪══════════╪══════════╪═══════════════╪══════════════╡\n",
       "│ .............. ┆ BetaBernoulliM ┆ 1.0       ┆ contig_3 ┆ m        ┆ CCTGG         ┆ 1            │\n",
       "│ .....CCTGG.... ┆ odel(alpha=114 ┆           ┆          ┆          ┆               ┆              │\n",
       "│ ....…          ┆ 19, …          ┆           ┆          ┆          ┆               ┆              │\n",
       "│ .............. ┆ BetaBernoulliM ┆ 1.0       ┆ contig_3 ┆ m        ┆ CCAGG         ┆ 1            │\n",
       "│ .....CCAGG.... ┆ odel(alpha=113 ┆           ┆          ┆          ┆               ┆              │\n",
       "│ ....…          ┆ 84, …          ┆           ┆          ┆          ┆               ┆              │\n",
       "│ .............. ┆ BetaBernoulliM ┆ 1.0       ┆ contig_3 ┆ a        ┆ GATC          ┆ 1            │\n",
       "│ .....GATC..... ┆ odel(alpha=317 ┆           ┆          ┆          ┆               ┆              │\n",
       "│ ....…          ┆ 59, …          ┆           ┆          ┆          ┆               ┆              │\n",
       "│ .............. ┆ BetaBernoulliM ┆ 1.0       ┆ contig_3 ┆ a        ┆ AAC......GTGC ┆ 1            │\n",
       "│ .....AAC...... ┆ odel(alpha=558 ┆           ┆          ┆          ┆               ┆              │\n",
       "│ GTGC…          ┆ , be…          ┆           ┆          ┆          ┆               ┆              │\n",
       "│ .............. ┆ BetaBernoulliM ┆ 1.0       ┆ contig_3 ┆ a        ┆ GCAC......GTT ┆ 2            │\n",
       "│ ....GCAC...... ┆ odel(alpha=529 ┆           ┆          ┆          ┆               ┆              │\n",
       "│ GTT.…          ┆ , be…          ┆           ┆          ┆          ┆               ┆              │\n",
       "└────────────────┴────────────────┴───────────┴──────────┴──────────┴───────────────┴──────────────┘"
      ]
     },
     "execution_count": 3,
     "metadata": {},
     "output_type": "execute_result"
    }
   ],
   "source": [
    "motifs = nm.evaluate.process_sample(assembly, pileup.pileup, min_read_methylation_fraction = 0.8, cdf_position= 0.60, min_motif_frequency=15000, min_kl_divergence=0.2)"
   ]
  }
 ],
 "metadata": {
  "kernelspec": {
   "display_name": "Python 3",
   "language": "python",
   "name": "python3"
  },
  "language_info": {
   "codemirror_mode": {
    "name": "ipython",
    "version": 3
   },
   "file_extension": ".py",
   "mimetype": "text/x-python",
   "name": "python",
   "nbconvert_exporter": "python",
   "pygments_lexer": "ipython3",
   "version": "3.9.16"
  },
  "orig_nbformat": 4
 },
 "nbformat": 4,
 "nbformat_minor": 2
}
