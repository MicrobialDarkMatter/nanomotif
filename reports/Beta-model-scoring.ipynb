{
 "cells": [
  {
   "cell_type": "markdown",
   "metadata": {},
   "source": [
    "Initial implementation of Beta-Bernoulli model, based the contig levels methylation calls. "
   ]
  },
  {
   "cell_type": "code",
   "execution_count": 1,
   "metadata": {},
   "outputs": [],
   "source": [
    "import nanomotif as nm\n",
    "import polars as pl\n",
    "import re\n",
    "import numpy as np"
   ]
  },
  {
   "cell_type": "markdown",
   "metadata": {},
   "source": [
    "# Intro\n",
    "\n",
    "This report gives examples identifying motif in samples using the BetaBernoulli model. In this report the binary methylation representation on contig level is used, e.g. all possible methylation positions on the contig have a true or false representing methylation status at that postion."
   ]
  },
  {
   "cell_type": "markdown",
   "metadata": {},
   "source": [
    "# E.coli\n",
    "\n",
    "E. coli is simply and have two motifs, G6mATC and C5mCWGG. "
   ]
  },
  {
   "cell_type": "code",
   "execution_count": 2,
   "metadata": {},
   "outputs": [],
   "source": [
    "assembly = nm.load_assembly(\"../data/ecoli/assembly.polished.fasta\")\n",
    "ecoli = nm.load_pileup(\"../data/ecoli/modkit.pileup.bed\")"
   ]
  },
  {
   "cell_type": "markdown",
   "metadata": {},
   "source": [
    "## 6mA"
   ]
  },
  {
   "cell_type": "markdown",
   "metadata": {},
   "source": [
    "For a position to be called methylated we set a threshold of fraction of reads called as methylated at that position, here we select 80%.  Then we generate all possible motif candidates up to size 4, each motif is also represeneted with each possible methylation position withing the motif, e.g. represented as **G**ATC, G**A**TC, GA**T**C and GAT**C**. "
   ]
  },
  {
   "cell_type": "code",
   "execution_count": 4,
   "metadata": {},
   "outputs": [],
   "source": [
    "ecoli_6mA_80p = ecoli.pileup.filter(pl.col(\"mod_type\") == \"a\").filter(pl.col(\"fraction_mod\") > 0.8)\n",
    "\n",
    "# Generate random candidates up to size 4 and modification type 6mA (a)\n",
    "motif_candidates = nm.candidate.generate_random_candidates(5, \"a\")\n",
    "scored_candidates = nm.evaluate.score_candidates(ecoli_6mA_80p, assembly[\"contig_3\"].sequence, motif_candidates)"
   ]
  },
  {
   "cell_type": "markdown",
   "metadata": {},
   "source": [
    "To evaluate the performance of the model we use the signal to noise ratio and 1 - the CDF(0.5). "
   ]
  },
  {
   "cell_type": "code",
   "execution_count": 5,
   "metadata": {},
   "outputs": [
    {
     "data": {
      "text/html": [
       "<div><style>\n",
       ".dataframe > thead > tr > th,\n",
       ".dataframe > tbody > tr > td {\n",
       "  text-align: right;\n",
       "}\n",
       "</style>\n",
       "<small>shape: (6_372, 6)</small><table border=\"1\" class=\"dataframe\"><thead><tr><th>motif</th><th>motif_meth_index</th><th>mod_type</th><th>posterior</th><th>cdf_score</th><th>signal_noise</th></tr><tr><td>str</td><td>i64</td><td>str</td><td>object</td><td>f64</td><td>f64</td></tr></thead><tbody><tr><td>&quot;GATC&quot;</td><td>1</td><td>&quot;a&quot;</td><td>BetaBernoulliModel(alpha=37562, beta=688)</td><td>1.0</td><td>1445.112081</td></tr><tr><td>&quot;AGATC&quot;</td><td>2</td><td>&quot;a&quot;</td><td>BetaBernoulliModel(alpha=7712, beta=180)</td><td>1.0</td><td>581.524892</td></tr><tr><td>&quot;CGATC&quot;</td><td>2</td><td>&quot;a&quot;</td><td>BetaBernoulliModel(alpha=10676, beta=252)</td><td>1.0</td><td>680.446877</td></tr><tr><td>&quot;GATCA&quot;</td><td>1</td><td>&quot;a&quot;</td><td>BetaBernoulliModel(alpha=10913, beta=245)</td><td>1.0</td><td>705.020385</td></tr><tr><td>&quot;GATCC&quot;</td><td>1</td><td>&quot;a&quot;</td><td>BetaBernoulliModel(alpha=8100, beta=148)</td><td>1.0</td><td>671.911855</td></tr><tr><td>&quot;GATCG&quot;</td><td>1</td><td>&quot;a&quot;</td><td>BetaBernoulliModel(alpha=10767, beta=161)</td><td>1.0</td><td>854.918335</td></tr><tr><td>&quot;GATCT&quot;</td><td>1</td><td>&quot;a&quot;</td><td>BetaBernoulliModel(alpha=7768, beta=124)</td><td>1.0</td><td>703.177259</td></tr><tr><td>&quot;GGATC&quot;</td><td>2</td><td>&quot;a&quot;</td><td>BetaBernoulliModel(alpha=8136, beta=112)</td><td>1.0</td><td>774.100077</td></tr><tr><td>&quot;TGATC&quot;</td><td>2</td><td>&quot;a&quot;</td><td>BetaBernoulliModel(alpha=11026, beta=132)</td><td>1.0</td><td>965.460849</td></tr><tr><td>&quot;A&quot;</td><td>0</td><td>&quot;a&quot;</td><td>BetaBernoulliModel(alpha=41864, beta=2241554)</td><td>0.0</td><td>206.5088</td></tr><tr><td>&quot;C&quot;</td><td>0</td><td>&quot;a&quot;</td><td>BetaBernoulliModel(alpha=128648, beta=2228106)</td><td>0.0</td><td>368.884846</td></tr><tr><td>&quot;G&quot;</td><td>0</td><td>&quot;a&quot;</td><td>BetaBernoulliModel(alpha=113525, beta=2243229)</td><td>0.0</td><td>345.355334</td></tr><tr><td>&hellip;</td><td>&hellip;</td><td>&hellip;</td><td>&hellip;</td><td>&hellip;</td><td>&hellip;</td></tr><tr><td>&quot;TTTTC&quot;</td><td>3</td><td>&quot;a&quot;</td><td>BetaBernoulliModel(alpha=1172, beta=17083)</td><td>0.0</td><td>35.390325</td></tr><tr><td>&quot;TTTTC&quot;</td><td>4</td><td>&quot;a&quot;</td><td>BetaBernoulliModel(alpha=735, beta=17520)</td><td>0.0</td><td>27.674478</td></tr><tr><td>&quot;TTTTG&quot;</td><td>0</td><td>&quot;a&quot;</td><td>BetaBernoulliModel(alpha=928, beta=14918)</td><td>0.0</td><td>31.397294</td></tr><tr><td>&quot;TTTTG&quot;</td><td>1</td><td>&quot;a&quot;</td><td>BetaBernoulliModel(alpha=824, beta=15022)</td><td>0.0</td><td>29.483108</td></tr><tr><td>&quot;TTTTG&quot;</td><td>2</td><td>&quot;a&quot;</td><td>BetaBernoulliModel(alpha=673, beta=15173)</td><td>0.0</td><td>26.512173</td></tr><tr><td>&quot;TTTTG&quot;</td><td>3</td><td>&quot;a&quot;</td><td>BetaBernoulliModel(alpha=605, beta=15241)</td><td>0.0</td><td>25.080979</td></tr><tr><td>&quot;TTTTG&quot;</td><td>4</td><td>&quot;a&quot;</td><td>BetaBernoulliModel(alpha=628, beta=15218)</td><td>0.0</td><td>25.572581</td></tr><tr><td>&quot;TTTTT&quot;</td><td>0</td><td>&quot;a&quot;</td><td>BetaBernoulliModel(alpha=1060, beta=15669)</td><td>0.0</td><td>33.64188</td></tr><tr><td>&quot;TTTTT&quot;</td><td>1</td><td>&quot;a&quot;</td><td>BetaBernoulliModel(alpha=967, beta=15762)</td><td>0.0</td><td>32.037273</td></tr><tr><td>&quot;TTTTT&quot;</td><td>2</td><td>&quot;a&quot;</td><td>BetaBernoulliModel(alpha=757, beta=15972)</td><td>0.0</td><td>28.158937</td></tr><tr><td>&quot;TTTTT&quot;</td><td>3</td><td>&quot;a&quot;</td><td>BetaBernoulliModel(alpha=764, beta=15965)</td><td>0.0</td><td>28.295032</td></tr><tr><td>&quot;TTTTT&quot;</td><td>4</td><td>&quot;a&quot;</td><td>BetaBernoulliModel(alpha=689, beta=16040)</td><td>0.0</td><td>26.807444</td></tr></tbody></table></div>"
      ],
      "text/plain": [
       "shape: (6_372, 6)\n",
       "┌───────┬──────────────────┬──────────┬─────────────────────────────────┬───────────┬──────────────┐\n",
       "│ motif ┆ motif_meth_index ┆ mod_type ┆ posterior                       ┆ cdf_score ┆ signal_noise │\n",
       "│ ---   ┆ ---              ┆ ---      ┆ ---                             ┆ ---       ┆ ---          │\n",
       "│ str   ┆ i64              ┆ str      ┆ object                          ┆ f64       ┆ f64          │\n",
       "╞═══════╪══════════════════╪══════════╪═════════════════════════════════╪═══════════╪══════════════╡\n",
       "│ GATC  ┆ 1                ┆ a        ┆ BetaBernoulliModel(alpha=37562, ┆ 1.0       ┆ 1445.112081  │\n",
       "│       ┆                  ┆          ┆ …                               ┆           ┆              │\n",
       "│ AGATC ┆ 2                ┆ a        ┆ BetaBernoulliModel(alpha=7712,  ┆ 1.0       ┆ 581.524892   │\n",
       "│       ┆                  ┆          ┆ b…                              ┆           ┆              │\n",
       "│ CGATC ┆ 2                ┆ a        ┆ BetaBernoulliModel(alpha=10676, ┆ 1.0       ┆ 680.446877   │\n",
       "│       ┆                  ┆          ┆ …                               ┆           ┆              │\n",
       "│ GATCA ┆ 1                ┆ a        ┆ BetaBernoulliModel(alpha=10913, ┆ 1.0       ┆ 705.020385   │\n",
       "│       ┆                  ┆          ┆ …                               ┆           ┆              │\n",
       "│ …     ┆ …                ┆ …        ┆ …                               ┆ …         ┆ …            │\n",
       "│ TTTTT ┆ 1                ┆ a        ┆ BetaBernoulliModel(alpha=967,   ┆ 0.0       ┆ 32.037273    │\n",
       "│       ┆                  ┆          ┆ be…                             ┆           ┆              │\n",
       "│ TTTTT ┆ 2                ┆ a        ┆ BetaBernoulliModel(alpha=757,   ┆ 0.0       ┆ 28.158937    │\n",
       "│       ┆                  ┆          ┆ be…                             ┆           ┆              │\n",
       "│ TTTTT ┆ 3                ┆ a        ┆ BetaBernoulliModel(alpha=764,   ┆ 0.0       ┆ 28.295032    │\n",
       "│       ┆                  ┆          ┆ be…                             ┆           ┆              │\n",
       "│ TTTTT ┆ 4                ┆ a        ┆ BetaBernoulliModel(alpha=689,   ┆ 0.0       ┆ 26.807444    │\n",
       "│       ┆                  ┆          ┆ be…                             ┆           ┆              │\n",
       "└───────┴──────────────────┴──────────┴─────────────────────────────────┴───────────┴──────────────┘"
      ]
     },
     "execution_count": 5,
     "metadata": {},
     "output_type": "execute_result"
    }
   ],
   "source": [
    "scored_candidates = scored_candidates.with_columns(\n",
    "    pl.col(\"posterior\").apply(lambda model: 1 - model.cdf(0.5)).alias(\"cdf_score\"),\n",
    "    pl.col(\"posterior\").apply(lambda model: model.mean() / model.standard_deviation()).alias(\"signal_noise\"),\n",
    ").sort(pl.col(\"cdf_score\"), descending = True)\n",
    "scored_candidates"
   ]
  },
  {
   "cell_type": "code",
   "execution_count": null,
   "metadata": {},
   "outputs": [
    {
     "data": {
      "text/html": [
       "<div><style>\n",
       ".dataframe > thead > tr > th,\n",
       ".dataframe > tbody > tr > td {\n",
       "  text-align: right;\n",
       "}\n",
       "</style>\n",
       "<small>shape: (9, 6)</small><table border=\"1\" class=\"dataframe\"><thead><tr><th>motif</th><th>motif_meth_index</th><th>mod_type</th><th>posterior</th><th>cdf_score</th><th>signal_noise</th></tr><tr><td>str</td><td>i64</td><td>str</td><td>object</td><td>f64</td><td>f64</td></tr></thead><tbody><tr><td>&quot;GATC&quot;</td><td>1</td><td>&quot;a&quot;</td><td>BetaBernoulliModel(alpha=37562, beta=688)</td><td>1.0</td><td>1445.112081</td></tr><tr><td>&quot;AGATC&quot;</td><td>2</td><td>&quot;a&quot;</td><td>BetaBernoulliModel(alpha=7712, beta=180)</td><td>1.0</td><td>581.524892</td></tr><tr><td>&quot;CGATC&quot;</td><td>2</td><td>&quot;a&quot;</td><td>BetaBernoulliModel(alpha=10676, beta=252)</td><td>1.0</td><td>680.446877</td></tr><tr><td>&quot;GATCA&quot;</td><td>1</td><td>&quot;a&quot;</td><td>BetaBernoulliModel(alpha=10913, beta=245)</td><td>1.0</td><td>705.020385</td></tr><tr><td>&quot;GATCC&quot;</td><td>1</td><td>&quot;a&quot;</td><td>BetaBernoulliModel(alpha=8100, beta=148)</td><td>1.0</td><td>671.911855</td></tr><tr><td>&quot;GATCG&quot;</td><td>1</td><td>&quot;a&quot;</td><td>BetaBernoulliModel(alpha=10767, beta=161)</td><td>1.0</td><td>854.918335</td></tr><tr><td>&quot;GATCT&quot;</td><td>1</td><td>&quot;a&quot;</td><td>BetaBernoulliModel(alpha=7768, beta=124)</td><td>1.0</td><td>703.177259</td></tr><tr><td>&quot;GGATC&quot;</td><td>2</td><td>&quot;a&quot;</td><td>BetaBernoulliModel(alpha=8136, beta=112)</td><td>1.0</td><td>774.100077</td></tr><tr><td>&quot;TGATC&quot;</td><td>2</td><td>&quot;a&quot;</td><td>BetaBernoulliModel(alpha=11026, beta=132)</td><td>1.0</td><td>965.460849</td></tr></tbody></table></div>"
      ],
      "text/plain": [
       "shape: (9, 6)\n",
       "┌───────┬──────────────────┬──────────┬─────────────────────────────────┬───────────┬──────────────┐\n",
       "│ motif ┆ motif_meth_index ┆ mod_type ┆ posterior                       ┆ cdf_score ┆ signal_noise │\n",
       "│ ---   ┆ ---              ┆ ---      ┆ ---                             ┆ ---       ┆ ---          │\n",
       "│ str   ┆ i64              ┆ str      ┆ object                          ┆ f64       ┆ f64          │\n",
       "╞═══════╪══════════════════╪══════════╪═════════════════════════════════╪═══════════╪══════════════╡\n",
       "│ GATC  ┆ 1                ┆ a        ┆ BetaBernoulliModel(alpha=37562, ┆ 1.0       ┆ 1445.112081  │\n",
       "│       ┆                  ┆          ┆ …                               ┆           ┆              │\n",
       "│ AGATC ┆ 2                ┆ a        ┆ BetaBernoulliModel(alpha=7712,  ┆ 1.0       ┆ 581.524892   │\n",
       "│       ┆                  ┆          ┆ b…                              ┆           ┆              │\n",
       "│ CGATC ┆ 2                ┆ a        ┆ BetaBernoulliModel(alpha=10676, ┆ 1.0       ┆ 680.446877   │\n",
       "│       ┆                  ┆          ┆ …                               ┆           ┆              │\n",
       "│ GATCA ┆ 1                ┆ a        ┆ BetaBernoulliModel(alpha=10913, ┆ 1.0       ┆ 705.020385   │\n",
       "│       ┆                  ┆          ┆ …                               ┆           ┆              │\n",
       "│ GATCC ┆ 1                ┆ a        ┆ BetaBernoulliModel(alpha=8100,  ┆ 1.0       ┆ 671.911855   │\n",
       "│       ┆                  ┆          ┆ b…                              ┆           ┆              │\n",
       "│ GATCG ┆ 1                ┆ a        ┆ BetaBernoulliModel(alpha=10767, ┆ 1.0       ┆ 854.918335   │\n",
       "│       ┆                  ┆          ┆ …                               ┆           ┆              │\n",
       "│ GATCT ┆ 1                ┆ a        ┆ BetaBernoulliModel(alpha=7768,  ┆ 1.0       ┆ 703.177259   │\n",
       "│       ┆                  ┆          ┆ b…                              ┆           ┆              │\n",
       "│ GGATC ┆ 2                ┆ a        ┆ BetaBernoulliModel(alpha=8136,  ┆ 1.0       ┆ 774.100077   │\n",
       "│       ┆                  ┆          ┆ b…                              ┆           ┆              │\n",
       "│ TGATC ┆ 2                ┆ a        ┆ BetaBernoulliModel(alpha=11026, ┆ 1.0       ┆ 965.460849   │\n",
       "│       ┆                  ┆          ┆ …                               ┆           ┆              │\n",
       "└───────┴──────────────────┴──────────┴─────────────────────────────────┴───────────┴──────────────┘"
      ]
     },
     "execution_count": 5,
     "metadata": {},
     "output_type": "execute_result"
    }
   ],
   "source": [
    "scored_candidates.filter(pl.col(\"cdf_score\") > 0.01)"
   ]
  },
  {
   "cell_type": "markdown",
   "metadata": {},
   "source": [
    "GATC is easily identified here, and the 1-CDF would only select that one. "
   ]
  },
  {
   "cell_type": "markdown",
   "metadata": {},
   "source": [
    "## 5mC\n",
    "\n",
    "We do the exact same as with 6mA, but looking at candidates up to size 5. "
   ]
  },
  {
   "cell_type": "code",
   "execution_count": null,
   "metadata": {},
   "outputs": [],
   "source": [
    "ecoli_5mC_80p = ecoli.pileup.filter(pl.col(\"mod_type\") == \"m\").filter(pl.col(\"fraction_mod\") > 0.8)\n",
    "candidates = nm.candidate.generate_random_candidates(5, \"m\")\n",
    "scored_candidates_5mC = nm.evaluate.score_candidates(ecoli_5mC_80p, assembly[\"contig_3\"], candidates)"
   ]
  },
  {
   "cell_type": "code",
   "execution_count": null,
   "metadata": {},
   "outputs": [
    {
     "data": {
      "text/html": [
       "<div><style>\n",
       ".dataframe > thead > tr > th,\n",
       ".dataframe > tbody > tr > td {\n",
       "  text-align: right;\n",
       "}\n",
       "</style>\n",
       "<small>shape: (6_372, 6)</small><table border=\"1\" class=\"dataframe\"><thead><tr><th>motif</th><th>motif_meth_index</th><th>mod_type</th><th>posterior</th><th>cdf_score</th><th>signal_noise</th></tr><tr><td>str</td><td>i64</td><td>str</td><td>object</td><td>f64</td><td>f64</td></tr></thead><tbody><tr><td>&quot;CCTGG&quot;</td><td>1</td><td>&quot;m&quot;</td><td>BetaBernoulliModel(alpha=11995, beta=54)</td><td>1.0</td><td>1636.050744</td></tr><tr><td>&quot;CCAGG&quot;</td><td>1</td><td>&quot;m&quot;</td><td>BetaBernoulliModel(alpha=11959, beta=90)</td><td>1.0</td><td>1265.376316</td></tr><tr><td>&quot;G&quot;</td><td>0</td><td>&quot;m&quot;</td><td>BetaBernoulliModel(alpha=65608, beta=2291146)</td><td>0.0</td><td>259.782107</td></tr><tr><td>&quot;A&quot;</td><td>0</td><td>&quot;m&quot;</td><td>BetaBernoulliModel(alpha=62380, beta=2221038)</td><td>0.0</td><td>253.243027</td></tr><tr><td>&quot;T&quot;</td><td>0</td><td>&quot;m&quot;</td><td>BetaBernoulliModel(alpha=49992, beta=2233426)</td><td>0.0</td><td>226.077466</td></tr><tr><td>&quot;CA&quot;</td><td>1</td><td>&quot;m&quot;</td><td>BetaBernoulliModel(alpha=25655, beta=621814)</td><td>0.0</td><td>163.442722</td></tr><tr><td>&quot;C&quot;</td><td>0</td><td>&quot;m&quot;</td><td>BetaBernoulliModel(alpha=24572, beta=2332182)</td><td>0.0</td><td>157.578242</td></tr><tr><td>&quot;CC&quot;</td><td>1</td><td>&quot;m&quot;</td><td>BetaBernoulliModel(alpha=22383, beta=439228)</td><td>0.0</td><td>153.374332</td></tr><tr><td>&quot;CG&quot;</td><td>1</td><td>&quot;m&quot;</td><td>BetaBernoulliModel(alpha=22627, beta=670751)</td><td>0.0</td><td>152.938972</td></tr><tr><td>&quot;GA&quot;</td><td>0</td><td>&quot;m&quot;</td><td>BetaBernoulliModel(alpha=21719, beta=512899)</td><td>0.0</td><td>150.461775</td></tr><tr><td>&quot;AA&quot;</td><td>0</td><td>&quot;m&quot;</td><td>BetaBernoulliModel(alpha=17816, beta=493667)</td><td>0.0</td><td>135.863901</td></tr><tr><td>&quot;TT&quot;</td><td>1</td><td>&quot;m&quot;</td><td>BetaBernoulliModel(alpha=16461, beta=495022)</td><td>0.0</td><td>130.416303</td></tr><tr><td>&hellip;</td><td>&hellip;</td><td>&hellip;</td><td>&hellip;</td><td>&hellip;</td><td>&hellip;</td></tr><tr><td>&quot;CGCT&quot;</td><td>0</td><td>&quot;m&quot;</td><td>BetaBernoulliModel(alpha=1, beta=53407)</td><td>0.0</td><td>1.000019</td></tr><tr><td>&quot;TTGC&quot;</td><td>3</td><td>&quot;m&quot;</td><td>BetaBernoulliModel(alpha=1, beta=54358)</td><td>0.0</td><td>1.000018</td></tr><tr><td>&quot;TTTC&quot;</td><td>3</td><td>&quot;m&quot;</td><td>BetaBernoulliModel(alpha=1, beta=54805)</td><td>0.0</td><td>1.000018</td></tr><tr><td>&quot;CCGC&quot;</td><td>1</td><td>&quot;m&quot;</td><td>BetaBernoulliModel(alpha=1, beta=55189)</td><td>0.0</td><td>1.000018</td></tr><tr><td>&quot;GCGC&quot;</td><td>1</td><td>&quot;m&quot;</td><td>BetaBernoulliModel(alpha=1, beta=65565)</td><td>0.0</td><td>1.000015</td></tr><tr><td>&quot;CGCC&quot;</td><td>0</td><td>&quot;m&quot;</td><td>BetaBernoulliModel(alpha=1, beta=67251)</td><td>0.0</td><td>1.000015</td></tr><tr><td>&quot;ACT&quot;</td><td>1</td><td>&quot;m&quot;</td><td>BetaBernoulliModel(alpha=1, beta=99642)</td><td>0.0</td><td>1.00001</td></tr><tr><td>&quot;TAC&quot;</td><td>2</td><td>&quot;m&quot;</td><td>BetaBernoulliModel(alpha=1, beta=105268)</td><td>0.0</td><td>1.000009</td></tr><tr><td>&quot;GAC&quot;</td><td>2</td><td>&quot;m&quot;</td><td>BetaBernoulliModel(alpha=1, beta=108964)</td><td>0.0</td><td>1.000009</td></tr><tr><td>&quot;CGT&quot;</td><td>0</td><td>&quot;m&quot;</td><td>BetaBernoulliModel(alpha=1, beta=146411)</td><td>0.0</td><td>1.000007</td></tr><tr><td>&quot;AAC&quot;</td><td>2</td><td>&quot;m&quot;</td><td>BetaBernoulliModel(alpha=1, beta=165190)</td><td>0.0</td><td>1.000006</td></tr><tr><td>&quot;CGC&quot;</td><td>0</td><td>&quot;m&quot;</td><td>BetaBernoulliModel(alpha=1, beta=212874)</td><td>0.0</td><td>1.000005</td></tr></tbody></table></div>"
      ],
      "text/plain": [
       "shape: (6_372, 6)\n",
       "┌───────┬──────────────────┬──────────┬─────────────────────────────────┬───────────┬──────────────┐\n",
       "│ motif ┆ motif_meth_index ┆ mod_type ┆ posterior                       ┆ cdf_score ┆ signal_noise │\n",
       "│ ---   ┆ ---              ┆ ---      ┆ ---                             ┆ ---       ┆ ---          │\n",
       "│ str   ┆ i64              ┆ str      ┆ object                          ┆ f64       ┆ f64          │\n",
       "╞═══════╪══════════════════╪══════════╪═════════════════════════════════╪═══════════╪══════════════╡\n",
       "│ CCTGG ┆ 1                ┆ m        ┆ BetaBernoulliModel(alpha=11995, ┆ 1.0       ┆ 1636.050744  │\n",
       "│       ┆                  ┆          ┆ …                               ┆           ┆              │\n",
       "│ CCAGG ┆ 1                ┆ m        ┆ BetaBernoulliModel(alpha=11959, ┆ 1.0       ┆ 1265.376316  │\n",
       "│       ┆                  ┆          ┆ …                               ┆           ┆              │\n",
       "│ G     ┆ 0                ┆ m        ┆ BetaBernoulliModel(alpha=65608, ┆ 0.0       ┆ 259.782107   │\n",
       "│       ┆                  ┆          ┆ …                               ┆           ┆              │\n",
       "│ A     ┆ 0                ┆ m        ┆ BetaBernoulliModel(alpha=62380, ┆ 0.0       ┆ 253.243027   │\n",
       "│       ┆                  ┆          ┆ …                               ┆           ┆              │\n",
       "│ …     ┆ …                ┆ …        ┆ …                               ┆ …         ┆ …            │\n",
       "│ GAC   ┆ 2                ┆ m        ┆ BetaBernoulliModel(alpha=1,     ┆ 0.0       ┆ 1.000009     │\n",
       "│       ┆                  ┆          ┆ beta…                           ┆           ┆              │\n",
       "│ CGT   ┆ 0                ┆ m        ┆ BetaBernoulliModel(alpha=1,     ┆ 0.0       ┆ 1.000007     │\n",
       "│       ┆                  ┆          ┆ beta…                           ┆           ┆              │\n",
       "│ AAC   ┆ 2                ┆ m        ┆ BetaBernoulliModel(alpha=1,     ┆ 0.0       ┆ 1.000006     │\n",
       "│       ┆                  ┆          ┆ beta…                           ┆           ┆              │\n",
       "│ CGC   ┆ 0                ┆ m        ┆ BetaBernoulliModel(alpha=1,     ┆ 0.0       ┆ 1.000005     │\n",
       "│       ┆                  ┆          ┆ beta…                           ┆           ┆              │\n",
       "└───────┴──────────────────┴──────────┴─────────────────────────────────┴───────────┴──────────────┘"
      ]
     },
     "execution_count": 7,
     "metadata": {},
     "output_type": "execute_result"
    }
   ],
   "source": [
    "scored_candidates_5mC = scored_candidates_5mC.with_columns(\n",
    "    pl.col(\"posterior\").apply(lambda model: 1 - model.cdf(0.5)).alias(\"cdf_score\"),\n",
    "    pl.col(\"posterior\").apply(lambda model: model.mean() / model.standard_deviation()).alias(\"signal_noise\"),\n",
    ").sort(pl.col(\"signal_noise\"), descending = True)\n",
    "scored_candidates_5mC"
   ]
  },
  {
   "cell_type": "code",
   "execution_count": null,
   "metadata": {},
   "outputs": [
    {
     "data": {
      "text/html": [
       "<div><style>\n",
       ".dataframe > thead > tr > th,\n",
       ".dataframe > tbody > tr > td {\n",
       "  text-align: right;\n",
       "}\n",
       "</style>\n",
       "<small>shape: (2, 6)</small><table border=\"1\" class=\"dataframe\"><thead><tr><th>motif</th><th>motif_meth_index</th><th>mod_type</th><th>posterior</th><th>cdf_score</th><th>signal_noise</th></tr><tr><td>str</td><td>i64</td><td>str</td><td>object</td><td>f64</td><td>f64</td></tr></thead><tbody><tr><td>&quot;CCTGG&quot;</td><td>1</td><td>&quot;m&quot;</td><td>BetaBernoulliModel(alpha=11995, beta=54)</td><td>1.0</td><td>1636.050744</td></tr><tr><td>&quot;CCAGG&quot;</td><td>1</td><td>&quot;m&quot;</td><td>BetaBernoulliModel(alpha=11959, beta=90)</td><td>1.0</td><td>1265.376316</td></tr></tbody></table></div>"
      ],
      "text/plain": [
       "shape: (2, 6)\n",
       "┌───────┬──────────────────┬──────────┬─────────────────────────────────┬───────────┬──────────────┐\n",
       "│ motif ┆ motif_meth_index ┆ mod_type ┆ posterior                       ┆ cdf_score ┆ signal_noise │\n",
       "│ ---   ┆ ---              ┆ ---      ┆ ---                             ┆ ---       ┆ ---          │\n",
       "│ str   ┆ i64              ┆ str      ┆ object                          ┆ f64       ┆ f64          │\n",
       "╞═══════╪══════════════════╪══════════╪═════════════════════════════════╪═══════════╪══════════════╡\n",
       "│ CCTGG ┆ 1                ┆ m        ┆ BetaBernoulliModel(alpha=11995, ┆ 1.0       ┆ 1636.050744  │\n",
       "│       ┆                  ┆          ┆ …                               ┆           ┆              │\n",
       "│ CCAGG ┆ 1                ┆ m        ┆ BetaBernoulliModel(alpha=11959, ┆ 1.0       ┆ 1265.376316  │\n",
       "│       ┆                  ┆          ┆ …                               ┆           ┆              │\n",
       "└───────┴──────────────────┴──────────┴─────────────────────────────────┴───────────┴──────────────┘"
      ]
     },
     "execution_count": 8,
     "metadata": {},
     "output_type": "execute_result"
    }
   ],
   "source": [
    "scored_candidates_5mC.filter(pl.col(\"cdf_score\") > 0.01)"
   ]
  },
  {
   "cell_type": "markdown",
   "metadata": {},
   "source": [
    "Again we see the two expected motif clearly at the top, CCAGG and CCTGG. "
   ]
  },
  {
   "cell_type": "markdown",
   "metadata": {},
   "source": [
    "# M. ruber\n",
    "\n",
    "## Known Methylated Motifs\n",
    "\n",
    "6mA modified motifs informed by provider of the samples\n",
    "* CTCG6mAG\n",
    "* G6mATC\n",
    "* A6mATT \n",
    "* TTA6mA\n",
    "\n",
    "Additionaly, the following methylation information from [The Epigenomic Landscape of Prokaryotes](https://journals.plos.org/plosgenetics/article?id=10.1371/journal.pgen.1005854#sec030), [sup 3](https://doi.org/10.1371/journal.pgen.1005854.s014) is available.\n",
    "\n",
    "| Organism                    | ID       | 141  | Locus_Tag | Methyltransferase  | Type | Methylation | Motif      | Percent | Activity         | Notes               |\n",
    "|-----------------------------|----------|------|-----------|--------------------|------|-------------|------------|---------|------------------|---------------------|\n",
    "| Meiothermus ruber DSM 1279  | 646564545| 141  | Mrub_2398 | M.Mru1279V         | II   | m4C         | rGatCy     | 92.1    | active           | Mru1279VP           |\n",
    "|                             |          |      | Mrub_2385 | M.Mru1279II        | II   | m6A         | **cTcgAg**     | 99.5    | active           |                     |\n",
    "|                             |          |      | Mrub_1464 | M.Mru1279VII       | II   | m6A         | **gATc**       | 80.7    | active           |                     |\n",
    "|                             |          |      | Mrub_1513 | M.Mru1279VI        | II   | m6A         | **TtaA**       | 99.9    | active           |                     |\n",
    "|                             |          |      | Mrub_2453 | M.Mru1279I         | I    | m6A         | **ggcAnnnnnnTgg** | 99.8  | active           | S.Mru1279I,Mru1279IP |\n",
    "|                             |          |      | Mrub_0831 | M.Mru1279III       | II   | m6A         | **aATt**       | 99      | active           |                     |\n",
    "|                             |          |      | Mrub_2576 | M.Mru1279IV        | II   | m4C         | caGCtg     | 98.5    | active           |                     |\n",
    "|                             |          |      | Mrub_2712 | M.Mru1279ORF2712P  | II   | m5C         | GGWCC      | N/A     | Not Detected     | Mru1279ORF2712P     |\n",
    "|                             |          |      | Mrub_1239 | Mru1279ORF1239P    | IIG* | m6A         | (Unknown)  | N/A     | possibly active  |                     |\n",
    "|                             |          |      | Mrub_0580 | M.Mru1279ORF580P   | III  | m6A         | (Unknown)  | N/A     | possibly active  | Mru1279ORF580P      |\n",
    "|                             |          |      | Mrub_0441 | Mru1279ORF441P     | IIG* | m6A         | (Unknown)  | N/A     | possibly active  |                     |\n",
    "\n",
    "\n"
   ]
  },
  {
   "cell_type": "code",
   "execution_count": null,
   "metadata": {},
   "outputs": [],
   "source": [
    "mruber_assembly = nm.load_assembly(\"../data/mruber/assembly.polished.fasta\")\n",
    "mruber_pileup = nm.load_pileup(\"../data/mruber/modkit.pileup.bed\")"
   ]
  },
  {
   "cell_type": "code",
   "execution_count": null,
   "metadata": {},
   "outputs": [],
   "source": [
    "mruber_pileup_6mA_80 = mruber_pileup.pileup.filter(pl.col(\"mod_type\") == \"a\").filter(pl.col(\"fraction_mod\") > 0.7)\n",
    "candidates = nm.candidate.generate_random_candidates(4, \"a\")\n",
    "candidates.add_candidates([\"CTCGAG\"], [4], [\"a\"])\n",
    "candidates.add_candidates([\"GGCA\" + \"[ATGC]\"*6 + \"TGG\"], [3], [\"a\"])"
   ]
  },
  {
   "cell_type": "code",
   "execution_count": null,
   "metadata": {},
   "outputs": [],
   "source": [
    "scored_candidates_6mA = nm.evaluate.score_candidates(mruber_pileup_6mA_80, mruber_assembly[\"contig_1\"], candidates)"
   ]
  },
  {
   "cell_type": "code",
   "execution_count": null,
   "metadata": {},
   "outputs": [
    {
     "data": {
      "text/html": [
       "<div><style>\n",
       ".dataframe > thead > tr > th,\n",
       ".dataframe > tbody > tr > td {\n",
       "  text-align: right;\n",
       "}\n",
       "</style>\n",
       "<small>shape: (1_254, 6)</small><table border=\"1\" class=\"dataframe\"><thead><tr><th>motif</th><th>motif_meth_index</th><th>mod_type</th><th>posterior</th><th>cdf_score</th><th>signal_noise</th></tr><tr><td>str</td><td>i64</td><td>str</td><td>object</td><td>f64</td><td>f64</td></tr></thead><tbody><tr><td>&quot;CTCGAG&quot;</td><td>4</td><td>&quot;a&quot;</td><td>BetaBernoulliModel(alpha=14416, beta=650)</td><td>1.0</td><td>578.068231</td></tr><tr><td>&quot;AATT&quot;</td><td>1</td><td>&quot;a&quot;</td><td>BetaBernoulliModel(alpha=6044, beta=138)</td><td>1.0</td><td>520.38205</td></tr><tr><td>&quot;C&quot;</td><td>0</td><td>&quot;a&quot;</td><td>BetaBernoulliModel(alpha=193560, beta=1769685)</td><td>0.0</td><td>463.39056</td></tr><tr><td>&quot;G&quot;</td><td>0</td><td>&quot;a&quot;</td><td>BetaBernoulliModel(alpha=184361, beta=1778884)</td><td>0.0</td><td>451.07429</td></tr><tr><td>&quot;T&quot;</td><td>0</td><td>&quot;a&quot;</td><td>BetaBernoulliModel(alpha=108905, beta=1025321)</td><td>0.0</td><td>347.091497</td></tr><tr><td>&quot;TTAA&quot;</td><td>3</td><td>&quot;a&quot;</td><td>BetaBernoulliModel(alpha=4447, beta=193)</td><td>1.0</td><td>327.009745</td></tr><tr><td>&quot;CC&quot;</td><td>1</td><td>&quot;a&quot;</td><td>BetaBernoulliModel(alpha=69486, beta=451957)</td><td>0.0</td><td>283.141765</td></tr><tr><td>&quot;GATC&quot;</td><td>1</td><td>&quot;a&quot;</td><td>BetaBernoulliModel(alpha=15166, beta=4254)</td><td>1.0</td><td>263.13134</td></tr><tr><td>&quot;GG&quot;</td><td>0</td><td>&quot;a&quot;</td><td>BetaBernoulliModel(alpha=59134, beta=462309)</td><td>0.0</td><td>258.259492</td></tr><tr><td>&quot;AG&quot;</td><td>1</td><td>&quot;a&quot;</td><td>BetaBernoulliModel(alpha=56035, beta=325868)</td><td>0.0</td><td>256.263017</td></tr><tr><td>&quot;GC&quot;</td><td>0</td><td>&quot;a&quot;</td><td>BetaBernoulliModel(alpha=59686, beta=615528)</td><td>0.0</td><td>255.87825</td></tr><tr><td>&quot;CG&quot;</td><td>0</td><td>&quot;a&quot;</td><td>BetaBernoulliModel(alpha=55451, beta=437709)</td><td>0.0</td><td>249.951827</td></tr><tr><td>&hellip;</td><td>&hellip;</td><td>&hellip;</td><td>&hellip;</td><td>&hellip;</td><td>&hellip;</td></tr><tr><td>&quot;CTAA&quot;</td><td>2</td><td>&quot;a&quot;</td><td>BetaBernoulliModel(alpha=5, beta=5483)</td><td>0.0</td><td>2.237291</td></tr><tr><td>&quot;ATAT&quot;</td><td>2</td><td>&quot;a&quot;</td><td>BetaBernoulliModel(alpha=5, beta=5521)</td><td>0.0</td><td>2.237283</td></tr><tr><td>&quot;TACA&quot;</td><td>3</td><td>&quot;a&quot;</td><td>BetaBernoulliModel(alpha=4, beta=11117)</td><td>0.0</td><td>2.00045</td></tr><tr><td>&quot;ACAC&quot;</td><td>2</td><td>&quot;a&quot;</td><td>BetaBernoulliModel(alpha=4, beta=11270)</td><td>0.0</td><td>2.000444</td></tr><tr><td>&quot;AATA&quot;</td><td>3</td><td>&quot;a&quot;</td><td>BetaBernoulliModel(alpha=3, beta=5770)</td><td>0.0</td><td>1.732651</td></tr><tr><td>&quot;GACA&quot;</td><td>1</td><td>&quot;a&quot;</td><td>BetaBernoulliModel(alpha=3, beta=8946)</td><td>0.0</td><td>1.732438</td></tr><tr><td>&quot;ATAA&quot;</td><td>2</td><td>&quot;a&quot;</td><td>BetaBernoulliModel(alpha=2, beta=7044)</td><td>0.0</td><td>1.414515</td></tr><tr><td>&quot;CACA&quot;</td><td>3</td><td>&quot;a&quot;</td><td>BetaBernoulliModel(alpha=2, beta=14321)</td><td>0.0</td><td>1.414362</td></tr><tr><td>&quot;TATA&quot;</td><td>3</td><td>&quot;a&quot;</td><td>BetaBernoulliModel(alpha=1, beta=5035)</td><td>0.0</td><td>1.000199</td></tr><tr><td>&quot;ACAT&quot;</td><td>2</td><td>&quot;a&quot;</td><td>BetaBernoulliModel(alpha=1, beta=9805)</td><td>0.0</td><td>1.000102</td></tr><tr><td>&quot;ACAA&quot;</td><td>2</td><td>&quot;a&quot;</td><td>BetaBernoulliModel(alpha=1, beta=12855)</td><td>0.0</td><td>1.000078</td></tr><tr><td>&quot;AACA&quot;</td><td>3</td><td>&quot;a&quot;</td><td>BetaBernoulliModel(alpha=1, beta=13359)</td><td>0.0</td><td>1.000075</td></tr></tbody></table></div>"
      ],
      "text/plain": [
       "shape: (1_254, 6)\n",
       "┌────────┬──────────────────┬──────────┬────────────────────────────────┬───────────┬──────────────┐\n",
       "│ motif  ┆ motif_meth_index ┆ mod_type ┆ posterior                      ┆ cdf_score ┆ signal_noise │\n",
       "│ ---    ┆ ---              ┆ ---      ┆ ---                            ┆ ---       ┆ ---          │\n",
       "│ str    ┆ i64              ┆ str      ┆ object                         ┆ f64       ┆ f64          │\n",
       "╞════════╪══════════════════╪══════════╪════════════════════════════════╪═══════════╪══════════════╡\n",
       "│ CTCGAG ┆ 4                ┆ a        ┆ BetaBernoulliModel(alpha=14416 ┆ 1.0       ┆ 578.068231   │\n",
       "│        ┆                  ┆          ┆ , …                            ┆           ┆              │\n",
       "│ AATT   ┆ 1                ┆ a        ┆ BetaBernoulliModel(alpha=6044, ┆ 1.0       ┆ 520.38205    │\n",
       "│        ┆                  ┆          ┆ b…                             ┆           ┆              │\n",
       "│ C      ┆ 0                ┆ a        ┆ BetaBernoulliModel(alpha=19356 ┆ 0.0       ┆ 463.39056    │\n",
       "│        ┆                  ┆          ┆ 0,…                            ┆           ┆              │\n",
       "│ G      ┆ 0                ┆ a        ┆ BetaBernoulliModel(alpha=18436 ┆ 0.0       ┆ 451.07429    │\n",
       "│        ┆                  ┆          ┆ 1,…                            ┆           ┆              │\n",
       "│ …      ┆ …                ┆ …        ┆ …                              ┆ …         ┆ …            │\n",
       "│ TATA   ┆ 3                ┆ a        ┆ BetaBernoulliModel(alpha=1,    ┆ 0.0       ┆ 1.000199     │\n",
       "│        ┆                  ┆          ┆ beta…                          ┆           ┆              │\n",
       "│ ACAT   ┆ 2                ┆ a        ┆ BetaBernoulliModel(alpha=1,    ┆ 0.0       ┆ 1.000102     │\n",
       "│        ┆                  ┆          ┆ beta…                          ┆           ┆              │\n",
       "│ ACAA   ┆ 2                ┆ a        ┆ BetaBernoulliModel(alpha=1,    ┆ 0.0       ┆ 1.000078     │\n",
       "│        ┆                  ┆          ┆ beta…                          ┆           ┆              │\n",
       "│ AACA   ┆ 3                ┆ a        ┆ BetaBernoulliModel(alpha=1,    ┆ 0.0       ┆ 1.000075     │\n",
       "│        ┆                  ┆          ┆ beta…                          ┆           ┆              │\n",
       "└────────┴──────────────────┴──────────┴────────────────────────────────┴───────────┴──────────────┘"
      ]
     },
     "execution_count": 12,
     "metadata": {},
     "output_type": "execute_result"
    }
   ],
   "source": [
    "scored_candidates_6mA = scored_candidates_6mA.with_columns(\n",
    "    pl.col(\"posterior\").apply(lambda model: 1 - model.cdf(0.5)).alias(\"cdf_score\"),\n",
    "    pl.col(\"posterior\").apply(lambda model: model.mean() / model.standard_deviation()).alias(\"signal_noise\"),\n",
    ").sort(pl.col(\"signal_noise\"), descending = True)\n",
    "scored_candidates_6mA"
   ]
  },
  {
   "cell_type": "code",
   "execution_count": null,
   "metadata": {},
   "outputs": [
    {
     "data": {
      "text/html": [
       "<div><style>\n",
       ".dataframe > thead > tr > th,\n",
       ".dataframe > tbody > tr > td {\n",
       "  text-align: right;\n",
       "}\n",
       "</style>\n",
       "<small>shape: (5, 6)</small><table border=\"1\" class=\"dataframe\"><thead><tr><th>motif</th><th>motif_meth_index</th><th>mod_type</th><th>posterior</th><th>cdf_score</th><th>signal_noise</th></tr><tr><td>str</td><td>i64</td><td>str</td><td>object</td><td>f64</td><td>f64</td></tr></thead><tbody><tr><td>&quot;CTCGAG&quot;</td><td>4</td><td>&quot;a&quot;</td><td>BetaBernoulliModel(alpha=14416, beta=650)</td><td>1.0</td><td>578.068231</td></tr><tr><td>&quot;AATT&quot;</td><td>1</td><td>&quot;a&quot;</td><td>BetaBernoulliModel(alpha=6044, beta=138)</td><td>1.0</td><td>520.38205</td></tr><tr><td>&quot;TTAA&quot;</td><td>3</td><td>&quot;a&quot;</td><td>BetaBernoulliModel(alpha=4447, beta=193)</td><td>1.0</td><td>327.009745</td></tr><tr><td>&quot;GATC&quot;</td><td>1</td><td>&quot;a&quot;</td><td>BetaBernoulliModel(alpha=15166, beta=4254)</td><td>1.0</td><td>263.13134</td></tr><tr><td>&quot;GGCA[ATGC][ATG…</td><td>3</td><td>&quot;a&quot;</td><td>BetaBernoulliModel(alpha=747, beta=492)</td><td>1.0</td><td>43.389894</td></tr></tbody></table></div>"
      ],
      "text/plain": [
       "shape: (5, 6)\n",
       "┌────────────────────┬──────────────────┬──────────┬────────────────────┬───────────┬──────────────┐\n",
       "│ motif              ┆ motif_meth_index ┆ mod_type ┆ posterior          ┆ cdf_score ┆ signal_noise │\n",
       "│ ---                ┆ ---              ┆ ---      ┆ ---                ┆ ---       ┆ ---          │\n",
       "│ str                ┆ i64              ┆ str      ┆ object             ┆ f64       ┆ f64          │\n",
       "╞════════════════════╪══════════════════╪══════════╪════════════════════╪═══════════╪══════════════╡\n",
       "│ CTCGAG             ┆ 4                ┆ a        ┆ BetaBernoulliModel ┆ 1.0       ┆ 578.068231   │\n",
       "│                    ┆                  ┆          ┆ (alpha=14416, …    ┆           ┆              │\n",
       "│ AATT               ┆ 1                ┆ a        ┆ BetaBernoulliModel ┆ 1.0       ┆ 520.38205    │\n",
       "│                    ┆                  ┆          ┆ (alpha=6044, b…    ┆           ┆              │\n",
       "│ TTAA               ┆ 3                ┆ a        ┆ BetaBernoulliModel ┆ 1.0       ┆ 327.009745   │\n",
       "│                    ┆                  ┆          ┆ (alpha=4447, b…    ┆           ┆              │\n",
       "│ GATC               ┆ 1                ┆ a        ┆ BetaBernoulliModel ┆ 1.0       ┆ 263.13134    │\n",
       "│                    ┆                  ┆          ┆ (alpha=15166, …    ┆           ┆              │\n",
       "│ GGCA[ATGC][ATGC][A ┆ 3                ┆ a        ┆ BetaBernoulliModel ┆ 1.0       ┆ 43.389894    │\n",
       "│ TGC][ATGC][ATG…    ┆                  ┆          ┆ (alpha=747, be…    ┆           ┆              │\n",
       "└────────────────────┴──────────────────┴──────────┴────────────────────┴───────────┴──────────────┘"
      ]
     },
     "execution_count": 13,
     "metadata": {},
     "output_type": "execute_result"
    }
   ],
   "source": [
    "scored_candidates_6mA.filter(pl.col(\"cdf_score\") > 0.5)"
   ]
  },
  {
   "cell_type": "code",
   "execution_count": null,
   "metadata": {},
   "outputs": [
    {
     "ename": "ComputeError",
     "evalue": "index is out of bounds",
     "output_type": "error",
     "traceback": [
      "\u001b[0;31m---------------------------------------------------------------------------\u001b[0m",
      "\u001b[0;31mComputeError\u001b[0m                              Traceback (most recent call last)",
      "\u001b[1;32m/user_data/sh/motif-finder/reports/betabernoulli.ipynb Cell 24\u001b[0m line \u001b[0;36m1\n\u001b[0;32m----> <a href='vscode-notebook-cell://ssh-remote%2Bbio09/user_data/sh/motif-finder/reports/betabernoulli.ipynb#X32sdnNjb2RlLXJlbW90ZQ%3D%3D?line=0'>1</a>\u001b[0m ax \u001b[39m=\u001b[39m scored_candidates_6mA\u001b[39m.\u001b[39;49mfilter(pl\u001b[39m.\u001b[39;49mcol(\u001b[39m\"\u001b[39;49m\u001b[39mmotif\u001b[39;49m\u001b[39m\"\u001b[39;49m) \u001b[39m==\u001b[39;49m \u001b[39m\"\u001b[39;49m\u001b[39mGGCA\u001b[39;49m\u001b[39m\"\u001b[39;49m \u001b[39m+\u001b[39;49m \u001b[39m\"\u001b[39;49m\u001b[39m.\u001b[39;49m\u001b[39m\"\u001b[39;49m\u001b[39m*\u001b[39;49m\u001b[39m6\u001b[39;49m \u001b[39m+\u001b[39;49m \u001b[39m\"\u001b[39;49m\u001b[39mTGG\u001b[39;49m\u001b[39m\"\u001b[39;49m) \\\n\u001b[1;32m      <a href='vscode-notebook-cell://ssh-remote%2Bbio09/user_data/sh/motif-finder/reports/betabernoulli.ipynb#X32sdnNjb2RlLXJlbW90ZQ%3D%3D?line=1'>2</a>\u001b[0m     \u001b[39m.\u001b[39;49mget_column(\u001b[39m\"\u001b[39;49m\u001b[39mposterior\u001b[39;49m\u001b[39m\"\u001b[39;49m)[\u001b[39m0\u001b[39;49m]\u001b[39m.\u001b[39mplot();\n\u001b[1;32m      <a href='vscode-notebook-cell://ssh-remote%2Bbio09/user_data/sh/motif-finder/reports/betabernoulli.ipynb#X32sdnNjb2RlLXJlbW90ZQ%3D%3D?line=2'>3</a>\u001b[0m ax\u001b[39m.\u001b[39mset_title(\u001b[39m\"\u001b[39m\u001b[39mGGCANNNNNNTGG Beta distrubution\u001b[39m\u001b[39m\"\u001b[39m);\n",
      "File \u001b[0;32m/user_data/sh/conda_env/modification-binning/lib/python3.9/site-packages/polars/series/series.py:1012\u001b[0m, in \u001b[0;36mSeries.__getitem__\u001b[0;34m(self, item)\u001b[0m\n\u001b[1;32m   1010\u001b[0m     \u001b[39mif\u001b[39;00m item \u001b[39m<\u001b[39m \u001b[39m0\u001b[39m:\n\u001b[1;32m   1011\u001b[0m         item \u001b[39m=\u001b[39m \u001b[39mself\u001b[39m\u001b[39m.\u001b[39mlen() \u001b[39m+\u001b[39m item\n\u001b[0;32m-> 1012\u001b[0m     \u001b[39mreturn\u001b[39;00m \u001b[39mself\u001b[39;49m\u001b[39m.\u001b[39;49m_s\u001b[39m.\u001b[39;49mget_idx(item)\n\u001b[1;32m   1014\u001b[0m \u001b[39m# Slice.\u001b[39;00m\n\u001b[1;32m   1015\u001b[0m \u001b[39melif\u001b[39;00m \u001b[39misinstance\u001b[39m(item, \u001b[39mslice\u001b[39m):\n",
      "\u001b[0;31mComputeError\u001b[0m: index is out of bounds"
     ]
    }
   ],
   "source": [
    "ax = scored_candidates_6mA.filter(pl.col(\"motif\") == \"GGCA\" + \".\"*6 + \"TGG\") \\\n",
    "    .get_column(\"posterior\")[0].plot();\n",
    "ax.set_title(\"GGCANNNNNNTGG Beta distrubution\");"
   ]
  },
  {
   "cell_type": "markdown",
   "metadata": {},
   "source": [
    "The expected candidates nicely show up. \n",
    "\n",
    "## Smaller contigs\n",
    "\n",
    "Lets simulate having more contigs. But still the some coverage."
   ]
  },
  {
   "cell_type": "code",
   "execution_count": null,
   "metadata": {},
   "outputs": [],
   "source": [
    "# Original contig\n",
    "parent_contig = mruber_assembly[\"contig_1\"]\n",
    "\n",
    "# Size of subcontigs\n",
    "contigs_size = 50000\n",
    "\n",
    "n_child_contigs = len(parent_contig) // contigs_size + 1\n",
    "sim_contig_scores = []\n",
    "for i in range(n_child_contigs - 1):\n",
    "    sub_contig = parent_contig[i*contigs_size : min(((i+1)*contigs_size - 1), len(parent_contig)-1)]\n",
    "    # Substract index of subcontig start to methylation positions, to make sure motif index match\n",
    "    temp_pileup = mruber_pileup_6mA_80.with_columns(\n",
    "        pl.col(\"position\") - i*contigs_size\n",
    "    )\n",
    "    sim_contig_scores.append(nm.evaluate.score_candidates(temp_pileup, sub_contig, candidates))\n",
    "    "
   ]
  },
  {
   "cell_type": "code",
   "execution_count": null,
   "metadata": {},
   "outputs": [],
   "source": [
    "result = []\n",
    "for i, contig_candidates in enumerate(sim_contig_scores):\n",
    "    result.append(\n",
    "        contig_candidates.with_columns(\n",
    "            pl.col(\"posterior\").apply(lambda model: 1 - model.cdf(0.55)).alias(\"cdf_score\"),\n",
    "            pl.col(\"posterior\").apply(lambda model: model.mean() / model.standard_deviation()).alias(\"signal_noise\")\n",
    "        ).sort(pl.col(\"signal_noise\"), descending = True) \\\n",
    "        .filter(pl.col(\"cdf_score\") > 0.1) \\\n",
    "        .with_columns(\n",
    "            pl.lit(i).alias(\"sub_index\")\n",
    "        )    \n",
    "    )\n",
    "result = pl.concat(result)"
   ]
  },
  {
   "cell_type": "code",
   "execution_count": null,
   "metadata": {},
   "outputs": [
    {
     "name": "stderr",
     "output_type": "stream",
     "text": [
      "/shared_software/podman/tmp/lx38ll@bio.aau.dk/ipykernel_1281937/434150598.py:6: DeprecationWarning: In a future version of polars, the default `aggregate_function` will change from `'first'` to `None`. Please pass `'first'` to keep the current behaviour, or `None` to accept the new one.\n",
      "  result.with_columns(\n"
     ]
    },
    {
     "data": {
      "text/plain": [
       "<upsetplot.plotting.UpSet at 0x7eff4a5f3070>"
      ]
     },
     "execution_count": 17,
     "metadata": {},
     "output_type": "execute_result"
    },
    {
     "data": {
      "image/png": "[encoded data removed]",
      "text/plain": [
       "<Figure size 711.111x577.778 with 4 Axes>"
      ]
     },
     "metadata": {},
     "output_type": "display_data"
    }
   ],
   "source": [
    "from upsetplot import UpSet\n",
    "all_motifs = result.with_columns(\n",
    "        pl.col(\"motif\") + \"_\" + pl.col(\"motif_meth_index\").cast(pl.Utf8)\n",
    "        ).get_column(\"motif\").unique().to_list()\n",
    "UpSet(\n",
    "    result.with_columns(\n",
    "        pl.col(\"motif\") + \"_\" + pl.col(\"motif_meth_index\").cast(pl.Utf8),\n",
    "        pl.lit(True).alias(\"val\")\n",
    "        ) \\\n",
    "    .pivot(values = \"val\", index = \"sub_index\", columns = \"motif\") \\\n",
    "    .fill_null(False).to_pandas().set_index(all_motifs),\n",
    "    show_counts = True\n",
    ")"
   ]
  },
  {
   "cell_type": "markdown",
   "metadata": {},
   "source": [
    "# Geobacillus\n",
    "\n"
   ]
  },
  {
   "cell_type": "code",
   "execution_count": null,
   "metadata": {},
   "outputs": [],
   "source": [
    "geo_assembly = nm.load_assembly(\"../data/geobacillus/assembly.polished.fasta\")\n",
    "geo_pileup = nm.load_pileup(\"../data/geobacillus/modkit.pileup.bed\")\n",
    "geo_6ma_80p = geo_pileup.pileup.filter(pl.col(\"mod_type\") == \"a\").filter(pl.col(\"fraction_mod\") > 0.8)\n",
    "motif_candidates = nm.candidate.generate_random_candidates(5, \"a\")\n",
    "scored_candidates = nm.evaluate.score_candidates(geo_6ma_80p, geo_assembly[\"contig_3\"], motif_candidates)"
   ]
  },
  {
   "cell_type": "code",
   "execution_count": null,
   "metadata": {},
   "outputs": [
    {
     "data": {
      "text/html": [
       "<div><style>\n",
       ".dataframe > thead > tr > th,\n",
       ".dataframe > tbody > tr > td {\n",
       "  text-align: right;\n",
       "}\n",
       "</style>\n",
       "<small>shape: (10, 6)</small><table border=\"1\" class=\"dataframe\"><thead><tr><th>motif</th><th>motif_meth_index</th><th>mod_type</th><th>posterior</th><th>cdf_score</th><th>signal_noise</th></tr><tr><td>str</td><td>i64</td><td>str</td><td>object</td><td>f64</td><td>f64</td></tr></thead><tbody><tr><td>&quot;GATC&quot;</td><td>1</td><td>&quot;a&quot;</td><td>BetaBernoulliModel(alpha=610, beta=100)</td><td>1.0</td><td>65.856663</td></tr><tr><td>&quot;CGATC&quot;</td><td>2</td><td>&quot;a&quot;</td><td>BetaBernoulliModel(alpha=204, beta=24)</td><td>1.0</td><td>44.119157</td></tr><tr><td>&quot;GATCA&quot;</td><td>1</td><td>&quot;a&quot;</td><td>BetaBernoulliModel(alpha=183, beta=37)</td><td>1.0</td><td>33.061368</td></tr><tr><td>&quot;GATCC&quot;</td><td>1</td><td>&quot;a&quot;</td><td>BetaBernoulliModel(alpha=125, beta=20)</td><td>1.0</td><td>30.207615</td></tr><tr><td>&quot;GATCG&quot;</td><td>1</td><td>&quot;a&quot;</td><td>BetaBernoulliModel(alpha=208, beta=20)</td><td>1.0</td><td>48.801639</td></tr><tr><td>&quot;GGATC&quot;</td><td>2</td><td>&quot;a&quot;</td><td>BetaBernoulliModel(alpha=127, beta=18)</td><td>1.0</td><td>32.095344</td></tr><tr><td>&quot;TGATC&quot;</td><td>2</td><td>&quot;a&quot;</td><td>BetaBernoulliModel(alpha=195, beta=25)</td><td>1.0</td><td>41.51867</td></tr><tr><td>&quot;GATCT&quot;</td><td>1</td><td>&quot;a&quot;</td><td>BetaBernoulliModel(alpha=96, beta=26)</td><td>1.0</td><td>21.310886</td></tr><tr><td>&quot;AGATC&quot;</td><td>2</td><td>&quot;a&quot;</td><td>BetaBernoulliModel(alpha=87, beta=35)</td><td>0.999999</td><td>17.485504</td></tr><tr><td>&quot;ACCCA&quot;</td><td>4</td><td>&quot;a&quot;</td><td>BetaBernoulliModel(alpha=50, beta=17)</td><td>0.999983</td><td>14.142136</td></tr></tbody></table></div>"
      ],
      "text/plain": [
       "shape: (10, 6)\n",
       "┌───────┬──────────────────┬──────────┬─────────────────────────────────┬───────────┬──────────────┐\n",
       "│ motif ┆ motif_meth_index ┆ mod_type ┆ posterior                       ┆ cdf_score ┆ signal_noise │\n",
       "│ ---   ┆ ---              ┆ ---      ┆ ---                             ┆ ---       ┆ ---          │\n",
       "│ str   ┆ i64              ┆ str      ┆ object                          ┆ f64       ┆ f64          │\n",
       "╞═══════╪══════════════════╪══════════╪═════════════════════════════════╪═══════════╪══════════════╡\n",
       "│ GATC  ┆ 1                ┆ a        ┆ BetaBernoulliModel(alpha=610,   ┆ 1.0       ┆ 65.856663    │\n",
       "│       ┆                  ┆          ┆ be…                             ┆           ┆              │\n",
       "│ CGATC ┆ 2                ┆ a        ┆ BetaBernoulliModel(alpha=204,   ┆ 1.0       ┆ 44.119157    │\n",
       "│       ┆                  ┆          ┆ be…                             ┆           ┆              │\n",
       "│ GATCA ┆ 1                ┆ a        ┆ BetaBernoulliModel(alpha=183,   ┆ 1.0       ┆ 33.061368    │\n",
       "│       ┆                  ┆          ┆ be…                             ┆           ┆              │\n",
       "│ GATCC ┆ 1                ┆ a        ┆ BetaBernoulliModel(alpha=125,   ┆ 1.0       ┆ 30.207615    │\n",
       "│       ┆                  ┆          ┆ be…                             ┆           ┆              │\n",
       "│ …     ┆ …                ┆ …        ┆ …                               ┆ …         ┆ …            │\n",
       "│ TGATC ┆ 2                ┆ a        ┆ BetaBernoulliModel(alpha=195,   ┆ 1.0       ┆ 41.51867     │\n",
       "│       ┆                  ┆          ┆ be…                             ┆           ┆              │\n",
       "│ GATCT ┆ 1                ┆ a        ┆ BetaBernoulliModel(alpha=96,    ┆ 1.0       ┆ 21.310886    │\n",
       "│       ┆                  ┆          ┆ bet…                            ┆           ┆              │\n",
       "│ AGATC ┆ 2                ┆ a        ┆ BetaBernoulliModel(alpha=87,    ┆ 0.999999  ┆ 17.485504    │\n",
       "│       ┆                  ┆          ┆ bet…                            ┆           ┆              │\n",
       "│ ACCCA ┆ 4                ┆ a        ┆ BetaBernoulliModel(alpha=50,    ┆ 0.999983  ┆ 14.142136    │\n",
       "│       ┆                  ┆          ┆ bet…                            ┆           ┆              │\n",
       "└───────┴──────────────────┴──────────┴─────────────────────────────────┴───────────┴──────────────┘"
      ]
     },
     "execution_count": 20,
     "metadata": {},
     "output_type": "execute_result"
    }
   ],
   "source": [
    "scored_candidates.with_columns(\n",
    "    pl.col(\"posterior\").apply(lambda model: 1 - model.cdf(0.5)).alias(\"cdf_score\"),\n",
    "    pl.col(\"posterior\").apply(lambda model: model.mean() / model.standard_deviation()).alias(\"signal_noise\"),\n",
    ").sort(pl.col(\"cdf_score\"), descending = True).filter(pl.col(\"cdf_score\") > 0.1)"
   ]
  },
  {
   "cell_type": "code",
   "execution_count": null,
   "metadata": {},
   "outputs": [
    {
     "data": {
      "text/plain": [
       "['C', 'G', 'T', 'A']"
      ]
     },
     "execution_count": 23,
     "metadata": {},
     "output_type": "execute_result"
    }
   ],
   "source": [
    "def remove_super_members(lst):\n",
    "    # A set to store the strings to be removed\n",
    "    to_remove = set()\n",
    "\n",
    "    # Compare each string against all other strings\n",
    "    for i, string1 in enumerate(lst):\n",
    "        for j, string2 in enumerate(lst):\n",
    "            # If s1 is a substring of s2 and they're not the same string\n",
    "            if string1 in string2 and i != j:\n",
    "                to_remove.add(string2)\n",
    "\n",
    "    # Use a list comprehension to create a new list excluding the super members\n",
    "    result = [s for s in lst if s not in to_remove]\n",
    "\n",
    "    return result\n"
   ]
  },
  {
   "cell_type": "code",
   "execution_count": null,
   "metadata": {},
   "outputs": [],
   "source": []
  }
 ],
 "metadata": {
  "kernelspec": {
   "display_name": "Python 3",
   "language": "python",
   "name": "python3"
  },
  "language_info": {
   "codemirror_mode": {
    "name": "ipython",
    "version": 3
   },
   "file_extension": ".py",
   "mimetype": "text/x-python",
   "name": "python",
   "nbconvert_exporter": "python",
   "pygments_lexer": "ipython3",
   "version": "3.9.18"
  },
  "orig_nbformat": 4
 },
 "nbformat": 4,
 "nbformat_minor": 2
}
