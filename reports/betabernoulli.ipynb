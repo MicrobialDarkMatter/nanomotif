{
 "cells": [
  {
   "cell_type": "markdown",
   "metadata": {},
   "source": [
    "Initial implementation of Beta-Bernoulli model, based the contig levels methylation calls. "
   ]
  },
  {
   "cell_type": "code",
   "execution_count": 1,
   "metadata": {},
   "outputs": [],
   "source": [
    "import nanomotif as nm\n",
    "import polars as pl\n",
    "import re\n",
    "import numpy as np"
   ]
  },
  {
   "cell_type": "markdown",
   "metadata": {},
   "source": [
    "# Intro\n",
    "\n",
    "This report gives examples identifying motif in samples using the BetaBernoulli model. In this report the binary methylation representation on contig level is used, e.g. all possible methylation positions on the contig have a true or false representing methylation status at that postion."
   ]
  },
  {
   "cell_type": "markdown",
   "metadata": {},
   "source": [
    "# E.coli\n",
    "\n",
    "E. coli is simply and have two motifs, G6mATC and C5mCWGG. "
   ]
  },
  {
   "cell_type": "code",
   "execution_count": 110,
   "metadata": {},
   "outputs": [],
   "source": [
    "assembly = nm.load_assembly(\"../data/ecoli/assembly.polished.fasta\")\n",
    "ecoli = nm.load_pileup(\"../data/ecoli/modkit.pileup.bed\")"
   ]
  },
  {
   "cell_type": "markdown",
   "metadata": {},
   "source": [
    "## 6mA"
   ]
  },
  {
   "cell_type": "markdown",
   "metadata": {},
   "source": [
    "For a position to be called methylated we set a threshold of fraction of reads called as methylated at that position, here we select 80%.  Then we generate all possible motif candidates up to size 4, each motif is also represeneted with each possible methylation position withing the motif, e.g. represented as **G**ATC, G**A**TC, GA**T**C and GAT**C**. "
   ]
  },
  {
   "cell_type": "code",
   "execution_count": 113,
   "metadata": {},
   "outputs": [],
   "source": [
    "ecoli_6mA_80p = ecoli.pileup.filter(pl.col(\"mod_type\") == \"a\").filter(pl.col(\"fraction_mod\") > 0.8)\n",
    "\n",
    "# Generate random candidates up to size 4 and modification type 6mA (a)\n",
    "motif_candidates = nm.candidate.generate_random_candidates(5, \"a\")\n",
    "scored_candidates = nm.evaluate.score_candidates(ecoli_6mA_80p, assembly[\"contig_3\"], motif_candidates)"
   ]
  },
  {
   "cell_type": "markdown",
   "metadata": {},
   "source": [
    "To evaluate the performance of the model we use the signal to noise ratio and 1 - the CDF(0.5). "
   ]
  },
  {
   "cell_type": "code",
   "execution_count": 120,
   "metadata": {},
   "outputs": [
    {
     "data": {
      "text/html": [
       "<div><style>\n",
       ".dataframe > thead > tr > th,\n",
       ".dataframe > tbody > tr > td {\n",
       "  text-align: right;\n",
       "}\n",
       "</style>\n",
       "<small>shape: (6_372, 6)</small><table border=\"1\" class=\"dataframe\"><thead><tr><th>motif</th><th>motif_meth_index</th><th>mod_type</th><th>posterior</th><th>cdf_score</th><th>signal_noise</th></tr><tr><td>str</td><td>i64</td><td>str</td><td>object</td><td>f64</td><td>f64</td></tr></thead><tbody><tr><td>&quot;GATC&quot;</td><td>1</td><td>&quot;a&quot;</td><td>BetaBernoulliModel(alpha=37562, beta=688)</td><td>1.0</td><td>1445.112081</td></tr><tr><td>&quot;TGATC&quot;</td><td>2</td><td>&quot;a&quot;</td><td>BetaBernoulliModel(alpha=11026, beta=132)</td><td>1.0</td><td>965.460849</td></tr><tr><td>&quot;GATCG&quot;</td><td>1</td><td>&quot;a&quot;</td><td>BetaBernoulliModel(alpha=10767, beta=161)</td><td>1.0</td><td>854.918335</td></tr><tr><td>&quot;GGATC&quot;</td><td>2</td><td>&quot;a&quot;</td><td>BetaBernoulliModel(alpha=8136, beta=112)</td><td>1.0</td><td>774.100077</td></tr><tr><td>&quot;GATCA&quot;</td><td>1</td><td>&quot;a&quot;</td><td>BetaBernoulliModel(alpha=10913, beta=245)</td><td>1.0</td><td>705.020385</td></tr><tr><td>&quot;GATCT&quot;</td><td>1</td><td>&quot;a&quot;</td><td>BetaBernoulliModel(alpha=7768, beta=124)</td><td>1.0</td><td>703.177259</td></tr><tr><td>&quot;CGATC&quot;</td><td>2</td><td>&quot;a&quot;</td><td>BetaBernoulliModel(alpha=10676, beta=252)</td><td>1.0</td><td>680.446877</td></tr><tr><td>&quot;GATCC&quot;</td><td>1</td><td>&quot;a&quot;</td><td>BetaBernoulliModel(alpha=8100, beta=148)</td><td>1.0</td><td>671.911855</td></tr><tr><td>&quot;AGATC&quot;</td><td>2</td><td>&quot;a&quot;</td><td>BetaBernoulliModel(alpha=7712, beta=180)</td><td>1.0</td><td>581.524892</td></tr><tr><td>&quot;C&quot;</td><td>0</td><td>&quot;a&quot;</td><td>BetaBernoulliModel(alpha=128648, beta=2228106)</td><td>0.0</td><td>368.884846</td></tr><tr><td>&quot;G&quot;</td><td>0</td><td>&quot;a&quot;</td><td>BetaBernoulliModel(alpha=113525, beta=2243229)</td><td>0.0</td><td>345.355334</td></tr><tr><td>&quot;T&quot;</td><td>0</td><td>&quot;a&quot;</td><td>BetaBernoulliModel(alpha=101413, beta=2182005)</td><td>0.0</td><td>325.770496</td></tr><tr><td>&hellip;</td><td>&hellip;</td><td>&hellip;</td><td>&hellip;</td><td>&hellip;</td><td>&hellip;</td></tr><tr><td>&quot;CAAAA&quot;</td><td>1</td><td>&quot;a&quot;</td><td>BetaBernoulliModel(alpha=1, beta=15845)</td><td>0.0</td><td>1.000063</td></tr><tr><td>&quot;AAAAA&quot;</td><td>0</td><td>&quot;a&quot;</td><td>BetaBernoulliModel(alpha=1, beta=16728)</td><td>0.0</td><td>1.00006</td></tr><tr><td>&quot;AAAAA&quot;</td><td>3</td><td>&quot;a&quot;</td><td>BetaBernoulliModel(alpha=1, beta=16728)</td><td>0.0</td><td>1.00006</td></tr><tr><td>&quot;TATA&quot;</td><td>3</td><td>&quot;a&quot;</td><td>BetaBernoulliModel(alpha=1, beta=17305)</td><td>0.0</td><td>1.000058</td></tr><tr><td>&quot;AAAAT&quot;</td><td>0</td><td>&quot;a&quot;</td><td>BetaBernoulliModel(alpha=1, beta=18030)</td><td>0.0</td><td>1.000055</td></tr><tr><td>&quot;AAAAT&quot;</td><td>3</td><td>&quot;a&quot;</td><td>BetaBernoulliModel(alpha=1, beta=18030)</td><td>0.0</td><td>1.000055</td></tr><tr><td>&quot;GCAAA&quot;</td><td>2</td><td>&quot;a&quot;</td><td>BetaBernoulliModel(alpha=1, beta=18248)</td><td>0.0</td><td>1.000055</td></tr><tr><td>&quot;AGAG&quot;</td><td>2</td><td>&quot;a&quot;</td><td>BetaBernoulliModel(alpha=1, beta=20223)</td><td>0.0</td><td>1.000049</td></tr><tr><td>&quot;AGAC&quot;</td><td>2</td><td>&quot;a&quot;</td><td>BetaBernoulliModel(alpha=1, beta=20951)</td><td>0.0</td><td>1.000048</td></tr><tr><td>&quot;AATT&quot;</td><td>0</td><td>&quot;a&quot;</td><td>BetaBernoulliModel(alpha=1, beta=39315)</td><td>0.0</td><td>1.000025</td></tr><tr><td>&quot;AAAG&quot;</td><td>0</td><td>&quot;a&quot;</td><td>BetaBernoulliModel(alpha=1, beta=45985)</td><td>0.0</td><td>1.000022</td></tr><tr><td>&quot;CAAA&quot;</td><td>1</td><td>&quot;a&quot;</td><td>BetaBernoulliModel(alpha=1, beta=48574)</td><td>0.0</td><td>1.000021</td></tr></tbody></table></div>"
      ],
      "text/plain": [
       "shape: (6_372, 6)\n",
       "┌───────┬──────────────────┬──────────┬─────────────────────────────────┬───────────┬──────────────┐\n",
       "│ motif ┆ motif_meth_index ┆ mod_type ┆ posterior                       ┆ cdf_score ┆ signal_noise │\n",
       "│ ---   ┆ ---              ┆ ---      ┆ ---                             ┆ ---       ┆ ---          │\n",
       "│ str   ┆ i64              ┆ str      ┆ object                          ┆ f64       ┆ f64          │\n",
       "╞═══════╪══════════════════╪══════════╪═════════════════════════════════╪═══════════╪══════════════╡\n",
       "│ GATC  ┆ 1                ┆ a        ┆ BetaBernoulliModel(alpha=37562, ┆ 1.0       ┆ 1445.112081  │\n",
       "│       ┆                  ┆          ┆ …                               ┆           ┆              │\n",
       "│ TGATC ┆ 2                ┆ a        ┆ BetaBernoulliModel(alpha=11026, ┆ 1.0       ┆ 965.460849   │\n",
       "│       ┆                  ┆          ┆ …                               ┆           ┆              │\n",
       "│ GATCG ┆ 1                ┆ a        ┆ BetaBernoulliModel(alpha=10767, ┆ 1.0       ┆ 854.918335   │\n",
       "│       ┆                  ┆          ┆ …                               ┆           ┆              │\n",
       "│ GGATC ┆ 2                ┆ a        ┆ BetaBernoulliModel(alpha=8136,  ┆ 1.0       ┆ 774.100077   │\n",
       "│       ┆                  ┆          ┆ b…                              ┆           ┆              │\n",
       "│ …     ┆ …                ┆ …        ┆ …                               ┆ …         ┆ …            │\n",
       "│ AGAC  ┆ 2                ┆ a        ┆ BetaBernoulliModel(alpha=1,     ┆ 0.0       ┆ 1.000048     │\n",
       "│       ┆                  ┆          ┆ beta…                           ┆           ┆              │\n",
       "│ AATT  ┆ 0                ┆ a        ┆ BetaBernoulliModel(alpha=1,     ┆ 0.0       ┆ 1.000025     │\n",
       "│       ┆                  ┆          ┆ beta…                           ┆           ┆              │\n",
       "│ AAAG  ┆ 0                ┆ a        ┆ BetaBernoulliModel(alpha=1,     ┆ 0.0       ┆ 1.000022     │\n",
       "│       ┆                  ┆          ┆ beta…                           ┆           ┆              │\n",
       "│ CAAA  ┆ 1                ┆ a        ┆ BetaBernoulliModel(alpha=1,     ┆ 0.0       ┆ 1.000021     │\n",
       "│       ┆                  ┆          ┆ beta…                           ┆           ┆              │\n",
       "└───────┴──────────────────┴──────────┴─────────────────────────────────┴───────────┴──────────────┘"
      ]
     },
     "execution_count": 120,
     "metadata": {},
     "output_type": "execute_result"
    }
   ],
   "source": [
    "scored_candidates = scored_candidates.with_columns(\n",
    "    pl.col(\"posterior\").apply(lambda model: 1 - model.cdf(0.5)).alias(\"cdf_score\"),\n",
    "    pl.col(\"posterior\").apply(lambda model: model.mean() / model.standard_deviation()).alias(\"signal_noise\"),\n",
    ").sort(pl.col(\"cdf_score\"), descending = True)\n",
    "scored_candidates"
   ]
  },
  {
   "cell_type": "code",
   "execution_count": 121,
   "metadata": {},
   "outputs": [
    {
     "data": {
      "text/html": [
       "<div><style>\n",
       ".dataframe > thead > tr > th,\n",
       ".dataframe > tbody > tr > td {\n",
       "  text-align: right;\n",
       "}\n",
       "</style>\n",
       "<small>shape: (9, 6)</small><table border=\"1\" class=\"dataframe\"><thead><tr><th>motif</th><th>motif_meth_index</th><th>mod_type</th><th>posterior</th><th>cdf_score</th><th>signal_noise</th></tr><tr><td>str</td><td>i64</td><td>str</td><td>object</td><td>f64</td><td>f64</td></tr></thead><tbody><tr><td>&quot;GATC&quot;</td><td>1</td><td>&quot;a&quot;</td><td>BetaBernoulliModel(alpha=37562, beta=688)</td><td>1.0</td><td>1445.112081</td></tr><tr><td>&quot;TGATC&quot;</td><td>2</td><td>&quot;a&quot;</td><td>BetaBernoulliModel(alpha=11026, beta=132)</td><td>1.0</td><td>965.460849</td></tr><tr><td>&quot;GATCG&quot;</td><td>1</td><td>&quot;a&quot;</td><td>BetaBernoulliModel(alpha=10767, beta=161)</td><td>1.0</td><td>854.918335</td></tr><tr><td>&quot;GGATC&quot;</td><td>2</td><td>&quot;a&quot;</td><td>BetaBernoulliModel(alpha=8136, beta=112)</td><td>1.0</td><td>774.100077</td></tr><tr><td>&quot;GATCA&quot;</td><td>1</td><td>&quot;a&quot;</td><td>BetaBernoulliModel(alpha=10913, beta=245)</td><td>1.0</td><td>705.020385</td></tr><tr><td>&quot;GATCT&quot;</td><td>1</td><td>&quot;a&quot;</td><td>BetaBernoulliModel(alpha=7768, beta=124)</td><td>1.0</td><td>703.177259</td></tr><tr><td>&quot;CGATC&quot;</td><td>2</td><td>&quot;a&quot;</td><td>BetaBernoulliModel(alpha=10676, beta=252)</td><td>1.0</td><td>680.446877</td></tr><tr><td>&quot;GATCC&quot;</td><td>1</td><td>&quot;a&quot;</td><td>BetaBernoulliModel(alpha=8100, beta=148)</td><td>1.0</td><td>671.911855</td></tr><tr><td>&quot;AGATC&quot;</td><td>2</td><td>&quot;a&quot;</td><td>BetaBernoulliModel(alpha=7712, beta=180)</td><td>1.0</td><td>581.524892</td></tr></tbody></table></div>"
      ],
      "text/plain": [
       "shape: (9, 6)\n",
       "┌───────┬──────────────────┬──────────┬─────────────────────────────────┬───────────┬──────────────┐\n",
       "│ motif ┆ motif_meth_index ┆ mod_type ┆ posterior                       ┆ cdf_score ┆ signal_noise │\n",
       "│ ---   ┆ ---              ┆ ---      ┆ ---                             ┆ ---       ┆ ---          │\n",
       "│ str   ┆ i64              ┆ str      ┆ object                          ┆ f64       ┆ f64          │\n",
       "╞═══════╪══════════════════╪══════════╪═════════════════════════════════╪═══════════╪══════════════╡\n",
       "│ GATC  ┆ 1                ┆ a        ┆ BetaBernoulliModel(alpha=37562, ┆ 1.0       ┆ 1445.112081  │\n",
       "│       ┆                  ┆          ┆ …                               ┆           ┆              │\n",
       "│ TGATC ┆ 2                ┆ a        ┆ BetaBernoulliModel(alpha=11026, ┆ 1.0       ┆ 965.460849   │\n",
       "│       ┆                  ┆          ┆ …                               ┆           ┆              │\n",
       "│ GATCG ┆ 1                ┆ a        ┆ BetaBernoulliModel(alpha=10767, ┆ 1.0       ┆ 854.918335   │\n",
       "│       ┆                  ┆          ┆ …                               ┆           ┆              │\n",
       "│ GGATC ┆ 2                ┆ a        ┆ BetaBernoulliModel(alpha=8136,  ┆ 1.0       ┆ 774.100077   │\n",
       "│       ┆                  ┆          ┆ b…                              ┆           ┆              │\n",
       "│ GATCA ┆ 1                ┆ a        ┆ BetaBernoulliModel(alpha=10913, ┆ 1.0       ┆ 705.020385   │\n",
       "│       ┆                  ┆          ┆ …                               ┆           ┆              │\n",
       "│ GATCT ┆ 1                ┆ a        ┆ BetaBernoulliModel(alpha=7768,  ┆ 1.0       ┆ 703.177259   │\n",
       "│       ┆                  ┆          ┆ b…                              ┆           ┆              │\n",
       "│ CGATC ┆ 2                ┆ a        ┆ BetaBernoulliModel(alpha=10676, ┆ 1.0       ┆ 680.446877   │\n",
       "│       ┆                  ┆          ┆ …                               ┆           ┆              │\n",
       "│ GATCC ┆ 1                ┆ a        ┆ BetaBernoulliModel(alpha=8100,  ┆ 1.0       ┆ 671.911855   │\n",
       "│       ┆                  ┆          ┆ b…                              ┆           ┆              │\n",
       "│ AGATC ┆ 2                ┆ a        ┆ BetaBernoulliModel(alpha=7712,  ┆ 1.0       ┆ 581.524892   │\n",
       "│       ┆                  ┆          ┆ b…                              ┆           ┆              │\n",
       "└───────┴──────────────────┴──────────┴─────────────────────────────────┴───────────┴──────────────┘"
      ]
     },
     "execution_count": 121,
     "metadata": {},
     "output_type": "execute_result"
    }
   ],
   "source": [
    "scored_candidates.filter(pl.col(\"cdf_score\") > 0.01)"
   ]
  },
  {
   "cell_type": "markdown",
   "metadata": {},
   "source": [
    "GATC is easily identified here, and the 1-CDF would only select that one. "
   ]
  },
  {
   "cell_type": "markdown",
   "metadata": {},
   "source": [
    "## 5mC\n",
    "\n",
    "We do the exact same as with 6mA, but looking at candidates up to size 5. "
   ]
  },
  {
   "cell_type": "code",
   "execution_count": null,
   "metadata": {},
   "outputs": [],
   "source": [
    "ecoli_5mC_80p = ecoli.pileup.filter(pl.col(\"mod_type\") == \"m\").filter(pl.col(\"fraction_mod\") > 0.8)\n",
    "candidates = nm.candidate.generate_random_candidates(5, \"m\")\n",
    "scored_candidates_5mC = nm.evaluate.score_candidates(ecoli_5mC_80p, assembly[\"contig_3\"], candidates)"
   ]
  },
  {
   "cell_type": "code",
   "execution_count": null,
   "metadata": {},
   "outputs": [
    {
     "data": {
      "text/html": [
       "<div><style>\n",
       ".dataframe > thead > tr > th,\n",
       ".dataframe > tbody > tr > td {\n",
       "  text-align: right;\n",
       "}\n",
       "</style>\n",
       "<small>shape: (6_372, 6)</small><table border=\"1\" class=\"dataframe\"><thead><tr><th>motif</th><th>motif_meth_index</th><th>mod_type</th><th>posterior</th><th>cdf_score</th><th>signal_noise</th></tr><tr><td>str</td><td>i64</td><td>str</td><td>object</td><td>f64</td><td>f64</td></tr></thead><tbody><tr><td>&quot;CCTGG&quot;</td><td>1</td><td>&quot;m&quot;</td><td>BetaBernoulliModel(alpha=11995, beta=54)</td><td>1.0</td><td>1636.050744</td></tr><tr><td>&quot;CCAGG&quot;</td><td>1</td><td>&quot;m&quot;</td><td>BetaBernoulliModel(alpha=11959, beta=90)</td><td>1.0</td><td>1265.376316</td></tr><tr><td>&quot;G&quot;</td><td>0</td><td>&quot;m&quot;</td><td>BetaBernoulliModel(alpha=65608, beta=2291146)</td><td>0.0</td><td>259.782107</td></tr><tr><td>&quot;A&quot;</td><td>0</td><td>&quot;m&quot;</td><td>BetaBernoulliModel(alpha=62380, beta=2221038)</td><td>0.0</td><td>253.243027</td></tr><tr><td>&quot;T&quot;</td><td>0</td><td>&quot;m&quot;</td><td>BetaBernoulliModel(alpha=49992, beta=2233426)</td><td>0.0</td><td>226.077466</td></tr><tr><td>&quot;CA&quot;</td><td>1</td><td>&quot;m&quot;</td><td>BetaBernoulliModel(alpha=25655, beta=621814)</td><td>0.0</td><td>163.442722</td></tr><tr><td>&quot;C&quot;</td><td>0</td><td>&quot;m&quot;</td><td>BetaBernoulliModel(alpha=24572, beta=2332182)</td><td>0.0</td><td>157.578242</td></tr><tr><td>&quot;CC&quot;</td><td>1</td><td>&quot;m&quot;</td><td>BetaBernoulliModel(alpha=22383, beta=439228)</td><td>0.0</td><td>153.374332</td></tr><tr><td>&quot;CG&quot;</td><td>1</td><td>&quot;m&quot;</td><td>BetaBernoulliModel(alpha=22627, beta=670751)</td><td>0.0</td><td>152.938972</td></tr><tr><td>&quot;GA&quot;</td><td>0</td><td>&quot;m&quot;</td><td>BetaBernoulliModel(alpha=21719, beta=512899)</td><td>0.0</td><td>150.461775</td></tr><tr><td>&quot;AA&quot;</td><td>0</td><td>&quot;m&quot;</td><td>BetaBernoulliModel(alpha=17816, beta=493667)</td><td>0.0</td><td>135.863901</td></tr><tr><td>&quot;TT&quot;</td><td>1</td><td>&quot;m&quot;</td><td>BetaBernoulliModel(alpha=16461, beta=495022)</td><td>0.0</td><td>130.416303</td></tr><tr><td>&hellip;</td><td>&hellip;</td><td>&hellip;</td><td>&hellip;</td><td>&hellip;</td><td>&hellip;</td></tr><tr><td>&quot;CGCT&quot;</td><td>0</td><td>&quot;m&quot;</td><td>BetaBernoulliModel(alpha=1, beta=53407)</td><td>0.0</td><td>1.000019</td></tr><tr><td>&quot;TTGC&quot;</td><td>3</td><td>&quot;m&quot;</td><td>BetaBernoulliModel(alpha=1, beta=54358)</td><td>0.0</td><td>1.000018</td></tr><tr><td>&quot;TTTC&quot;</td><td>3</td><td>&quot;m&quot;</td><td>BetaBernoulliModel(alpha=1, beta=54805)</td><td>0.0</td><td>1.000018</td></tr><tr><td>&quot;CCGC&quot;</td><td>1</td><td>&quot;m&quot;</td><td>BetaBernoulliModel(alpha=1, beta=55189)</td><td>0.0</td><td>1.000018</td></tr><tr><td>&quot;GCGC&quot;</td><td>1</td><td>&quot;m&quot;</td><td>BetaBernoulliModel(alpha=1, beta=65565)</td><td>0.0</td><td>1.000015</td></tr><tr><td>&quot;CGCC&quot;</td><td>0</td><td>&quot;m&quot;</td><td>BetaBernoulliModel(alpha=1, beta=67251)</td><td>0.0</td><td>1.000015</td></tr><tr><td>&quot;ACT&quot;</td><td>1</td><td>&quot;m&quot;</td><td>BetaBernoulliModel(alpha=1, beta=99642)</td><td>0.0</td><td>1.00001</td></tr><tr><td>&quot;TAC&quot;</td><td>2</td><td>&quot;m&quot;</td><td>BetaBernoulliModel(alpha=1, beta=105268)</td><td>0.0</td><td>1.000009</td></tr><tr><td>&quot;GAC&quot;</td><td>2</td><td>&quot;m&quot;</td><td>BetaBernoulliModel(alpha=1, beta=108964)</td><td>0.0</td><td>1.000009</td></tr><tr><td>&quot;CGT&quot;</td><td>0</td><td>&quot;m&quot;</td><td>BetaBernoulliModel(alpha=1, beta=146411)</td><td>0.0</td><td>1.000007</td></tr><tr><td>&quot;AAC&quot;</td><td>2</td><td>&quot;m&quot;</td><td>BetaBernoulliModel(alpha=1, beta=165190)</td><td>0.0</td><td>1.000006</td></tr><tr><td>&quot;CGC&quot;</td><td>0</td><td>&quot;m&quot;</td><td>BetaBernoulliModel(alpha=1, beta=212874)</td><td>0.0</td><td>1.000005</td></tr></tbody></table></div>"
      ],
      "text/plain": [
       "shape: (6_372, 6)\n",
       "┌───────┬──────────────────┬──────────┬─────────────────────────────────┬───────────┬──────────────┐\n",
       "│ motif ┆ motif_meth_index ┆ mod_type ┆ posterior                       ┆ cdf_score ┆ signal_noise │\n",
       "│ ---   ┆ ---              ┆ ---      ┆ ---                             ┆ ---       ┆ ---          │\n",
       "│ str   ┆ i64              ┆ str      ┆ object                          ┆ f64       ┆ f64          │\n",
       "╞═══════╪══════════════════╪══════════╪═════════════════════════════════╪═══════════╪══════════════╡\n",
       "│ CCTGG ┆ 1                ┆ m        ┆ BetaBernoulliModel(alpha=11995, ┆ 1.0       ┆ 1636.050744  │\n",
       "│       ┆                  ┆          ┆ …                               ┆           ┆              │\n",
       "│ CCAGG ┆ 1                ┆ m        ┆ BetaBernoulliModel(alpha=11959, ┆ 1.0       ┆ 1265.376316  │\n",
       "│       ┆                  ┆          ┆ …                               ┆           ┆              │\n",
       "│ G     ┆ 0                ┆ m        ┆ BetaBernoulliModel(alpha=65608, ┆ 0.0       ┆ 259.782107   │\n",
       "│       ┆                  ┆          ┆ …                               ┆           ┆              │\n",
       "│ A     ┆ 0                ┆ m        ┆ BetaBernoulliModel(alpha=62380, ┆ 0.0       ┆ 253.243027   │\n",
       "│       ┆                  ┆          ┆ …                               ┆           ┆              │\n",
       "│ …     ┆ …                ┆ …        ┆ …                               ┆ …         ┆ …            │\n",
       "│ GAC   ┆ 2                ┆ m        ┆ BetaBernoulliModel(alpha=1,     ┆ 0.0       ┆ 1.000009     │\n",
       "│       ┆                  ┆          ┆ beta…                           ┆           ┆              │\n",
       "│ CGT   ┆ 0                ┆ m        ┆ BetaBernoulliModel(alpha=1,     ┆ 0.0       ┆ 1.000007     │\n",
       "│       ┆                  ┆          ┆ beta…                           ┆           ┆              │\n",
       "│ AAC   ┆ 2                ┆ m        ┆ BetaBernoulliModel(alpha=1,     ┆ 0.0       ┆ 1.000006     │\n",
       "│       ┆                  ┆          ┆ beta…                           ┆           ┆              │\n",
       "│ CGC   ┆ 0                ┆ m        ┆ BetaBernoulliModel(alpha=1,     ┆ 0.0       ┆ 1.000005     │\n",
       "│       ┆                  ┆          ┆ beta…                           ┆           ┆              │\n",
       "└───────┴──────────────────┴──────────┴─────────────────────────────────┴───────────┴──────────────┘"
      ]
     },
     "execution_count": 17,
     "metadata": {},
     "output_type": "execute_result"
    }
   ],
   "source": [
    "scored_candidates_5mC = scored_candidates_5mC.with_columns(\n",
    "    pl.col(\"posterior\").apply(lambda model: 1 - model.cdf(0.5)).alias(\"cdf_score\"),\n",
    "    pl.col(\"posterior\").apply(lambda model: model.mean() / model.standard_deviation()).alias(\"signal_noise\"),\n",
    ").sort(pl.col(\"signal_noise\"), descending = True)\n",
    "scored_candidates_5mC"
   ]
  },
  {
   "cell_type": "code",
   "execution_count": 19,
   "metadata": {},
   "outputs": [
    {
     "data": {
      "text/html": [
       "<div><style>\n",
       ".dataframe > thead > tr > th,\n",
       ".dataframe > tbody > tr > td {\n",
       "  text-align: right;\n",
       "}\n",
       "</style>\n",
       "<small>shape: (2, 6)</small><table border=\"1\" class=\"dataframe\"><thead><tr><th>motif</th><th>motif_meth_index</th><th>mod_type</th><th>posterior</th><th>cdf_score</th><th>signal_noise</th></tr><tr><td>str</td><td>i64</td><td>str</td><td>object</td><td>f64</td><td>f64</td></tr></thead><tbody><tr><td>&quot;CCTGG&quot;</td><td>1</td><td>&quot;m&quot;</td><td>BetaBernoulliModel(alpha=11995, beta=54)</td><td>1.0</td><td>1636.050744</td></tr><tr><td>&quot;CCAGG&quot;</td><td>1</td><td>&quot;m&quot;</td><td>BetaBernoulliModel(alpha=11959, beta=90)</td><td>1.0</td><td>1265.376316</td></tr></tbody></table></div>"
      ],
      "text/plain": [
       "shape: (2, 6)\n",
       "┌───────┬──────────────────┬──────────┬─────────────────────────────────┬───────────┬──────────────┐\n",
       "│ motif ┆ motif_meth_index ┆ mod_type ┆ posterior                       ┆ cdf_score ┆ signal_noise │\n",
       "│ ---   ┆ ---              ┆ ---      ┆ ---                             ┆ ---       ┆ ---          │\n",
       "│ str   ┆ i64              ┆ str      ┆ object                          ┆ f64       ┆ f64          │\n",
       "╞═══════╪══════════════════╪══════════╪═════════════════════════════════╪═══════════╪══════════════╡\n",
       "│ CCTGG ┆ 1                ┆ m        ┆ BetaBernoulliModel(alpha=11995, ┆ 1.0       ┆ 1636.050744  │\n",
       "│       ┆                  ┆          ┆ …                               ┆           ┆              │\n",
       "│ CCAGG ┆ 1                ┆ m        ┆ BetaBernoulliModel(alpha=11959, ┆ 1.0       ┆ 1265.376316  │\n",
       "│       ┆                  ┆          ┆ …                               ┆           ┆              │\n",
       "└───────┴──────────────────┴──────────┴─────────────────────────────────┴───────────┴──────────────┘"
      ]
     },
     "execution_count": 19,
     "metadata": {},
     "output_type": "execute_result"
    }
   ],
   "source": [
    "scored_candidates_5mC.filter(pl.col(\"cdf_score\") > 0.01)"
   ]
  },
  {
   "cell_type": "markdown",
   "metadata": {},
   "source": [
    "Again we see the two expected motif clearly at the top, CCAGG and CCTGG. "
   ]
  },
  {
   "cell_type": "markdown",
   "metadata": {},
   "source": [
    "# M. ruber\n",
    "\n",
    "## Known Methylated Motifs\n",
    "\n",
    "6mA modified motifs informed by provider of the samples\n",
    "* CTCG6mAG\n",
    "* G6mATC\n",
    "* A6mATT \n",
    "* TTA6mA\n",
    "\n",
    "Additionaly, the following methylation information from [The Epigenomic Landscape of Prokaryotes](https://journals.plos.org/plosgenetics/article?id=10.1371/journal.pgen.1005854#sec030), [sup 3](https://doi.org/10.1371/journal.pgen.1005854.s014) is available.\n",
    "\n",
    "| Organism                    | ID       | 141  | Locus_Tag | Methyltransferase  | Type | Methylation | Motif      | Percent | Activity         | Notes               |\n",
    "|-----------------------------|----------|------|-----------|--------------------|------|-------------|------------|---------|------------------|---------------------|\n",
    "| Meiothermus ruber DSM 1279  | 646564545| 141  | Mrub_2398 | M.Mru1279V         | II   | m4C         | rGatCy     | 92.1    | active           | Mru1279VP           |\n",
    "|                             |          |      | Mrub_2385 | M.Mru1279II        | II   | m6A         | **cTcgAg**     | 99.5    | active           |                     |\n",
    "|                             |          |      | Mrub_1464 | M.Mru1279VII       | II   | m6A         | **gATc**       | 80.7    | active           |                     |\n",
    "|                             |          |      | Mrub_1513 | M.Mru1279VI        | II   | m6A         | **TtaA**       | 99.9    | active           |                     |\n",
    "|                             |          |      | Mrub_2453 | M.Mru1279I         | I    | m6A         | **ggcAnnnnnnTgg** | 99.8  | active           | S.Mru1279I,Mru1279IP |\n",
    "|                             |          |      | Mrub_0831 | M.Mru1279III       | II   | m6A         | **aATt**       | 99      | active           |                     |\n",
    "|                             |          |      | Mrub_2576 | M.Mru1279IV        | II   | m4C         | caGCtg     | 98.5    | active           |                     |\n",
    "|                             |          |      | Mrub_2712 | M.Mru1279ORF2712P  | II   | m5C         | GGWCC      | N/A     | Not Detected     | Mru1279ORF2712P     |\n",
    "|                             |          |      | Mrub_1239 | Mru1279ORF1239P    | IIG* | m6A         | (Unknown)  | N/A     | possibly active  |                     |\n",
    "|                             |          |      | Mrub_0580 | M.Mru1279ORF580P   | III  | m6A         | (Unknown)  | N/A     | possibly active  | Mru1279ORF580P      |\n",
    "|                             |          |      | Mrub_0441 | Mru1279ORF441P     | IIG* | m6A         | (Unknown)  | N/A     | possibly active  |                     |\n",
    "\n",
    "\n"
   ]
  },
  {
   "cell_type": "code",
   "execution_count": 2,
   "metadata": {},
   "outputs": [],
   "source": [
    "mruber_assembly = nm.load_assembly(\"../data/mruber/assembly.polished.fasta\")\n",
    "mruber_pileup = nm.load_pileup(\"../data/mruber/modkit.pileup.bed\")"
   ]
  },
  {
   "cell_type": "code",
   "execution_count": 7,
   "metadata": {},
   "outputs": [],
   "source": [
    "mruber_pileup_6mA_80 = mruber_pileup.pileup.filter(pl.col(\"mod_type\") == \"a\").filter(pl.col(\"fraction_mod\") > 0.8)\n",
    "candidates = nm.candidate.generate_random_candidates(4, \"a\")\n",
    "candidates.add_candidates(\"CTCGAG\", 4, \"a\")\n",
    "scored_candidates_6mA = nm.evaluate.score_candidates(mruber_pileup_6mA_80, mruber_assembly[\"contig_1\"], candidates)"
   ]
  },
  {
   "cell_type": "code",
   "execution_count": 8,
   "metadata": {},
   "outputs": [
    {
     "data": {
      "text/html": [
       "<div><style>\n",
       ".dataframe > thead > tr > th,\n",
       ".dataframe > tbody > tr > td {\n",
       "  text-align: right;\n",
       "}\n",
       "</style>\n",
       "<small>shape: (1_253, 6)</small><table border=\"1\" class=\"dataframe\"><thead><tr><th>motif</th><th>motif_meth_index</th><th>mod_type</th><th>posterior</th><th>cdf_score</th><th>signal_noise</th></tr><tr><td>str</td><td>i64</td><td>str</td><td>object</td><td>f64</td><td>f64</td></tr></thead><tbody><tr><td>&quot;C&quot;</td><td>0</td><td>&quot;a&quot;</td><td>BetaBernoulliModel(alpha=187188, beta=1776057)</td><td>0.0</td><td>454.881121</td></tr><tr><td>&quot;G&quot;</td><td>0</td><td>&quot;a&quot;</td><td>BetaBernoulliModel(alpha=164925, beta=1798320)</td><td>0.0</td><td>424.323534</td></tr><tr><td>&quot;T&quot;</td><td>0</td><td>&quot;a&quot;</td><td>BetaBernoulliModel(alpha=105234, beta=1028992)</td><td>0.0</td><td>340.582266</td></tr><tr><td>&quot;CTCGAG&quot;</td><td>4</td><td>&quot;a&quot;</td><td>BetaBernoulliModel(alpha=12740, beta=2326)</td><td>1.0</td><td>287.27197</td></tr><tr><td>&quot;CC&quot;</td><td>1</td><td>&quot;a&quot;</td><td>BetaBernoulliModel(alpha=67003, beta=454440)</td><td>0.0</td><td>277.276259</td></tr><tr><td>&quot;GC&quot;</td><td>0</td><td>&quot;a&quot;</td><td>BetaBernoulliModel(alpha=54415, beta=620799)</td><td>0.0</td><td>243.27913</td></tr><tr><td>&quot;CG&quot;</td><td>0</td><td>&quot;a&quot;</td><td>BetaBernoulliModel(alpha=52635, beta=440525)</td><td>0.0</td><td>242.742822</td></tr><tr><td>&quot;GG&quot;</td><td>0</td><td>&quot;a&quot;</td><td>BetaBernoulliModel(alpha=52804, beta=468639)</td><td>0.0</td><td>242.391862</td></tr><tr><td>&quot;AG&quot;</td><td>1</td><td>&quot;a&quot;</td><td>BetaBernoulliModel(alpha=50502, beta=331401)</td><td>0.0</td><td>241.242869</td></tr><tr><td>&quot;GC&quot;</td><td>1</td><td>&quot;a&quot;</td><td>BetaBernoulliModel(alpha=50976, beta=624238)</td><td>0.0</td><td>234.816611</td></tr><tr><td>&quot;AATT&quot;</td><td>1</td><td>&quot;a&quot;</td><td>BetaBernoulliModel(alpha=5534, beta=648)</td><td>1.0</td><td>229.790303</td></tr><tr><td>&quot;GCC&quot;</td><td>2</td><td>&quot;a&quot;</td><td>BetaBernoulliModel(alpha=43439, beta=202934)</td><td>0.0</td><td>229.646557</td></tr><tr><td>&hellip;</td><td>&hellip;</td><td>&hellip;</td><td>&hellip;</td><td>&hellip;</td><td>&hellip;</td></tr><tr><td>&quot;CACA&quot;</td><td>3</td><td>&quot;a&quot;</td><td>BetaBernoulliModel(alpha=2, beta=14321)</td><td>0.0</td><td>1.414362</td></tr><tr><td>&quot;ATA&quot;</td><td>2</td><td>&quot;a&quot;</td><td>BetaBernoulliModel(alpha=2, beta=29276)</td><td>0.0</td><td>1.414286</td></tr><tr><td>&quot;TATA&quot;</td><td>3</td><td>&quot;a&quot;</td><td>BetaBernoulliModel(alpha=1, beta=5035)</td><td>0.0</td><td>1.000199</td></tr><tr><td>&quot;ATAT&quot;</td><td>2</td><td>&quot;a&quot;</td><td>BetaBernoulliModel(alpha=1, beta=5525)</td><td>0.0</td><td>1.000181</td></tr><tr><td>&quot;AATA&quot;</td><td>3</td><td>&quot;a&quot;</td><td>BetaBernoulliModel(alpha=1, beta=5772)</td><td>0.0</td><td>1.000173</td></tr><tr><td>&quot;ATAA&quot;</td><td>2</td><td>&quot;a&quot;</td><td>BetaBernoulliModel(alpha=1, beta=7045)</td><td>0.0</td><td>1.000142</td></tr><tr><td>&quot;ATAC&quot;</td><td>2</td><td>&quot;a&quot;</td><td>BetaBernoulliModel(alpha=1, beta=8803)</td><td>0.0</td><td>1.000114</td></tr><tr><td>&quot;ACAT&quot;</td><td>2</td><td>&quot;a&quot;</td><td>BetaBernoulliModel(alpha=1, beta=9805)</td><td>0.0</td><td>1.000102</td></tr><tr><td>&quot;GATA&quot;</td><td>3</td><td>&quot;a&quot;</td><td>BetaBernoulliModel(alpha=1, beta=10356)</td><td>0.0</td><td>1.000097</td></tr><tr><td>&quot;ACAA&quot;</td><td>2</td><td>&quot;a&quot;</td><td>BetaBernoulliModel(alpha=1, beta=12855)</td><td>0.0</td><td>1.000078</td></tr><tr><td>&quot;AACA&quot;</td><td>3</td><td>&quot;a&quot;</td><td>BetaBernoulliModel(alpha=1, beta=13359)</td><td>0.0</td><td>1.000075</td></tr><tr><td>&quot;AGAA&quot;</td><td>2</td><td>&quot;a&quot;</td><td>BetaBernoulliModel(alpha=1, beta=16071)</td><td>0.0</td><td>1.000062</td></tr></tbody></table></div>"
      ],
      "text/plain": [
       "shape: (1_253, 6)\n",
       "┌────────┬──────────────────┬──────────┬────────────────────────────────┬───────────┬──────────────┐\n",
       "│ motif  ┆ motif_meth_index ┆ mod_type ┆ posterior                      ┆ cdf_score ┆ signal_noise │\n",
       "│ ---    ┆ ---              ┆ ---      ┆ ---                            ┆ ---       ┆ ---          │\n",
       "│ str    ┆ i64              ┆ str      ┆ object                         ┆ f64       ┆ f64          │\n",
       "╞════════╪══════════════════╪══════════╪════════════════════════════════╪═══════════╪══════════════╡\n",
       "│ C      ┆ 0                ┆ a        ┆ BetaBernoulliModel(alpha=18718 ┆ 0.0       ┆ 454.881121   │\n",
       "│        ┆                  ┆          ┆ 8,…                            ┆           ┆              │\n",
       "│ G      ┆ 0                ┆ a        ┆ BetaBernoulliModel(alpha=16492 ┆ 0.0       ┆ 424.323534   │\n",
       "│        ┆                  ┆          ┆ 5,…                            ┆           ┆              │\n",
       "│ T      ┆ 0                ┆ a        ┆ BetaBernoulliModel(alpha=10523 ┆ 0.0       ┆ 340.582266   │\n",
       "│        ┆                  ┆          ┆ 4,…                            ┆           ┆              │\n",
       "│ CTCGAG ┆ 4                ┆ a        ┆ BetaBernoulliModel(alpha=12740 ┆ 1.0       ┆ 287.27197    │\n",
       "│        ┆                  ┆          ┆ , …                            ┆           ┆              │\n",
       "│ …      ┆ …                ┆ …        ┆ …                              ┆ …         ┆ …            │\n",
       "│ GATA   ┆ 3                ┆ a        ┆ BetaBernoulliModel(alpha=1,    ┆ 0.0       ┆ 1.000097     │\n",
       "│        ┆                  ┆          ┆ beta…                          ┆           ┆              │\n",
       "│ ACAA   ┆ 2                ┆ a        ┆ BetaBernoulliModel(alpha=1,    ┆ 0.0       ┆ 1.000078     │\n",
       "│        ┆                  ┆          ┆ beta…                          ┆           ┆              │\n",
       "│ AACA   ┆ 3                ┆ a        ┆ BetaBernoulliModel(alpha=1,    ┆ 0.0       ┆ 1.000075     │\n",
       "│        ┆                  ┆          ┆ beta…                          ┆           ┆              │\n",
       "│ AGAA   ┆ 2                ┆ a        ┆ BetaBernoulliModel(alpha=1,    ┆ 0.0       ┆ 1.000062     │\n",
       "│        ┆                  ┆          ┆ beta…                          ┆           ┆              │\n",
       "└────────┴──────────────────┴──────────┴────────────────────────────────┴───────────┴──────────────┘"
      ]
     },
     "execution_count": 8,
     "metadata": {},
     "output_type": "execute_result"
    }
   ],
   "source": [
    "scored_candidates_6mA = scored_candidates_6mA.with_columns(\n",
    "    pl.col(\"posterior\").apply(lambda model: 1 - model.cdf(0.5)).alias(\"cdf_score\"),\n",
    "    pl.col(\"posterior\").apply(lambda model: model.mean() / model.standard_deviation()).alias(\"signal_noise\"),\n",
    ").sort(pl.col(\"signal_noise\"), descending = True)\n",
    "scored_candidates_6mA"
   ]
  },
  {
   "cell_type": "code",
   "execution_count": 9,
   "metadata": {},
   "outputs": [
    {
     "data": {
      "text/html": [
       "<div><style>\n",
       ".dataframe > thead > tr > th,\n",
       ".dataframe > tbody > tr > td {\n",
       "  text-align: right;\n",
       "}\n",
       "</style>\n",
       "<small>shape: (4, 6)</small><table border=\"1\" class=\"dataframe\"><thead><tr><th>motif</th><th>motif_meth_index</th><th>mod_type</th><th>posterior</th><th>cdf_score</th><th>signal_noise</th></tr><tr><td>str</td><td>i64</td><td>str</td><td>object</td><td>f64</td><td>f64</td></tr></thead><tbody><tr><td>&quot;CTCGAG&quot;</td><td>4</td><td>&quot;a&quot;</td><td>BetaBernoulliModel(alpha=12740, beta=2326)</td><td>1.0</td><td>287.27197</td></tr><tr><td>&quot;AATT&quot;</td><td>1</td><td>&quot;a&quot;</td><td>BetaBernoulliModel(alpha=5534, beta=648)</td><td>1.0</td><td>229.790303</td></tr><tr><td>&quot;GATC&quot;</td><td>1</td><td>&quot;a&quot;</td><td>BetaBernoulliModel(alpha=13520, beta=5900)</td><td>1.0</td><td>210.959037</td></tr><tr><td>&quot;TTAA&quot;</td><td>3</td><td>&quot;a&quot;</td><td>BetaBernoulliModel(alpha=4085, beta=555)</td><td>1.0</td><td>184.822705</td></tr></tbody></table></div>"
      ],
      "text/plain": [
       "shape: (4, 6)\n",
       "┌────────┬──────────────────┬──────────┬────────────────────────────────┬───────────┬──────────────┐\n",
       "│ motif  ┆ motif_meth_index ┆ mod_type ┆ posterior                      ┆ cdf_score ┆ signal_noise │\n",
       "│ ---    ┆ ---              ┆ ---      ┆ ---                            ┆ ---       ┆ ---          │\n",
       "│ str    ┆ i64              ┆ str      ┆ object                         ┆ f64       ┆ f64          │\n",
       "╞════════╪══════════════════╪══════════╪════════════════════════════════╪═══════════╪══════════════╡\n",
       "│ CTCGAG ┆ 4                ┆ a        ┆ BetaBernoulliModel(alpha=12740 ┆ 1.0       ┆ 287.27197    │\n",
       "│        ┆                  ┆          ┆ , …                            ┆           ┆              │\n",
       "│ AATT   ┆ 1                ┆ a        ┆ BetaBernoulliModel(alpha=5534, ┆ 1.0       ┆ 229.790303   │\n",
       "│        ┆                  ┆          ┆ b…                             ┆           ┆              │\n",
       "│ GATC   ┆ 1                ┆ a        ┆ BetaBernoulliModel(alpha=13520 ┆ 1.0       ┆ 210.959037   │\n",
       "│        ┆                  ┆          ┆ , …                            ┆           ┆              │\n",
       "│ TTAA   ┆ 3                ┆ a        ┆ BetaBernoulliModel(alpha=4085, ┆ 1.0       ┆ 184.822705   │\n",
       "│        ┆                  ┆          ┆ b…                             ┆           ┆              │\n",
       "└────────┴──────────────────┴──────────┴────────────────────────────────┴───────────┴──────────────┘"
      ]
     },
     "execution_count": 9,
     "metadata": {},
     "output_type": "execute_result"
    }
   ],
   "source": [
    "scored_candidates_6mA.filter(pl.col(\"cdf_score\") > 0.01)"
   ]
  },
  {
   "cell_type": "markdown",
   "metadata": {},
   "source": [
    "The expected candidates nicely show up. \n",
    "\n",
    "## Smaller contigs\n",
    "\n",
    "Lets simulate having more contigs. But still the some coverage."
   ]
  },
  {
   "cell_type": "code",
   "execution_count": 82,
   "metadata": {},
   "outputs": [],
   "source": [
    "# Recreate candidates\n",
    "candidates = nm.candidate.generate_random_candidates(4, \"a\")\n",
    "candidates.add_candidates(\"CTCGAG\", 4, \"a\")\n",
    "\n",
    "# Original contig\n",
    "parent_contig = mruber_assembly[\"contig_1\"]\n",
    "\n",
    "# Size of subcontigs\n",
    "contigs_size = 50000\n",
    "\n",
    "n_child_contigs = len(parent_contig) // contigs_size + 1\n",
    "sim_contig_scores = []\n",
    "for i in range(n_child_contigs - 1):\n",
    "    sub_contig = parent_contig[i*contigs_size : min(((i+1)*contigs_size - 1), len(parent_contig)-1)]\n",
    "    # Substract index of subcontig start to methylation positions, to make sure motif index match\n",
    "    temp_pileup = mruber_pileup_6mA_80.with_columns(\n",
    "        pl.col(\"position\") - i*contigs_size\n",
    "    )\n",
    "    sim_contig_scores.append(nm.evaluate.score_candidates(temp_pileup, sub_contig, candidates))\n",
    "    "
   ]
  },
  {
   "cell_type": "code",
   "execution_count": 106,
   "metadata": {},
   "outputs": [],
   "source": [
    "result = []\n",
    "for i, contig_candidates in enumerate(sim_contig_scores):\n",
    "    result.append(\n",
    "        contig_candidates.with_columns(\n",
    "            pl.col(\"posterior\").apply(lambda model: 1 - model.cdf(0.55)).alias(\"cdf_score\"),\n",
    "            pl.col(\"posterior\").apply(lambda model: model.mean() / model.standard_deviation()).alias(\"signal_noise\")\n",
    "        ).sort(pl.col(\"signal_noise\"), descending = True) \\\n",
    "        .filter(pl.col(\"cdf_score\") > 0.01) \\\n",
    "        .with_columns(\n",
    "            pl.lit(i).alias(\"sub_index\")\n",
    "        )    \n",
    "    )\n",
    "result = pl.concat(result)"
   ]
  },
  {
   "cell_type": "code",
   "execution_count": 107,
   "metadata": {},
   "outputs": [
    {
     "name": "stderr",
     "output_type": "stream",
     "text": [
      "/shared_software/podman/tmp/lx38ll@bio.aau.dk/ipykernel_779629/434150598.py:6: DeprecationWarning: In a future version of polars, the default `aggregate_function` will change from `'first'` to `None`. Please pass `'first'` to keep the current behaviour, or `None` to accept the new one.\n",
      "  result.with_columns(\n"
     ]
    },
    {
     "data": {
      "text/plain": [
       "<upsetplot.plotting.UpSet at 0x7f7e86a620d0>"
      ]
     },
     "execution_count": 107,
     "metadata": {},
     "output_type": "execute_result"
    },
    {
     "data": {
      "image/png": "[encoded data removed]",
      "text/plain": [
       "<Figure size 311.111x488.889 with 4 Axes>"
      ]
     },
     "metadata": {},
     "output_type": "display_data"
    }
   ],
   "source": [
    "from upsetplot import UpSet\n",
    "all_motifs = result.with_columns(\n",
    "        pl.col(\"motif\") + \"_\" + pl.col(\"motif_meth_index\").cast(pl.Utf8)\n",
    "        ).get_column(\"motif\").unique().to_list()\n",
    "UpSet(\n",
    "    result.with_columns(\n",
    "        pl.col(\"motif\") + \"_\" + pl.col(\"motif_meth_index\").cast(pl.Utf8),\n",
    "        pl.lit(True).alias(\"val\")\n",
    "        ) \\\n",
    "    .pivot(values = \"val\", index = \"sub_index\", columns = \"motif\") \\\n",
    "    .fill_null(False).to_pandas().set_index(all_motifs),\n",
    "    show_counts = True\n",
    ")"
   ]
  },
  {
   "cell_type": "code",
   "execution_count": 117,
   "metadata": {},
   "outputs": [
    {
     "data": {
      "text/html": [
       "<div><style>\n",
       ".dataframe > thead > tr > th,\n",
       ".dataframe > tbody > tr > td {\n",
       "  text-align: right;\n",
       "}\n",
       "</style>\n",
       "<small>shape: (247, 7)</small><table border=\"1\" class=\"dataframe\"><thead><tr><th>motif</th><th>motif_meth_index</th><th>mod_type</th><th>posterior</th><th>cdf_score</th><th>signal_noise</th><th>sub_index</th></tr><tr><td>str</td><td>i64</td><td>str</td><td>object</td><td>f64</td><td>f64</td><td>i32</td></tr></thead><tbody><tr><td>&quot;CTCGAG&quot;</td><td>4</td><td>&quot;a&quot;</td><td>BetaBernoulliModel(alpha=172, beta=34)</td><td>1.0</td><td>32.360106</td><td>0</td></tr><tr><td>&quot;AATT&quot;</td><td>1</td><td>&quot;a&quot;</td><td>BetaBernoulliModel(alpha=97, beta=15)</td><td>1.0</td><td>27.03208</td><td>0</td></tr><tr><td>&quot;GATC&quot;</td><td>1</td><td>&quot;a&quot;</td><td>BetaBernoulliModel(alpha=219, beta=101)</td><td>1.0</td><td>26.382375</td><td>0</td></tr><tr><td>&quot;TTAA&quot;</td><td>3</td><td>&quot;a&quot;</td><td>BetaBernoulliModel(alpha=51, beta=7)</td><td>1.0</td><td>20.732996</td><td>0</td></tr><tr><td>&quot;CTCGAG&quot;</td><td>4</td><td>&quot;a&quot;</td><td>BetaBernoulliModel(alpha=207, beta=37)</td><td>1.0</td><td>37.022637</td><td>1</td></tr><tr><td>&quot;AATT&quot;</td><td>1</td><td>&quot;a&quot;</td><td>BetaBernoulliModel(alpha=108, beta=12)</td><td>1.0</td><td>33.0</td><td>1</td></tr><tr><td>&quot;GATC&quot;</td><td>1</td><td>&quot;a&quot;</td><td>BetaBernoulliModel(alpha=244, beta=80)</td><td>1.0</td><td>31.484123</td><td>1</td></tr><tr><td>&quot;TTAA&quot;</td><td>3</td><td>&quot;a&quot;</td><td>BetaBernoulliModel(alpha=61, beta=13)</td><td>1.0</td><td>18.759613</td><td>1</td></tr><tr><td>&quot;CTCGAG&quot;</td><td>4</td><td>&quot;a&quot;</td><td>BetaBernoulliModel(alpha=205, beta=31)</td><td>1.0</td><td>39.58861</td><td>2</td></tr><tr><td>&quot;GATC&quot;</td><td>1</td><td>&quot;a&quot;</td><td>BetaBernoulliModel(alpha=270, beta=80)</td><td>1.0</td><td>34.418382</td><td>2</td></tr><tr><td>&quot;AATT&quot;</td><td>1</td><td>&quot;a&quot;</td><td>BetaBernoulliModel(alpha=110, beta=16)</td><td>1.0</td><td>29.548689</td><td>2</td></tr><tr><td>&quot;TTAA&quot;</td><td>3</td><td>&quot;a&quot;</td><td>BetaBernoulliModel(alpha=76, beta=10)</td><td>1.0</td><td>25.71381</td><td>2</td></tr><tr><td>&hellip;</td><td>&hellip;</td><td>&hellip;</td><td>&hellip;</td><td>&hellip;</td><td>&hellip;</td><td>&hellip;</td></tr><tr><td>&quot;AATT&quot;</td><td>1</td><td>&quot;a&quot;</td><td>BetaBernoulliModel(alpha=87, beta=5)</td><td>1.0</td><td>40.226857</td><td>58</td></tr><tr><td>&quot;CTCGAG&quot;</td><td>4</td><td>&quot;a&quot;</td><td>BetaBernoulliModel(alpha=228, beta=40)</td><td>1.0</td><td>39.157375</td><td>58</td></tr><tr><td>&quot;GATC&quot;</td><td>1</td><td>&quot;a&quot;</td><td>BetaBernoulliModel(alpha=204, beta=72)</td><td>1.0</td><td>28.014877</td><td>58</td></tr><tr><td>&quot;TTAA&quot;</td><td>3</td><td>&quot;a&quot;</td><td>BetaBernoulliModel(alpha=47, beta=5)</td><td>1.0</td><td>22.320394</td><td>58</td></tr><tr><td>&quot;CTCGAG&quot;</td><td>4</td><td>&quot;a&quot;</td><td>BetaBernoulliModel(alpha=261, beta=51)</td><td>1.0</td><td>40.022788</td><td>59</td></tr><tr><td>&quot;TTAA&quot;</td><td>3</td><td>&quot;a&quot;</td><td>BetaBernoulliModel(alpha=106, beta=8)</td><td>1.0</td><td>39.03524</td><td>59</td></tr><tr><td>&quot;GATC&quot;</td><td>1</td><td>&quot;a&quot;</td><td>BetaBernoulliModel(alpha=265, beta=113)</td><td>1.0</td><td>29.812838</td><td>59</td></tr><tr><td>&quot;AATT&quot;</td><td>1</td><td>&quot;a&quot;</td><td>BetaBernoulliModel(alpha=111, beta=17)</td><td>1.0</td><td>29.022304</td><td>59</td></tr><tr><td>&quot;CTCGAG&quot;</td><td>4</td><td>&quot;a&quot;</td><td>BetaBernoulliModel(alpha=265, beta=51)</td><td>1.0</td><td>40.58518</td><td>60</td></tr><tr><td>&quot;GATC&quot;</td><td>1</td><td>&quot;a&quot;</td><td>BetaBernoulliModel(alpha=207, beta=81)</td><td>1.0</td><td>27.176379</td><td>60</td></tr><tr><td>&quot;AATT&quot;</td><td>1</td><td>&quot;a&quot;</td><td>BetaBernoulliModel(alpha=95, beta=15)</td><td>1.0</td><td>26.514147</td><td>60</td></tr><tr><td>&quot;TTAA&quot;</td><td>3</td><td>&quot;a&quot;</td><td>BetaBernoulliModel(alpha=57, beta=7)</td><td>1.0</td><td>23.00621</td><td>60</td></tr></tbody></table></div>"
      ],
      "text/plain": [
       "shape: (247, 7)\n",
       "┌────────┬──────────────────┬──────────┬────────────────────┬───────────┬──────────────┬───────────┐\n",
       "│ motif  ┆ motif_meth_index ┆ mod_type ┆ posterior          ┆ cdf_score ┆ signal_noise ┆ sub_index │\n",
       "│ ---    ┆ ---              ┆ ---      ┆ ---                ┆ ---       ┆ ---          ┆ ---       │\n",
       "│ str    ┆ i64              ┆ str      ┆ object             ┆ f64       ┆ f64          ┆ i32       │\n",
       "╞════════╪══════════════════╪══════════╪════════════════════╪═══════════╪══════════════╪═══════════╡\n",
       "│ CTCGAG ┆ 4                ┆ a        ┆ BetaBernoulliModel ┆ 1.0       ┆ 32.360106    ┆ 0         │\n",
       "│        ┆                  ┆          ┆ (alpha=172, be…    ┆           ┆              ┆           │\n",
       "│ AATT   ┆ 1                ┆ a        ┆ BetaBernoulliModel ┆ 1.0       ┆ 27.03208     ┆ 0         │\n",
       "│        ┆                  ┆          ┆ (alpha=97, bet…    ┆           ┆              ┆           │\n",
       "│ GATC   ┆ 1                ┆ a        ┆ BetaBernoulliModel ┆ 1.0       ┆ 26.382375    ┆ 0         │\n",
       "│        ┆                  ┆          ┆ (alpha=219, be…    ┆           ┆              ┆           │\n",
       "│ TTAA   ┆ 3                ┆ a        ┆ BetaBernoulliModel ┆ 1.0       ┆ 20.732996    ┆ 0         │\n",
       "│        ┆                  ┆          ┆ (alpha=51, bet…    ┆           ┆              ┆           │\n",
       "│ …      ┆ …                ┆ …        ┆ …                  ┆ …         ┆ …            ┆ …         │\n",
       "│ CTCGAG ┆ 4                ┆ a        ┆ BetaBernoulliModel ┆ 1.0       ┆ 40.58518     ┆ 60        │\n",
       "│        ┆                  ┆          ┆ (alpha=265, be…    ┆           ┆              ┆           │\n",
       "│ GATC   ┆ 1                ┆ a        ┆ BetaBernoulliModel ┆ 1.0       ┆ 27.176379    ┆ 60        │\n",
       "│        ┆                  ┆          ┆ (alpha=207, be…    ┆           ┆              ┆           │\n",
       "│ AATT   ┆ 1                ┆ a        ┆ BetaBernoulliModel ┆ 1.0       ┆ 26.514147    ┆ 60        │\n",
       "│        ┆                  ┆          ┆ (alpha=95, bet…    ┆           ┆              ┆           │\n",
       "│ TTAA   ┆ 3                ┆ a        ┆ BetaBernoulliModel ┆ 1.0       ┆ 23.00621     ┆ 60        │\n",
       "│        ┆                  ┆          ┆ (alpha=57, bet…    ┆           ┆              ┆           │\n",
       "└────────┴──────────────────┴──────────┴────────────────────┴───────────┴──────────────┴───────────┘"
      ]
     },
     "execution_count": 117,
     "metadata": {},
     "output_type": "execute_result"
    }
   ],
   "source": [
    "result"
   ]
  }
 ],
 "metadata": {
  "kernelspec": {
   "display_name": "Python 3",
   "language": "python",
   "name": "python3"
  },
  "language_info": {
   "codemirror_mode": {
    "name": "ipython",
    "version": 3
   },
   "file_extension": ".py",
   "mimetype": "text/x-python",
   "name": "python",
   "nbconvert_exporter": "python",
   "pygments_lexer": "ipython3",
   "version": "3.9.16"
  },
  "orig_nbformat": 4
 },
 "nbformat": 4,
 "nbformat_minor": 2
}
