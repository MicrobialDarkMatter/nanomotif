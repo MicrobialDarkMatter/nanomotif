{
 "cells": [
  {
   "cell_type": "markdown",
   "metadata": {},
   "source": [
    "Initial implementation of Beta-Bernoulli model, based the contig levels methylation calls. "
   ]
  },
  {
   "cell_type": "code",
   "execution_count": 1,
   "metadata": {},
   "outputs": [],
   "source": [
    "import methmotif.evaluate as mm\n",
    "import polars as pl\n",
    "import re"
   ]
  },
  {
   "cell_type": "markdown",
   "metadata": {},
   "source": [
    "First load assembly. "
   ]
  },
  {
   "cell_type": "code",
   "execution_count": 2,
   "metadata": {},
   "outputs": [],
   "source": [
    "assembly = mm.Assembly(\"../data/ecoli/assembly.polished.fasta\")"
   ]
  },
  {
   "cell_type": "markdown",
   "metadata": {},
   "source": [
    "Load pileup data, and set threshold for which positions are considerd methylated. Here we use a threshold of 80%, e.g. 80% of mapped read have to be methylated for the position to be considered methylated. Also we only consider 6mA methylation type here. "
   ]
  },
  {
   "cell_type": "code",
   "execution_count": 3,
   "metadata": {},
   "outputs": [],
   "source": [
    "ecoli = mm.Pileup(\"../data/ecoli/modkit.pileup.bed\")\n",
    "ecoli_6mA_80p = ecoli.pileup.filter(pl.col(\"mod_type\") == \"a\").filter(pl.col(\"fraction_mod\") > 0.8)"
   ]
  },
  {
   "cell_type": "markdown",
   "metadata": {},
   "source": [
    "Lets generate some candidate motifs, here all kmers up to size 5. We also generate a candidate for possible methylation position, for example GATC is first evluated as if the G is methylated, then the A, then the T and finally the C. "
   ]
  },
  {
   "cell_type": "code",
   "execution_count": 13,
   "metadata": {},
   "outputs": [],
   "source": [
    "candidate_motifs = mm.generate_kmers(5, alphabet=[\"A\", \"C\", \"G\", \"T\"])\n",
    "candidate_motifs_indexed = [[motif, i] for motif in candidate_motifs for i in range(len(motif))]\n",
    "candidate_motifs_indexed = list(map(list, zip(*candidate_motifs_indexed)))\n"
   ]
  },
  {
   "cell_type": "code",
   "execution_count": 14,
   "metadata": {},
   "outputs": [],
   "source": [
    "motif_candidates = mm.MotifCandidates(candidate_motifs_indexed[0], candidate_motifs_indexed[1])"
   ]
  },
  {
   "cell_type": "code",
   "execution_count": 6,
   "metadata": {},
   "outputs": [],
   "source": [
    "scored_candidates = mm.score_candidates(ecoli_6mA_80p, assembly, \"contig_3\", motif_candidates)"
   ]
  },
  {
   "cell_type": "code",
   "execution_count": 8,
   "metadata": {},
   "outputs": [
    {
     "data": {
      "text/html": [
       "<div><style>\n",
       ".dataframe > thead > tr > th,\n",
       ".dataframe > tbody > tr > td {\n",
       "  text-align: right;\n",
       "}\n",
       "</style>\n",
       "<small>shape: (1_252, 5)</small><table border=\"1\" class=\"dataframe\"><thead><tr><th>motif</th><th>motif_mod_index</th><th>posterior</th><th>cdf_score</th><th>signal_noise</th></tr><tr><td>str</td><td>i64</td><td>object</td><td>f64</td><td>f64</td></tr></thead><tbody><tr><td>&quot;GATC&quot;</td><td>1</td><td>BetaBernoulliModel(alpha=37562, beta=688)</td><td>1.0</td><td>1445.112081</td></tr><tr><td>&quot;C&quot;</td><td>0</td><td>BetaBernoulliModel(alpha=128648, beta=2228106)</td><td>0.0</td><td>368.884846</td></tr><tr><td>&quot;G&quot;</td><td>0</td><td>BetaBernoulliModel(alpha=113525, beta=2243229)</td><td>0.0</td><td>345.355334</td></tr><tr><td>&quot;T&quot;</td><td>0</td><td>BetaBernoulliModel(alpha=101413, beta=2182005)</td><td>0.0</td><td>325.770496</td></tr><tr><td>&quot;ATC&quot;</td><td>0</td><td>BetaBernoulliModel(alpha=37710, beta=135349)</td><td>0.0</td><td>219.58319</td></tr><tr><td>&quot;GAT&quot;</td><td>1</td><td>BetaBernoulliModel(alpha=37630, beta=135429)</td><td>0.0</td><td>219.285352</td></tr><tr><td>&quot;CG&quot;</td><td>0</td><td>BetaBernoulliModel(alpha=42045, beta=651333)</td><td>0.0</td><td>211.563615</td></tr><tr><td>&quot;A&quot;</td><td>0</td><td>BetaBernoulliModel(alpha=41864, beta=2241554)</td><td>0.0</td><td>206.5088</td></tr><tr><td>&quot;GA&quot;</td><td>1</td><td>BetaBernoulliModel(alpha=37926, beta=496692)</td><td>0.0</td><td>202.044546</td></tr><tr><td>&quot;AT&quot;</td><td>0</td><td>BetaBernoulliModel(alpha=38014, beta=581684)</td><td>0.0</td><td>201.242</td></tr><tr><td>&quot;AG&quot;</td><td>1</td><td>BetaBernoulliModel(alpha=36886, beta=437116)</td><td>0.0</td><td>199.996767</td></tr><tr><td>&quot;GC&quot;</td><td>0</td><td>BetaBernoulliModel(alpha=37734, beta=730200)</td><td>0.0</td><td>199.208442</td></tr><tr><td>&hellip;</td><td>&hellip;</td><td>&hellip;</td><td>&hellip;</td><td>&hellip;</td></tr><tr><td>&quot;GACA&quot;</td><td>1</td><td>BetaBernoulliModel(alpha=2, beta=26258)</td><td>0.0</td><td>1.414294</td></tr><tr><td>&quot;ACAT&quot;</td><td>2</td><td>BetaBernoulliModel(alpha=2, beta=28552)</td><td>0.0</td><td>1.414288</td></tr><tr><td>&quot;AGAT&quot;</td><td>0</td><td>BetaBernoulliModel(alpha=2, beta=32871)</td><td>0.0</td><td>1.414278</td></tr><tr><td>&quot;GATA&quot;</td><td>1</td><td>BetaBernoulliModel(alpha=2, beta=40353)</td><td>0.0</td><td>1.414266</td></tr><tr><td>&quot;CAAT&quot;</td><td>1</td><td>BetaBernoulliModel(alpha=2, beta=41966)</td><td>0.0</td><td>1.414264</td></tr><tr><td>&quot;TAAA&quot;</td><td>1</td><td>BetaBernoulliModel(alpha=2, beta=44651)</td><td>0.0</td><td>1.414261</td></tr><tr><td>&quot;TATA&quot;</td><td>3</td><td>BetaBernoulliModel(alpha=1, beta=17305)</td><td>0.0</td><td>1.000058</td></tr><tr><td>&quot;AGAG&quot;</td><td>2</td><td>BetaBernoulliModel(alpha=1, beta=20223)</td><td>0.0</td><td>1.000049</td></tr><tr><td>&quot;AGAC&quot;</td><td>2</td><td>BetaBernoulliModel(alpha=1, beta=20951)</td><td>0.0</td><td>1.000048</td></tr><tr><td>&quot;AATT&quot;</td><td>0</td><td>BetaBernoulliModel(alpha=1, beta=39315)</td><td>0.0</td><td>1.000025</td></tr><tr><td>&quot;AAAG&quot;</td><td>0</td><td>BetaBernoulliModel(alpha=1, beta=45985)</td><td>0.0</td><td>1.000022</td></tr><tr><td>&quot;CAAA&quot;</td><td>1</td><td>BetaBernoulliModel(alpha=1, beta=48574)</td><td>0.0</td><td>1.000021</td></tr></tbody></table></div>"
      ],
      "text/plain": [
       "shape: (1_252, 5)\n",
       "┌───────┬─────────────────┬───────────────────────────────────┬───────────┬──────────────┐\n",
       "│ motif ┆ motif_mod_index ┆ posterior                         ┆ cdf_score ┆ signal_noise │\n",
       "│ ---   ┆ ---             ┆ ---                               ┆ ---       ┆ ---          │\n",
       "│ str   ┆ i64             ┆ object                            ┆ f64       ┆ f64          │\n",
       "╞═══════╪═════════════════╪═══════════════════════════════════╪═══════════╪══════════════╡\n",
       "│ GATC  ┆ 1               ┆ BetaBernoulliModel(alpha=37562, … ┆ 1.0       ┆ 1445.112081  │\n",
       "│ C     ┆ 0               ┆ BetaBernoulliModel(alpha=128648,… ┆ 0.0       ┆ 368.884846   │\n",
       "│ G     ┆ 0               ┆ BetaBernoulliModel(alpha=113525,… ┆ 0.0       ┆ 345.355334   │\n",
       "│ T     ┆ 0               ┆ BetaBernoulliModel(alpha=101413,… ┆ 0.0       ┆ 325.770496   │\n",
       "│ …     ┆ …               ┆ …                                 ┆ …         ┆ …            │\n",
       "│ AGAC  ┆ 2               ┆ BetaBernoulliModel(alpha=1, beta… ┆ 0.0       ┆ 1.000048     │\n",
       "│ AATT  ┆ 0               ┆ BetaBernoulliModel(alpha=1, beta… ┆ 0.0       ┆ 1.000025     │\n",
       "│ AAAG  ┆ 0               ┆ BetaBernoulliModel(alpha=1, beta… ┆ 0.0       ┆ 1.000022     │\n",
       "│ CAAA  ┆ 1               ┆ BetaBernoulliModel(alpha=1, beta… ┆ 0.0       ┆ 1.000021     │\n",
       "└───────┴─────────────────┴───────────────────────────────────┴───────────┴──────────────┘"
      ]
     },
     "execution_count": 8,
     "metadata": {},
     "output_type": "execute_result"
    }
   ],
   "source": [
    "scored_candidates.with_columns(\n",
    "    pl.col(\"posterior\").apply(lambda model: 1 - model.cdf(0.8)).alias(\"cdf_score\"),\n",
    "    pl.col(\"posterior\").apply(lambda model: model.mean() / model.standard_deviation()).alias(\"signal_noise\"),\n",
    ").sort(pl.col(\"signal_noise\"), descending = True)"
   ]
  },
  {
   "cell_type": "code",
   "execution_count": 15,
   "metadata": {},
   "outputs": [],
   "source": [
    "ecoli_5mC_80p = ecoli.pileup.filter(pl.col(\"mod_type\") == \"m\").filter(pl.col(\"fraction_mod\") > 0.8)\n",
    "scored_candidates = mm.score_candidates(ecoli_5mC_80p, assembly, \"contig_3\", motif_candidates)"
   ]
  },
  {
   "cell_type": "code",
   "execution_count": 16,
   "metadata": {},
   "outputs": [
    {
     "data": {
      "text/html": [
       "<div><style>\n",
       ".dataframe > thead > tr > th,\n",
       ".dataframe > tbody > tr > td {\n",
       "  text-align: right;\n",
       "}\n",
       "</style>\n",
       "<small>shape: (6_372, 5)</small><table border=\"1\" class=\"dataframe\"><thead><tr><th>motif</th><th>motif_mod_index</th><th>posterior</th><th>cdf_score</th><th>signal_noise</th></tr><tr><td>str</td><td>i64</td><td>object</td><td>f64</td><td>f64</td></tr></thead><tbody><tr><td>&quot;CCTGG&quot;</td><td>1</td><td>BetaBernoulliModel(alpha=11995, beta=54)</td><td>1.0</td><td>1636.050744</td></tr><tr><td>&quot;CCAGG&quot;</td><td>1</td><td>BetaBernoulliModel(alpha=11959, beta=90)</td><td>1.0</td><td>1265.376316</td></tr><tr><td>&quot;G&quot;</td><td>0</td><td>BetaBernoulliModel(alpha=65608, beta=2291146)</td><td>0.0</td><td>259.782107</td></tr><tr><td>&quot;A&quot;</td><td>0</td><td>BetaBernoulliModel(alpha=62380, beta=2221038)</td><td>0.0</td><td>253.243027</td></tr><tr><td>&quot;T&quot;</td><td>0</td><td>BetaBernoulliModel(alpha=49992, beta=2233426)</td><td>0.0</td><td>226.077466</td></tr><tr><td>&quot;CA&quot;</td><td>1</td><td>BetaBernoulliModel(alpha=25655, beta=621814)</td><td>0.0</td><td>163.442722</td></tr><tr><td>&quot;C&quot;</td><td>0</td><td>BetaBernoulliModel(alpha=24572, beta=2332182)</td><td>0.0</td><td>157.578242</td></tr><tr><td>&quot;CC&quot;</td><td>1</td><td>BetaBernoulliModel(alpha=22383, beta=439228)</td><td>0.0</td><td>153.374332</td></tr><tr><td>&quot;CG&quot;</td><td>1</td><td>BetaBernoulliModel(alpha=22627, beta=670751)</td><td>0.0</td><td>152.938972</td></tr><tr><td>&quot;GA&quot;</td><td>0</td><td>BetaBernoulliModel(alpha=21719, beta=512899)</td><td>0.0</td><td>150.461775</td></tr><tr><td>&quot;AA&quot;</td><td>0</td><td>BetaBernoulliModel(alpha=17816, beta=493667)</td><td>0.0</td><td>135.863901</td></tr><tr><td>&quot;TT&quot;</td><td>1</td><td>BetaBernoulliModel(alpha=16461, beta=495022)</td><td>0.0</td><td>130.416303</td></tr><tr><td>&hellip;</td><td>&hellip;</td><td>&hellip;</td><td>&hellip;</td><td>&hellip;</td></tr><tr><td>&quot;CGCT&quot;</td><td>0</td><td>BetaBernoulliModel(alpha=1, beta=53407)</td><td>0.0</td><td>1.000019</td></tr><tr><td>&quot;TTGC&quot;</td><td>3</td><td>BetaBernoulliModel(alpha=1, beta=54358)</td><td>0.0</td><td>1.000018</td></tr><tr><td>&quot;TTTC&quot;</td><td>3</td><td>BetaBernoulliModel(alpha=1, beta=54805)</td><td>0.0</td><td>1.000018</td></tr><tr><td>&quot;CCGC&quot;</td><td>1</td><td>BetaBernoulliModel(alpha=1, beta=55189)</td><td>0.0</td><td>1.000018</td></tr><tr><td>&quot;GCGC&quot;</td><td>1</td><td>BetaBernoulliModel(alpha=1, beta=65565)</td><td>0.0</td><td>1.000015</td></tr><tr><td>&quot;CGCC&quot;</td><td>0</td><td>BetaBernoulliModel(alpha=1, beta=67251)</td><td>0.0</td><td>1.000015</td></tr><tr><td>&quot;ACT&quot;</td><td>1</td><td>BetaBernoulliModel(alpha=1, beta=99642)</td><td>0.0</td><td>1.00001</td></tr><tr><td>&quot;TAC&quot;</td><td>2</td><td>BetaBernoulliModel(alpha=1, beta=105268)</td><td>0.0</td><td>1.000009</td></tr><tr><td>&quot;GAC&quot;</td><td>2</td><td>BetaBernoulliModel(alpha=1, beta=108964)</td><td>0.0</td><td>1.000009</td></tr><tr><td>&quot;CGT&quot;</td><td>0</td><td>BetaBernoulliModel(alpha=1, beta=146411)</td><td>0.0</td><td>1.000007</td></tr><tr><td>&quot;AAC&quot;</td><td>2</td><td>BetaBernoulliModel(alpha=1, beta=165190)</td><td>0.0</td><td>1.000006</td></tr><tr><td>&quot;CGC&quot;</td><td>0</td><td>BetaBernoulliModel(alpha=1, beta=212874)</td><td>0.0</td><td>1.000005</td></tr></tbody></table></div>"
      ],
      "text/plain": [
       "shape: (6_372, 5)\n",
       "┌───────┬─────────────────┬───────────────────────────────────┬───────────┬──────────────┐\n",
       "│ motif ┆ motif_mod_index ┆ posterior                         ┆ cdf_score ┆ signal_noise │\n",
       "│ ---   ┆ ---             ┆ ---                               ┆ ---       ┆ ---          │\n",
       "│ str   ┆ i64             ┆ object                            ┆ f64       ┆ f64          │\n",
       "╞═══════╪═════════════════╪═══════════════════════════════════╪═══════════╪══════════════╡\n",
       "│ CCTGG ┆ 1               ┆ BetaBernoulliModel(alpha=11995, … ┆ 1.0       ┆ 1636.050744  │\n",
       "│ CCAGG ┆ 1               ┆ BetaBernoulliModel(alpha=11959, … ┆ 1.0       ┆ 1265.376316  │\n",
       "│ G     ┆ 0               ┆ BetaBernoulliModel(alpha=65608, … ┆ 0.0       ┆ 259.782107   │\n",
       "│ A     ┆ 0               ┆ BetaBernoulliModel(alpha=62380, … ┆ 0.0       ┆ 253.243027   │\n",
       "│ …     ┆ …               ┆ …                                 ┆ …         ┆ …            │\n",
       "│ GAC   ┆ 2               ┆ BetaBernoulliModel(alpha=1, beta… ┆ 0.0       ┆ 1.000009     │\n",
       "│ CGT   ┆ 0               ┆ BetaBernoulliModel(alpha=1, beta… ┆ 0.0       ┆ 1.000007     │\n",
       "│ AAC   ┆ 2               ┆ BetaBernoulliModel(alpha=1, beta… ┆ 0.0       ┆ 1.000006     │\n",
       "│ CGC   ┆ 0               ┆ BetaBernoulliModel(alpha=1, beta… ┆ 0.0       ┆ 1.000005     │\n",
       "└───────┴─────────────────┴───────────────────────────────────┴───────────┴──────────────┘"
      ]
     },
     "execution_count": 16,
     "metadata": {},
     "output_type": "execute_result"
    }
   ],
   "source": [
    "scored_candidates.with_columns(\n",
    "    pl.col(\"posterior\").apply(lambda model: 1 - model.cdf(0.8)).alias(\"cdf_score\"),\n",
    "    pl.col(\"posterior\").apply(lambda model: model.mean() / model.standard_deviation()).alias(\"signal_noise\"),\n",
    ").sort(pl.col(\"signal_noise\"), descending = True)"
   ]
  },
  {
   "cell_type": "code",
   "execution_count": null,
   "metadata": {},
   "outputs": [],
   "source": []
  }
 ],
 "metadata": {
  "kernelspec": {
   "display_name": "Python 3",
   "language": "python",
   "name": "python3"
  },
  "language_info": {
   "codemirror_mode": {
    "name": "ipython",
    "version": 3
   },
   "file_extension": ".py",
   "mimetype": "text/x-python",
   "name": "python",
   "nbconvert_exporter": "python",
   "pygments_lexer": "ipython3",
   "version": "3.9.16"
  },
  "orig_nbformat": 4
 },
 "nbformat": 4,
 "nbformat_minor": 2
}
