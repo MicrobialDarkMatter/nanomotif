{
 "cells": [
  {
   "cell_type": "markdown",
   "metadata": {},
   "source": [
    "Initial implementation of Beta-Bernoulli model, based the contig levels methylation calls. "
   ]
  },
  {
   "cell_type": "code",
   "execution_count": 1,
   "metadata": {},
   "outputs": [],
   "source": [
    "import methmotif.evaluate as mm\n",
    "import polars as pl\n",
    "import re"
   ]
  },
  {
   "cell_type": "code",
   "execution_count": 2,
   "metadata": {},
   "outputs": [],
   "source": [
    "assembly = mm.Assembly(\"../data/ecoli/assembly.polished.fasta\")"
   ]
  },
  {
   "cell_type": "code",
   "execution_count": 3,
   "metadata": {},
   "outputs": [],
   "source": [
    "ecoli = mm.Pileup(\"../data/ecoli/modkit.pileup.bed\")\n",
    "ecoli_6mA_80p = ecoli.pileup.filter(pl.col(\"mod_type\") == \"a\").filter(pl.col(\"fraction_mod\") > 0.8)"
   ]
  },
  {
   "cell_type": "markdown",
   "metadata": {},
   "source": [
    "Select positions with a fraction reads above 80% as positive methylations"
   ]
  },
  {
   "cell_type": "code",
   "execution_count": 4,
   "metadata": {},
   "outputs": [],
   "source": [
    "candidate_motifs = mm.generate_kmers(4, alphabet=[\"A\", \"C\", \"G\", \"T\"])\n",
    "candidate_motifs_indexed = [[motif, i] for motif in candidate_motifs for i in range(len(motif))]\n",
    "candidate_motifs_indexed = list(map(list, zip(*candidate_motifs_indexed)))\n"
   ]
  },
  {
   "cell_type": "code",
   "execution_count": 5,
   "metadata": {},
   "outputs": [],
   "source": [
    "motif_candidates = mm.MotifCandidates(candidate_motifs_indexed[0], candidate_motifs_indexed[1])"
   ]
  },
  {
   "cell_type": "code",
   "execution_count": 6,
   "metadata": {},
   "outputs": [],
   "source": [
    "scored_candidates = mm.score_candidates(ecoli_6mA_80p, assembly, \"contig_3\", motif_candidates)"
   ]
  },
  {
   "cell_type": "code",
   "execution_count": 8,
   "metadata": {},
   "outputs": [
    {
     "data": {
      "text/html": [
       "<div><style>\n",
       ".dataframe > thead > tr > th,\n",
       ".dataframe > tbody > tr > td {\n",
       "  text-align: right;\n",
       "}\n",
       "</style>\n",
       "<small>shape: (1_252, 5)</small><table border=\"1\" class=\"dataframe\"><thead><tr><th>motif</th><th>motif_mod_index</th><th>posterior</th><th>cdf_score</th><th>signal_noise</th></tr><tr><td>str</td><td>i64</td><td>object</td><td>f64</td><td>f64</td></tr></thead><tbody><tr><td>&quot;GATC&quot;</td><td>1</td><td>BetaBernoulliModel(alpha=37562, beta=688)</td><td>1.0</td><td>1445.112081</td></tr><tr><td>&quot;C&quot;</td><td>0</td><td>BetaBernoulliModel(alpha=128648, beta=2228106)</td><td>0.0</td><td>368.884846</td></tr><tr><td>&quot;G&quot;</td><td>0</td><td>BetaBernoulliModel(alpha=113525, beta=2243229)</td><td>0.0</td><td>345.355334</td></tr><tr><td>&quot;T&quot;</td><td>0</td><td>BetaBernoulliModel(alpha=101413, beta=2182005)</td><td>0.0</td><td>325.770496</td></tr><tr><td>&quot;ATC&quot;</td><td>0</td><td>BetaBernoulliModel(alpha=37710, beta=135349)</td><td>0.0</td><td>219.58319</td></tr><tr><td>&quot;GAT&quot;</td><td>1</td><td>BetaBernoulliModel(alpha=37630, beta=135429)</td><td>0.0</td><td>219.285352</td></tr><tr><td>&quot;CG&quot;</td><td>0</td><td>BetaBernoulliModel(alpha=42045, beta=651333)</td><td>0.0</td><td>211.563615</td></tr><tr><td>&quot;A&quot;</td><td>0</td><td>BetaBernoulliModel(alpha=41864, beta=2241554)</td><td>0.0</td><td>206.5088</td></tr><tr><td>&quot;GA&quot;</td><td>1</td><td>BetaBernoulliModel(alpha=37926, beta=496692)</td><td>0.0</td><td>202.044546</td></tr><tr><td>&quot;AT&quot;</td><td>0</td><td>BetaBernoulliModel(alpha=38014, beta=581684)</td><td>0.0</td><td>201.242</td></tr><tr><td>&quot;AG&quot;</td><td>1</td><td>BetaBernoulliModel(alpha=36886, beta=437116)</td><td>0.0</td><td>199.996767</td></tr><tr><td>&quot;GC&quot;</td><td>0</td><td>BetaBernoulliModel(alpha=37734, beta=730200)</td><td>0.0</td><td>199.208442</td></tr><tr><td>&hellip;</td><td>&hellip;</td><td>&hellip;</td><td>&hellip;</td><td>&hellip;</td></tr><tr><td>&quot;GACA&quot;</td><td>1</td><td>BetaBernoulliModel(alpha=2, beta=26258)</td><td>0.0</td><td>1.414294</td></tr><tr><td>&quot;ACAT&quot;</td><td>2</td><td>BetaBernoulliModel(alpha=2, beta=28552)</td><td>0.0</td><td>1.414288</td></tr><tr><td>&quot;AGAT&quot;</td><td>0</td><td>BetaBernoulliModel(alpha=2, beta=32871)</td><td>0.0</td><td>1.414278</td></tr><tr><td>&quot;GATA&quot;</td><td>1</td><td>BetaBernoulliModel(alpha=2, beta=40353)</td><td>0.0</td><td>1.414266</td></tr><tr><td>&quot;CAAT&quot;</td><td>1</td><td>BetaBernoulliModel(alpha=2, beta=41966)</td><td>0.0</td><td>1.414264</td></tr><tr><td>&quot;TAAA&quot;</td><td>1</td><td>BetaBernoulliModel(alpha=2, beta=44651)</td><td>0.0</td><td>1.414261</td></tr><tr><td>&quot;TATA&quot;</td><td>3</td><td>BetaBernoulliModel(alpha=1, beta=17305)</td><td>0.0</td><td>1.000058</td></tr><tr><td>&quot;AGAG&quot;</td><td>2</td><td>BetaBernoulliModel(alpha=1, beta=20223)</td><td>0.0</td><td>1.000049</td></tr><tr><td>&quot;AGAC&quot;</td><td>2</td><td>BetaBernoulliModel(alpha=1, beta=20951)</td><td>0.0</td><td>1.000048</td></tr><tr><td>&quot;AATT&quot;</td><td>0</td><td>BetaBernoulliModel(alpha=1, beta=39315)</td><td>0.0</td><td>1.000025</td></tr><tr><td>&quot;AAAG&quot;</td><td>0</td><td>BetaBernoulliModel(alpha=1, beta=45985)</td><td>0.0</td><td>1.000022</td></tr><tr><td>&quot;CAAA&quot;</td><td>1</td><td>BetaBernoulliModel(alpha=1, beta=48574)</td><td>0.0</td><td>1.000021</td></tr></tbody></table></div>"
      ],
      "text/plain": [
       "shape: (1_252, 5)\n",
       "┌───────┬─────────────────┬───────────────────────────────────┬───────────┬──────────────┐\n",
       "│ motif ┆ motif_mod_index ┆ posterior                         ┆ cdf_score ┆ signal_noise │\n",
       "│ ---   ┆ ---             ┆ ---                               ┆ ---       ┆ ---          │\n",
       "│ str   ┆ i64             ┆ object                            ┆ f64       ┆ f64          │\n",
       "╞═══════╪═════════════════╪═══════════════════════════════════╪═══════════╪══════════════╡\n",
       "│ GATC  ┆ 1               ┆ BetaBernoulliModel(alpha=37562, … ┆ 1.0       ┆ 1445.112081  │\n",
       "│ C     ┆ 0               ┆ BetaBernoulliModel(alpha=128648,… ┆ 0.0       ┆ 368.884846   │\n",
       "│ G     ┆ 0               ┆ BetaBernoulliModel(alpha=113525,… ┆ 0.0       ┆ 345.355334   │\n",
       "│ T     ┆ 0               ┆ BetaBernoulliModel(alpha=101413,… ┆ 0.0       ┆ 325.770496   │\n",
       "│ …     ┆ …               ┆ …                                 ┆ …         ┆ …            │\n",
       "│ AGAC  ┆ 2               ┆ BetaBernoulliModel(alpha=1, beta… ┆ 0.0       ┆ 1.000048     │\n",
       "│ AATT  ┆ 0               ┆ BetaBernoulliModel(alpha=1, beta… ┆ 0.0       ┆ 1.000025     │\n",
       "│ AAAG  ┆ 0               ┆ BetaBernoulliModel(alpha=1, beta… ┆ 0.0       ┆ 1.000022     │\n",
       "│ CAAA  ┆ 1               ┆ BetaBernoulliModel(alpha=1, beta… ┆ 0.0       ┆ 1.000021     │\n",
       "└───────┴─────────────────┴───────────────────────────────────┴───────────┴──────────────┘"
      ]
     },
     "execution_count": 8,
     "metadata": {},
     "output_type": "execute_result"
    }
   ],
   "source": [
    "scored_candidates.with_columns(\n",
    "    pl.col(\"posterior\").apply(lambda model: 1 - model.cdf(0.8)).alias(\"cdf_score\"),\n",
    "    pl.col(\"posterior\").apply(lambda model: model.mean() / model.standard_deviation()).alias(\"signal_noise\"),\n",
    ").sort(pl.col(\"signal_noise\"), descending = True)"
   ]
  }
 ],
 "metadata": {
  "kernelspec": {
   "display_name": "Python 3",
   "language": "python",
   "name": "python3"
  },
  "language_info": {
   "codemirror_mode": {
    "name": "ipython",
    "version": 3
   },
   "file_extension": ".py",
   "mimetype": "text/x-python",
   "name": "python",
   "nbconvert_exporter": "python",
   "pygments_lexer": "ipython3",
   "version": "3.9.16"
  },
  "orig_nbformat": 4
 },
 "nbformat": 4,
 "nbformat_minor": 2
}
