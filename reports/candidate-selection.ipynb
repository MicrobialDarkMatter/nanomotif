{
 "cells": [
  {
   "cell_type": "code",
   "execution_count": 76,
   "metadata": {},
   "outputs": [],
   "source": [
    "import nanomotif as nm\n",
    "import polars as pl\n",
    "import matplotlib.pyplot as plt\n",
    "import re\n",
    "import numpy as np\n",
    "padding = 12"
   ]
  },
  {
   "cell_type": "markdown",
   "metadata": {},
   "source": [
    "# Intro\n",
    "\n",
    "Documentation of considerations in the implementation of the candidate selection. \n",
    "\n",
    "The selection is based on the sequences around methylation sites on the contig. At each methylated position, a frame of n posiion on each side of the methylation side is extracted and the index within this subsequence is considered relative to the methylation position (range: -n to n or 0:n*2).\n",
    "\n",
    "The initial approach for candidate selection is outlined here:\n",
    "\n",
    "1. Sample random sequences in contig at canonical bases (e.g. A when 6mA i evaluated)\n",
    "2. Calculate [PSSM](https://cs.rice.edu/~ogilvie/comp571/pssm/) for contig sequences\n",
    "3. Extract sequences in contig at all methylation sites\n",
    "4. Set motif candidate to canonical base\n",
    "2. While len(methylations sequences) > minimum sequences \n",
    "    - calculate PSSM for methylations sequences\n",
    "    - Calculate KL-divergence from methylation PSSM to contig PSSM\n",
    "    - Select position in sequence with highest distance\n",
    "    - Select most frequent base at this position\n",
    "    - Add base to motif\n",
    "    - Score new motif\n",
    "    - if score > threshold\n",
    "        - remove seuqences with motif from methylation sequences\n",
    "        - keep motif and score\n",
    "    - else\n",
    "        - select sequences with motif from methylation sequences\n",
    "\n",
    "This should grow a motif by incorporation the most informative positions and bases first. "
   ]
  },
  {
   "cell_type": "code",
   "execution_count": 98,
   "metadata": {},
   "outputs": [],
   "source": [
    "def motif_identification_workflow(pileup, contig, modtype, fraction_threshold, min_cov = 5, padding = 12, min_kl_divergence = 0.01, min_sequences = 500, cdf_limit = 0.55):\n",
    "    pileup_meth = pileup.filter(pl.col(\"mod_type\") == modtype).filter(pl.col(\"fraction_mod\") > fraction_threshold) \n",
    "    methylation_index = pileup_meth \\\n",
    "        .filter(pl.col(\"strand\") == \"+\") \\\n",
    "        .filter(pl.col(\"Nvalid_cov\") > min_cov) \\\n",
    "        .get_column(\"position\").to_list()\n",
    "    methylation_sequences = nm.seq.EqualLengthDNASet([nm.seq.DNAsequence(contig[(i - padding):(i + padding + 1)]) for i in methylation_index])\n",
    "    return nm.evaluate.identify_motifs(methylation_sequences, contig, pileup_meth, min_kl_divergence = min_kl_divergence, min_sequences = min_sequences, cdf_limit = cdf_limit)\n"
   ]
  },
  {
   "cell_type": "code",
   "execution_count": 99,
   "metadata": {},
   "outputs": [],
   "source": [
    "assembly = nm.load_assembly(\"../data/ecoli/assembly.polished.fasta\")\n",
    "ecoli = nm.load_pileup(\"../data/ecoli/modkit.pileup.bed\")"
   ]
  },
  {
   "cell_type": "code",
   "execution_count": 104,
   "metadata": {},
   "outputs": [
    {
     "name": "stdout",
     "output_type": "stream",
     "text": [
      "............A............ | cdf score: 0.000 | n seqs:    21390 | max kl: inf\n",
      "...........GA............ | cdf score: 0.000 | n seqs:    20956 | max kl: 1.031\n",
      "...........GAT........... | cdf score: 0.000 | n seqs:    18970 | max kl: 1.244\n",
      "...........GATC.......... | cdf score: 1.000 | n seqs:    18817 | max kl: 1.270\n",
      "Saving candidate\n",
      "............A............ | cdf score: 0.000 | n seqs:     2604 | max kl: inf\n",
      "............AC........... | cdf score: 0.000 | n seqs:     2170 | max kl: 0.297\n",
      "............AC......G.... | cdf score: 0.000 | n seqs:      897 | max kl: 0.493\n",
      "............AC......GT... | cdf score: 0.000 | n seqs:      645 | max kl: 0.908\n",
      "............AC......GTT.. | cdf score: 0.000 | n seqs:      567 | max kl: 0.581\n",
      "..........G.AC......GTT.. | cdf score: 0.000 | n seqs:      277 | max kl: 1.293\n",
      "..........GCAC......GTT.. | cdf score: 1.000 | n seqs:      272 | max kl: 1.256\n",
      "Saving candidate\n",
      "............A............ | cdf score: 0.000 | n seqs:     2332 | max kl: inf\n",
      "............AG........... | cdf score: 0.000 | n seqs:     1898 | max kl: 0.271\n",
      "............AGG.......... | cdf score: 0.000 | n seqs:      857 | max kl: 0.785\n",
      "..........C.AGG.......... | cdf score: 0.000 | n seqs:      696 | max kl: 1.098\n",
      "..........CCAGG.......... | cdf score: 0.000 | n seqs:      644 | max kl: 1.179\n",
      ".........GCCAGG.......... | cdf score: 0.000 | n seqs:      636 | max kl: 0.256\n",
      ".......G.GCCAGG.......... | cdf score: 0.000 | n seqs:      384 | max kl: 0.093\n",
      "Too few sequences left\n",
      "............A............ | cdf score: 0.000 | n seqs:     2184 | max kl: inf\n",
      "............AG........... | cdf score: 0.000 | n seqs:     1750 | max kl: 0.230\n",
      "............AGG.......... | cdf score: 0.000 | n seqs:      709 | max kl: 0.699\n",
      "..........C.AGG.......... | cdf score: 0.000 | n seqs:      548 | max kl: 1.028\n",
      "..........CCAGG.......... | cdf score: 0.000 | n seqs:      496 | max kl: 1.160\n",
      "........G.CCAGG.......... | cdf score: 0.000 | n seqs:      488 | max kl: 0.165\n",
      ".......CG.CCAGG.......... | cdf score: 0.000 | n seqs:      268 | max kl: 0.104\n",
      "Too few sequences left\n",
      "............A............ | cdf score: 0.000 | n seqs:     2063 | max kl: inf\n",
      "............AC........... | cdf score: 0.000 | n seqs:     1629 | max kl: 0.200\n",
      "...........AAC........... | cdf score: 0.000 | n seqs:      625 | max kl: 0.338\n",
      "...........AAC......G.... | cdf score: 0.000 | n seqs:      363 | max kl: 0.737\n",
      "...........AAC......GT... | cdf score: 0.000 | n seqs:      302 | max kl: 1.036\n",
      "...........AAC......GTG.. | cdf score: 0.000 | n seqs:      277 | max kl: 1.296\n",
      "...........AAC......GTGC. | cdf score: 1.000 | n seqs:      272 | max kl: 1.330\n",
      "Saving candidate\n",
      "............A............ | cdf score: 0.000 | n seqs:     1792 | max kl: inf\n",
      "............A.G.......... | cdf score: 0.000 | n seqs:     1358 | max kl: 0.253\n",
      "............AGG.......... | cdf score: 0.000 | n seqs:      602 | max kl: 0.596\n",
      "..........C.AGG.......... | cdf score: 0.000 | n seqs:      427 | max kl: 0.942\n",
      "..........CCAGG.......... | cdf score: 0.000 | n seqs:      375 | max kl: 1.135\n",
      "..........CCAGGC......... | cdf score: 0.000 | n seqs:      367 | max kl: 0.133\n",
      "Too few sequences left\n",
      "............A............ | cdf score: 0.000 | n seqs:     1639 | max kl: inf\n",
      "............A.C.......... | cdf score: 0.000 | n seqs:     1205 | max kl: 0.218\n",
      "............A.C..G....... | cdf score: 0.000 | n seqs:      538 | max kl: 0.280\n",
      "............A.C..GG...... | cdf score: 0.000 | n seqs:      315 | max kl: 0.324\n",
      "Too few sequences left\n",
      "............A............ | cdf score: 0.000 | n seqs:     1446 | max kl: inf\n",
      "............A.G.......... | cdf score: 0.000 | n seqs:     1012 | max kl: 0.192\n",
      "............AGG.......... | cdf score: 0.000 | n seqs:      449 | max kl: 0.395\n",
      "..........C.AGG.......... | cdf score: 0.000 | n seqs:      274 | max kl: 0.753\n",
      "..........CCAGG.......... | cdf score: 0.000 | n seqs:      222 | max kl: 1.071\n",
      "..........CCAGGT......... | cdf score: 0.000 | n seqs:      214 | max kl: 0.363\n",
      "Too few sequences left\n",
      "............A............ | cdf score: 0.000 | n seqs:     1348 | max kl: inf\n",
      "........G...A............ | cdf score: 0.000 | n seqs:      914 | max kl: 0.191\n",
      "........G.T.A............ | cdf score: 0.000 | n seqs:      495 | max kl: 0.389\n",
      "........GAT.A............ | cdf score: 0.000 | n seqs:      318 | max kl: 0.617\n",
      "........GATCA............ | cdf score: 0.000 | n seqs:      248 | max kl: 1.052\n",
      "........GATCAC........... | cdf score: 0.000 | n seqs:      238 | max kl: 0.567\n",
      "Too few sequences left\n",
      "............A............ | cdf score: 0.000 | n seqs:     1196 | max kl: inf\n",
      "............A.G.......... | cdf score: 0.000 | n seqs:      762 | max kl: 0.162\n",
      "............AGG.......... | cdf score: 0.000 | n seqs:      325 | max kl: 0.293\n",
      "Too few sequences left\n",
      "............A............ | cdf score: 0.000 | n seqs:     1020 | max kl: inf\n",
      ".....G......A............ | cdf score: 0.000 | n seqs:      586 | max kl: 0.143\n",
      ".....G..C...A............ | cdf score: 0.000 | n seqs:      301 | max kl: 0.186\n",
      "Too few sequences left\n",
      "............A............ | cdf score: 0.000 | n seqs:      891 | max kl: inf\n",
      "........G...A............ | cdf score: 0.000 | n seqs:      457 | max kl: 0.208\n",
      "........G.T.A............ | cdf score: 0.000 | n seqs:      264 | max kl: 0.282\n",
      "Too few sequences left\n",
      "............G............ | cdf score: 0.000 | n seqs:      742 | max kl: inf\n",
      ".........G..G............ | cdf score: 0.000 | n seqs:      323 | max kl: 0.301\n",
      "........GG..G............ | cdf score: 0.000 | n seqs:      202 | max kl: 0.254\n",
      "Too few sequences left\n",
      "............A............ | cdf score: 0.000 | n seqs:      619 | max kl: inf\n",
      "............A...C........ | cdf score: 0.000 | n seqs:      308 | max kl: 0.208\n",
      "Too few sequences left\n",
      "............G............ | cdf score: 0.000 | n seqs:      456 | max kl: inf\n",
      "............G.G.......... | cdf score: 0.000 | n seqs:      200 | max kl: 0.245\n",
      "Too few sequences left\n",
      "............A............ | cdf score: 0.000 | n seqs:      355 | max kl: inf\n",
      "Too few sequences left\n",
      "............G............ | cdf score: 0.000 | n seqs:      210 | max kl: inf\n",
      "Too few sequences left\n"
     ]
    }
   ],
   "source": [
    "ecol_6ma = motif_identification_workflow(ecoli.pileup, assembly[\"contig_3\"], \"a\", 0.8, min_sequences=200)"
   ]
  },
  {
   "cell_type": "code",
   "execution_count": 105,
   "metadata": {},
   "outputs": [
    {
     "data": {
      "text/plain": [
       "(['...........GATC..........',\n",
       "  '..........GCAC......GTT..',\n",
       "  '...........AAC......GTGC.'],\n",
       " [BetaBernoulliModel(alpha=33978, beta=506),\n",
       "  BetaBernoulliModel(alpha=529, beta=67),\n",
       "  BetaBernoulliModel(alpha=558, beta=38)],\n",
       " [1.0, 1.0, 1.0])"
      ]
     },
     "execution_count": 105,
     "metadata": {},
     "output_type": "execute_result"
    }
   ],
   "source": [
    "ecol_6ma"
   ]
  },
  {
   "cell_type": "code",
   "execution_count": 108,
   "metadata": {},
   "outputs": [
    {
     "name": "stdout",
     "output_type": "stream",
     "text": [
      "............C............ | cdf score: 0.000 | n seqs:    12359 | max kl: inf\n",
      "............C.G.......... | cdf score: 0.000 | n seqs:    12275 | max kl: 1.336\n",
      "............C.GG......... | cdf score: 0.000 | n seqs:    12023 | max kl: 1.325\n",
      "...........CC.GG......... | cdf score: 0.000 | n seqs:    11979 | max kl: 1.230\n",
      "...........CCAGG......... | cdf score: 1.000 | n seqs:    11949 | max kl: 0.575\n",
      "Saving candidate\n",
      "............C............ | cdf score: 0.000 | n seqs:     6374 | max kl: inf\n",
      "............C.G.......... | cdf score: 0.000 | n seqs:     6290 | max kl: 1.255\n",
      "............C.GG......... | cdf score: 0.000 | n seqs:     6038 | max kl: 1.302\n",
      "............CTGG......... | cdf score: 0.000 | n seqs:     5994 | max kl: 1.300\n",
      "...........CCTGG......... | cdf score: 1.000 | n seqs:     5979 | max kl: 1.230\n",
      "Saving candidate\n",
      "............C............ | cdf score: 0.000 | n seqs:      410 | max kl: inf\n",
      "............C.A.......... | cdf score: 0.000 | n seqs:      326 | max kl: 0.406\n",
      "Too few sequences left\n",
      "............C............ | cdf score: 0.000 | n seqs:      216 | max kl: inf\n",
      "Too few sequences left\n"
     ]
    }
   ],
   "source": [
    "ecol_5mc = motif_identification_workflow(ecoli.pileup, assembly[\"contig_3\"], \"m\", 0.8, min_sequences=200, cdf_limit = 0.6)"
   ]
  },
  {
   "cell_type": "code",
   "execution_count": 109,
   "metadata": {},
   "outputs": [
    {
     "data": {
      "text/plain": [
       "(['...........CCAGG.........', '...........CCTGG.........'],\n",
       " [BetaBernoulliModel(alpha=11634, beta=90),\n",
       "  BetaBernoulliModel(alpha=11671, beta=53)],\n",
       " [1.0, 1.0])"
      ]
     },
     "execution_count": 109,
     "metadata": {},
     "output_type": "execute_result"
    }
   ],
   "source": [
    "ecol_5mc"
   ]
  },
  {
   "cell_type": "markdown",
   "metadata": {},
   "source": [
    "# M. ruber"
   ]
  },
  {
   "cell_type": "code",
   "execution_count": 83,
   "metadata": {},
   "outputs": [],
   "source": [
    "mruber_assembly = nm.load_assembly(\"../data/mruber/assembly.polished.fasta\")\n",
    "mruber = nm.load_pileup(\"../data/mruber/modkit.pileup.bed\")"
   ]
  },
  {
   "cell_type": "code",
   "execution_count": 110,
   "metadata": {},
   "outputs": [
    {
     "name": "stdout",
     "output_type": "stream",
     "text": [
      "............A............ | cdf score: 0.000 | n seqs:    27680 | max kl: inf\n",
      "...........GA............ | cdf score: 0.000 | n seqs:    21875 | max kl: 0.450\n",
      "...........GAG........... | cdf score: 0.000 | n seqs:    14845 | max kl: 0.627\n",
      ".........T.GAG........... | cdf score: 0.000 | n seqs:     7574 | max kl: 1.033\n",
      "........CT.GAG........... | cdf score: 0.987 | n seqs:     6499 | max kl: 0.997\n",
      "Saving candidate\n",
      "............A............ | cdf score: 0.000 | n seqs:    21290 | max kl: inf\n",
      "............AT........... | cdf score: 0.000 | n seqs:    15485 | max kl: 0.626\n",
      "...........GAT........... | cdf score: 0.000 | n seqs:    10551 | max kl: 0.579\n",
      "...........GATC.......... | cdf score: 1.000 | n seqs:     7081 | max kl: 0.831\n",
      "Saving candidate\n",
      "............A............ | cdf score: 0.000 | n seqs:    14447 | max kl: inf\n",
      "...........AA............ | cdf score: 0.000 | n seqs:     8642 | max kl: 0.304\n",
      "...........AA.T.......... | cdf score: 0.000 | n seqs:     5039 | max kl: 0.586\n",
      "...........AATT.......... | cdf score: 1.000 | n seqs:     3011 | max kl: 1.326\n",
      "Saving candidate\n",
      "............A............ | cdf score: 0.000 | n seqs:    11674 | max kl: inf\n",
      "..........G.A............ | cdf score: 0.000 | n seqs:     5869 | max kl: 0.345\n",
      ".........GG.A............ | cdf score: 0.000 | n seqs:     2504 | max kl: 0.705\n",
      ".........GGGA............ | cdf score: 0.000 | n seqs:     2102 | max kl: 0.260\n",
      ".........GGGAG........... | cdf score: 0.000 | n seqs:     1089 | max kl: 0.708\n",
      ".........GGGAGC.......... | cdf score: 1.000 | n seqs:      972 | max kl: 0.761\n",
      "Saving candidate\n",
      "............A............ | cdf score: 0.000 | n seqs:    10755 | max kl: inf\n",
      "..........T.A............ | cdf score: 0.000 | n seqs:     4950 | max kl: 0.370\n",
      ".........TT.A............ | cdf score: 0.000 | n seqs:     2390 | max kl: 0.883\n",
      ".........TTAA............ | cdf score: 1.000 | n seqs:     2000 | max kl: 1.418\n",
      "Saving candidate\n",
      "............G............ | cdf score: 0.000 | n seqs:     8773 | max kl: inf\n",
      "........G...G............ | cdf score: 0.000 | n seqs:     3567 | max kl: 0.310\n",
      "........GG..G............ | cdf score: 0.000 | n seqs:     2167 | max kl: 0.571\n",
      "........GGG.G............ | cdf score: 0.000 | n seqs:     1722 | max kl: 0.223\n",
      "...G....GGG.G............ | cdf score: 0.000 | n seqs:      894 | max kl: 0.214\n",
      "G..G....GGG.G............ | cdf score: 0.000 | n seqs:      514 | max kl: 0.168\n",
      "Too few sequences left\n",
      "............G............ | cdf score: 0.000 | n seqs:     8504 | max kl: inf\n",
      "........G...G............ | cdf score: 0.000 | n seqs:     3298 | max kl: 0.291\n",
      "........GG..G............ | cdf score: 0.000 | n seqs:     1898 | max kl: 0.507\n",
      "........GGG.G............ | cdf score: 0.000 | n seqs:     1453 | max kl: 0.181\n",
      "........GGGAG............ | cdf score: 0.000 | n seqs:      625 | max kl: 0.181\n",
      "Too few sequences left\n",
      "............G............ | cdf score: 0.000 | n seqs:     8198 | max kl: inf\n",
      "........G...G............ | cdf score: 0.000 | n seqs:     2992 | max kl: 0.273\n",
      "........GG..G............ | cdf score: 0.000 | n seqs:     1592 | max kl: 0.417\n",
      "........GGT.G............ | cdf score: 0.000 | n seqs:     1147 | max kl: 0.187\n",
      "Too few sequences left\n",
      "............A............ | cdf score: 0.000 | n seqs:     7757 | max kl: inf\n",
      "............A......T..... | cdf score: 0.000 | n seqs:     2968 | max kl: 0.245\n",
      "............A......TG.... | cdf score: 0.000 | n seqs:     1430 | max kl: 0.741\n",
      "...........CA......TG.... | cdf score: 0.000 | n seqs:     1294 | max kl: 0.736\n",
      "...........CA......TGG... | cdf score: 0.000 | n seqs:     1202 | max kl: 0.506\n",
      ".........G.CA......TGG... | cdf score: 0.000 | n seqs:      669 | max kl: 1.196\n",
      ".........GGCA......TGG... | cdf score: 1.000 | n seqs:      661 | max kl: 1.160\n",
      "Saving candidate\n",
      "............G............ | cdf score: 0.000 | n seqs:     7099 | max kl: inf\n",
      "........G...G............ | cdf score: 0.000 | n seqs:     2551 | max kl: 0.258\n",
      "........GG..G............ | cdf score: 0.000 | n seqs:     1151 | max kl: 0.242\n",
      "........GGC.G............ | cdf score: 0.000 | n seqs:      706 | max kl: 0.246\n",
      "Too few sequences left\n",
      "............A............ | cdf score: 0.000 | n seqs:     6772 | max kl: inf\n",
      "..G.........A............ | cdf score: 0.000 | n seqs:     2310 | max kl: 0.236\n",
      "..GG........A............ | cdf score: 0.000 | n seqs:     1516 | max kl: 0.305\n",
      "..GG....G...A............ | cdf score: 0.000 | n seqs:      958 | max kl: 0.273\n",
      "..GG....G.G.A............ | cdf score: 0.000 | n seqs:      669 | max kl: 0.231\n",
      "Too few sequences left\n",
      "............G............ | cdf score: 0.000 | n seqs:     6436 | max kl: inf\n",
      "..........G.G............ | cdf score: 0.000 | n seqs:     2224 | max kl: 0.409\n"
     ]
    },
    {
     "ename": "KeyboardInterrupt",
     "evalue": "",
     "output_type": "error",
     "traceback": [
      "\u001b[0;31m---------------------------------------------------------------------------\u001b[0m",
      "\u001b[0;31mKeyboardInterrupt\u001b[0m                         Traceback (most recent call last)",
      "\u001b[1;32m/user_data/sh/motif-finder/reports/candidate-selection.ipynb Cell 11\u001b[0m line \u001b[0;36m1\n\u001b[0;32m----> <a href='vscode-notebook-cell://ssh-remote%2Bbio09/user_data/sh/motif-finder/reports/candidate-selection.ipynb#X21sdnNjb2RlLXJlbW90ZQ%3D%3D?line=0'>1</a>\u001b[0m mruber_6ma \u001b[39m=\u001b[39m motif_identification_workflow(mruber\u001b[39m.\u001b[39;49mpileup, mruber_assembly[\u001b[39m\"\u001b[39;49m\u001b[39mcontig_1\u001b[39;49m\u001b[39m\"\u001b[39;49m], \u001b[39m\"\u001b[39;49m\u001b[39ma\u001b[39;49m\u001b[39m\"\u001b[39;49m, \u001b[39m0.8\u001b[39;49m, cdf_limit\u001b[39m=\u001b[39;49m\u001b[39m0.6\u001b[39;49m)\n",
      "\u001b[1;32m/user_data/sh/motif-finder/reports/candidate-selection.ipynb Cell 11\u001b[0m line \u001b[0;36m8\n\u001b[1;32m      <a href='vscode-notebook-cell://ssh-remote%2Bbio09/user_data/sh/motif-finder/reports/candidate-selection.ipynb#X21sdnNjb2RlLXJlbW90ZQ%3D%3D?line=2'>3</a>\u001b[0m methylation_index \u001b[39m=\u001b[39m pileup_meth \\\n\u001b[1;32m      <a href='vscode-notebook-cell://ssh-remote%2Bbio09/user_data/sh/motif-finder/reports/candidate-selection.ipynb#X21sdnNjb2RlLXJlbW90ZQ%3D%3D?line=3'>4</a>\u001b[0m     \u001b[39m.\u001b[39mfilter(pl\u001b[39m.\u001b[39mcol(\u001b[39m\"\u001b[39m\u001b[39mstrand\u001b[39m\u001b[39m\"\u001b[39m) \u001b[39m==\u001b[39m \u001b[39m\"\u001b[39m\u001b[39m+\u001b[39m\u001b[39m\"\u001b[39m) \\\n\u001b[1;32m      <a href='vscode-notebook-cell://ssh-remote%2Bbio09/user_data/sh/motif-finder/reports/candidate-selection.ipynb#X21sdnNjb2RlLXJlbW90ZQ%3D%3D?line=4'>5</a>\u001b[0m     \u001b[39m.\u001b[39mfilter(pl\u001b[39m.\u001b[39mcol(\u001b[39m\"\u001b[39m\u001b[39mNvalid_cov\u001b[39m\u001b[39m\"\u001b[39m) \u001b[39m>\u001b[39m min_cov) \\\n\u001b[1;32m      <a href='vscode-notebook-cell://ssh-remote%2Bbio09/user_data/sh/motif-finder/reports/candidate-selection.ipynb#X21sdnNjb2RlLXJlbW90ZQ%3D%3D?line=5'>6</a>\u001b[0m     \u001b[39m.\u001b[39mget_column(\u001b[39m\"\u001b[39m\u001b[39mposition\u001b[39m\u001b[39m\"\u001b[39m)\u001b[39m.\u001b[39mto_list()\n\u001b[1;32m      <a href='vscode-notebook-cell://ssh-remote%2Bbio09/user_data/sh/motif-finder/reports/candidate-selection.ipynb#X21sdnNjb2RlLXJlbW90ZQ%3D%3D?line=6'>7</a>\u001b[0m methylation_sequences \u001b[39m=\u001b[39m nm\u001b[39m.\u001b[39mseq\u001b[39m.\u001b[39mEqualLengthDNASet([nm\u001b[39m.\u001b[39mseq\u001b[39m.\u001b[39mDNAsequence(contig[(i \u001b[39m-\u001b[39m padding):(i \u001b[39m+\u001b[39m padding \u001b[39m+\u001b[39m \u001b[39m1\u001b[39m)]) \u001b[39mfor\u001b[39;00m i \u001b[39min\u001b[39;00m methylation_index])\n\u001b[0;32m----> <a href='vscode-notebook-cell://ssh-remote%2Bbio09/user_data/sh/motif-finder/reports/candidate-selection.ipynb#X21sdnNjb2RlLXJlbW90ZQ%3D%3D?line=7'>8</a>\u001b[0m \u001b[39mreturn\u001b[39;00m nm\u001b[39m.\u001b[39;49mevaluate\u001b[39m.\u001b[39;49midentify_motifs(methylation_sequences, contig, pileup_meth, min_kl_divergence \u001b[39m=\u001b[39;49m min_kl_divergence, min_sequences \u001b[39m=\u001b[39;49m min_sequences, cdf_limit \u001b[39m=\u001b[39;49m cdf_limit)\n",
      "File \u001b[0;32m/user_data/sh/motif-finder/nanomotif/evaluate.py:102\u001b[0m, in \u001b[0;36midentify_motifs\u001b[0;34m(methylation_sequences, contig, pileup, min_sequences, min_cdf_score, cdf_limit, n_contig_samples, canonical_base, min_kl_divergence)\u001b[0m\n\u001b[1;32m     99\u001b[0m new_base \u001b[39m=\u001b[39m bases[active_methylation_sequences\u001b[39m.\u001b[39mpssm()[:, new_base_index]\u001b[39m.\u001b[39margmax()]\n\u001b[1;32m    100\u001b[0m active_candidate \u001b[39m=\u001b[39m active_candidate[:new_base_index] \u001b[39m+\u001b[39m new_base \u001b[39m+\u001b[39m active_candidate[new_base_index \u001b[39m+\u001b[39m \u001b[39m1\u001b[39m:]\n\u001b[0;32m--> 102\u001b[0m model \u001b[39m=\u001b[39m score_candidate(pileup, contig\u001b[39m.\u001b[39;49msequence, active_candidate, padding)\n\u001b[1;32m    103\u001b[0m score \u001b[39m=\u001b[39m \u001b[39m1\u001b[39m \u001b[39m-\u001b[39m model\u001b[39m.\u001b[39mcdf(cdf_limit)\n\u001b[1;32m    105\u001b[0m evaluated_positions\u001b[39m.\u001b[39mappend(new_base_index)\n",
      "File \u001b[0;32m/user_data/sh/motif-finder/nanomotif/evaluate.py:28\u001b[0m, in \u001b[0;36mscore_candidate\u001b[0;34m(pileup, contig, motif, motif_meth_index)\u001b[0m\n\u001b[1;32m     25\u001b[0m meth_positions_rev \u001b[39m=\u001b[39m pileup\u001b[39m.\u001b[39mfilter(pl\u001b[39m.\u001b[39mcol(\u001b[39m\"\u001b[39m\u001b[39mstrand\u001b[39m\u001b[39m\"\u001b[39m) \u001b[39m==\u001b[39m \u001b[39m\"\u001b[39m\u001b[39m-\u001b[39m\u001b[39m\"\u001b[39m)[\u001b[39m\"\u001b[39m\u001b[39mposition\u001b[39m\u001b[39m\"\u001b[39m]\u001b[39m.\u001b[39mto_numpy()\n\u001b[1;32m     27\u001b[0m motif_length \u001b[39m=\u001b[39m calculate_match_length(motif)\n\u001b[0;32m---> 28\u001b[0m index_meth_fwd, index_nonmeth_fwd \u001b[39m=\u001b[39m methylated_motif_occourances(motif, motif_meth_index, contig, meth_positions_fwd)\n\u001b[1;32m     29\u001b[0m index_meth_rev, index_nonmeth_rev \u001b[39m=\u001b[39m methylated_motif_occourances(reverse_complement(motif), motif_length \u001b[39m-\u001b[39m \u001b[39m1\u001b[39m \u001b[39m-\u001b[39m motif_meth_index, contig, meth_positions_rev)\n\u001b[1;32m     31\u001b[0m model \u001b[39m=\u001b[39m BetaBernoulliModel()\n",
      "File \u001b[0;32m/user_data/sh/motif-finder/nanomotif/evaluate.py:12\u001b[0m, in \u001b[0;36mmethylated_motif_occourances\u001b[0;34m(motif, motif_meth_index, seq, contig_meth_positions)\u001b[0m\n\u001b[1;32m      8\u001b[0m \u001b[39m\u001b[39m\u001b[39m\"\"\"\u001b[39;00m\n\u001b[1;32m      9\u001b[0m \u001b[39mGet occourances of a motif in a contig\u001b[39;00m\n\u001b[1;32m     10\u001b[0m \u001b[39m\"\"\"\u001b[39;00m\n\u001b[1;32m     11\u001b[0m \u001b[39m# Motif match index\u001b[39;00m\n\u001b[0;32m---> 12\u001b[0m motif_index \u001b[39m=\u001b[39m subseq_indices(motif, seq) \u001b[39m+\u001b[39m motif_meth_index\n\u001b[1;32m     13\u001b[0m \u001b[39m# Methylated motif positions\u001b[39;00m\n\u001b[1;32m     14\u001b[0m meth_occurences \u001b[39m=\u001b[39m np\u001b[39m.\u001b[39mintersect1d(contig_meth_positions, motif_index)\n",
      "File \u001b[0;32m/user_data/sh/motif-finder/nanomotif/utils.py:24\u001b[0m, in \u001b[0;36msubseq_indices\u001b[0;34m(subseq, seq)\u001b[0m\n\u001b[1;32m     20\u001b[0m \u001b[39mdef\u001b[39;00m \u001b[39msubseq_indices\u001b[39m(subseq, seq):\n\u001b[1;32m     21\u001b[0m \u001b[39m    \u001b[39m\u001b[39m\"\"\"\u001b[39;00m\n\u001b[1;32m     22\u001b[0m \u001b[39m    Find occourance indeces of a subseq in a seq\u001b[39;00m\n\u001b[1;32m     23\u001b[0m \u001b[39m    \"\"\"\u001b[39;00m\n\u001b[0;32m---> 24\u001b[0m     index \u001b[39m=\u001b[39m [match\u001b[39m.\u001b[39mstart() \u001b[39mfor\u001b[39;00m match \u001b[39min\u001b[39;00m re\u001b[39m.\u001b[39mfinditer(subseq, seq)]\n\u001b[1;32m     25\u001b[0m     \u001b[39mreturn\u001b[39;00m np\u001b[39m.\u001b[39marray(index)\n",
      "File \u001b[0;32m/user_data/sh/motif-finder/nanomotif/utils.py:24\u001b[0m, in \u001b[0;36m<listcomp>\u001b[0;34m(.0)\u001b[0m\n\u001b[1;32m     20\u001b[0m \u001b[39mdef\u001b[39;00m \u001b[39msubseq_indices\u001b[39m(subseq, seq):\n\u001b[1;32m     21\u001b[0m \u001b[39m    \u001b[39m\u001b[39m\"\"\"\u001b[39;00m\n\u001b[1;32m     22\u001b[0m \u001b[39m    Find occourance indeces of a subseq in a seq\u001b[39;00m\n\u001b[1;32m     23\u001b[0m \u001b[39m    \"\"\"\u001b[39;00m\n\u001b[0;32m---> 24\u001b[0m     index \u001b[39m=\u001b[39m [match\u001b[39m.\u001b[39mstart() \u001b[39mfor\u001b[39;00m match \u001b[39min\u001b[39;00m re\u001b[39m.\u001b[39mfinditer(subseq, seq)]\n\u001b[1;32m     25\u001b[0m     \u001b[39mreturn\u001b[39;00m np\u001b[39m.\u001b[39marray(index)\n",
      "\u001b[0;31mKeyboardInterrupt\u001b[0m: "
     ]
    }
   ],
   "source": [
    "mruber_6ma = motif_identification_workflow(mruber.pileup, mruber_assembly[\"contig_1\"], \"a\", 0.8, cdf_limit=0.7)"
   ]
  },
  {
   "cell_type": "code",
   "execution_count": 85,
   "metadata": {},
   "outputs": [
    {
     "data": {
      "text/plain": [
       "['........CT.GAG...........',\n",
       " '...........GATC..........',\n",
       " '...........AATT..........',\n",
       " '.........GGGAGC..........',\n",
       " '.........TTAA............',\n",
       " '.........GGCA......TGG...']"
      ]
     },
     "execution_count": 85,
     "metadata": {},
     "output_type": "execute_result"
    }
   ],
   "source": [
    "pl.DataFrame(mruber_6ma).sort(\"column_2\", descending=True).get_column(\"column_0\").to_list()"
   ]
  },
  {
   "cell_type": "code",
   "execution_count": 86,
   "metadata": {},
   "outputs": [
    {
     "name": "stdout",
     "output_type": "stream",
     "text": [
      "............G............ | cdf score: 0.000 | n seqs:     1250 | max kl: inf\n",
      "............GA........... | cdf score: 0.000 | n seqs:      511 | max kl: 0.479\n",
      "Too few sequences left\n",
      "............C............ | cdf score: 0.000 | n seqs:      926 | max kl: inf\n",
      "Too few sequences left\n"
     ]
    }
   ],
   "source": [
    "mruber_5mc = motif_identification_workflow(mruber.pileup, mruber_assembly[\"contig_1\"], \"m\", 0.8)"
   ]
  },
  {
   "cell_type": "code",
   "execution_count": 87,
   "metadata": {},
   "outputs": [
    {
     "data": {
      "text/plain": [
       "([], [], [])"
      ]
     },
     "execution_count": 87,
     "metadata": {},
     "output_type": "execute_result"
    }
   ],
   "source": [
    "mruber_5mc"
   ]
  },
  {
   "cell_type": "markdown",
   "metadata": {},
   "source": [
    "# Geobacillus"
   ]
  },
  {
   "cell_type": "code",
   "execution_count": 88,
   "metadata": {},
   "outputs": [],
   "source": [
    "geobacillus_assembly = nm.load_assembly(\"../data/geobacillus/assembly.polished.fasta\")\n",
    "geobacillus = nm.load_pileup(\"../data/geobacillus/modkit.pileup.bed\")"
   ]
  },
  {
   "cell_type": "code",
   "execution_count": 89,
   "metadata": {},
   "outputs": [
    {
     "data": {
      "text/plain": [
       "{'contig_3': DNAsequence() | Number of sequence: 82915 | Unique Bases: ['A', 'G', 'C', 'T'],\n",
       " 'contig_2': DNAsequence() | Number of sequence: 93311 | Unique Bases: ['A', 'G', 'C', 'T'],\n",
       " 'contig_1': DNAsequence() | Number of sequence: 3857718 | Unique Bases: ['A', 'G', 'C', 'T']}"
      ]
     },
     "execution_count": 89,
     "metadata": {},
     "output_type": "execute_result"
    }
   ],
   "source": [
    "geobacillus_assembly.assembly"
   ]
  },
  {
   "cell_type": "code",
   "execution_count": 94,
   "metadata": {},
   "outputs": [
    {
     "name": "stdout",
     "output_type": "stream",
     "text": [
      "............A............ | cdf score: 0.000 | n seqs:    15963 | max kl: inf\n",
      "............A.C.......... | cdf score: 0.000 | n seqs:    15756 | max kl: 0.853\n",
      "...........GA.C.......... | cdf score: 0.000 | n seqs:    13195 | max kl: 1.066\n",
      "...........GATC.......... | cdf score: 1.000 | n seqs:    11617 | max kl: 1.218\n",
      "Saving candidate\n",
      "............A............ | cdf score: 0.000 | n seqs:     4350 | max kl: inf\n",
      "...........AA............ | cdf score: 0.000 | n seqs:     4143 | max kl: 0.497\n",
      "...........AAG........... | cdf score: 0.000 | n seqs:     3065 | max kl: 0.755\n",
      ".......G...AAG........... | cdf score: 0.000 | n seqs:     1556 | max kl: 1.468\n",
      ".......G..GAAG........... | cdf score: 0.000 | n seqs:     1552 | max kl: 1.407\n",
      ".......G..GAAGC.......... | cdf score: 0.000 | n seqs:     1551 | max kl: 0.763\n",
      ".......GA.GAAGC.......... | cdf score: 1.000 | n seqs:      904 | max kl: 0.706\n",
      "Saving candidate\n",
      "............A............ | cdf score: 0.000 | n seqs:     3714 | max kl: inf\n",
      ".........C..A............ | cdf score: 0.000 | n seqs:     3507 | max kl: 0.696\n",
      "........CC..A............ | cdf score: 0.000 | n seqs:     2610 | max kl: 0.550\n",
      "........CC..AT........... | cdf score: 0.000 | n seqs:     1478 | max kl: 1.115\n",
      "........CCA.AT........... | cdf score: 0.000 | n seqs:     1448 | max kl: 1.162\n",
      "........CCAAAT........... | cdf score: 1.000 | n seqs:     1447 | max kl: 0.992\n",
      "Saving candidate\n",
      "............A............ | cdf score: 0.000 | n seqs:     2267 | max kl: inf\n",
      "..........C.A............ | cdf score: 0.000 | n seqs:     2060 | max kl: 0.589\n",
      ".........CC.A............ | cdf score: 0.000 | n seqs:      975 | max kl: 1.497\n",
      ".........CCCA............ | cdf score: 0.000 | n seqs:      956 | max kl: 1.316\n",
      "........ACCCA............ | cdf score: 1.000 | n seqs:      926 | max kl: 1.237\n",
      "Saving candidate\n",
      "............A............ | cdf score: 0.000 | n seqs:     1342 | max kl: inf\n",
      "............AG........... | cdf score: 0.000 | n seqs:     1135 | max kl: 1.072\n",
      ".......G....AG........... | cdf score: 0.000 | n seqs:      934 | max kl: 1.387\n",
      ".......G..G.AG........... | cdf score: 0.000 | n seqs:      919 | max kl: 1.388\n",
      ".......G..GAAG........... | cdf score: 0.000 | n seqs:      916 | max kl: 0.984\n",
      ".......G..GAAGT.......... | cdf score: 0.000 | n seqs:      915 | max kl: 0.811\n",
      ".......GA.GAAGT.......... | cdf score: 1.000 | n seqs:      647 | max kl: 0.699\n",
      "Saving candidate\n",
      "............A............ | cdf score: 0.000 | n seqs:      895 | max kl: inf\n",
      "........G...A............ | cdf score: 0.000 | n seqs:      688 | max kl: 0.950\n",
      "........G...AG........... | cdf score: 0.000 | n seqs:      593 | max kl: 1.076\n",
      ".......GG...AG........... | cdf score: 0.000 | n seqs:      476 | max kl: 1.412\n",
      ".......GG.G.AG........... | cdf score: 0.000 | n seqs:      470 | max kl: 1.382\n",
      ".......GG.GAAG........... | cdf score: 0.000 | n seqs:      468 | max kl: 0.992\n",
      ".......GG.GAAGC.......... | cdf score: 1.000 | n seqs:      468 | max kl: 0.759\n",
      "Saving candidate\n",
      "............A............ | cdf score: 0.000 | n seqs:      627 | max kl: inf\n",
      "........G...A............ | cdf score: 0.000 | n seqs:      420 | max kl: 0.737\n",
      "........G...AG........... | cdf score: 0.000 | n seqs:      325 | max kl: 0.726\n",
      ".......GG...AG........... | cdf score: 0.000 | n seqs:      208 | max kl: 1.338\n",
      ".......GG...AGT.......... | cdf score: 0.000 | n seqs:      202 | max kl: 1.358\n",
      ".......GG.G.AGT.......... | cdf score: 0.000 | n seqs:      201 | max kl: 1.381\n",
      ".......GG.GAAGT.......... | cdf score: 1.000 | n seqs:      200 | max kl: 0.992\n",
      "Saving candidate\n",
      "............A............ | cdf score: 0.000 | n seqs:      427 | max kl: inf\n",
      "........G...A............ | cdf score: 0.000 | n seqs:      220 | max kl: 0.401\n",
      "Too few sequences left\n",
      "............G............ | cdf score: 0.000 | n seqs:      302 | max kl: inf\n",
      "Too few sequences left\n"
     ]
    }
   ],
   "source": [
    "geobacillus_6ma = motif_identification_workflow(geobacillus.pileup.filter(pl.col(\"contig\") == \"contig_1\"), geobacillus_assembly[\"contig_1\"], \"a\", 0.8, min_sequences=200)"
   ]
  },
  {
   "cell_type": "code",
   "execution_count": 95,
   "metadata": {},
   "outputs": [
    {
     "data": {
      "text/plain": [
       "(['...........GATC..........',\n",
       "  '.......GA.GAAGC..........',\n",
       "  '........CCAAAT...........',\n",
       "  '........ACCCA............',\n",
       "  '.......GA.GAAGT..........',\n",
       "  '.......GG.GAAGC..........',\n",
       "  '.......GG.GAAGT..........'],\n",
       " [BetaBernoulliModel(alpha=21448, beta=3052),\n",
       "  BetaBernoulliModel(alpha=1255, beta=160),\n",
       "  BetaBernoulliModel(alpha=2847, beta=321),\n",
       "  BetaBernoulliModel(alpha=1804, beta=778),\n",
       "  BetaBernoulliModel(alpha=872, beta=197),\n",
       "  BetaBernoulliModel(alpha=534, beta=109),\n",
       "  BetaBernoulliModel(alpha=396, beta=135)],\n",
       " [1.0, 1.0, 1.0, 1.0, 1.0, 1.0, 1.0])"
      ]
     },
     "execution_count": 95,
     "metadata": {},
     "output_type": "execute_result"
    }
   ],
   "source": [
    "geobacillus_6ma"
   ]
  },
  {
   "cell_type": "code",
   "execution_count": 96,
   "metadata": {},
   "outputs": [
    {
     "name": "stdout",
     "output_type": "stream",
     "text": [
      "............C............ | cdf score: 0.000 | n seqs:     1411 | max kl: inf\n",
      "............C...C........ | cdf score: 0.000 | n seqs:     1314 | max kl: 0.482\n",
      "............CG..C........ | cdf score: 0.000 | n seqs:      873 | max kl: 0.981\n",
      "............CG.TC........ | cdf score: 0.000 | n seqs:      700 | max kl: 1.331\n",
      "............CGATC........ | cdf score: 0.000 | n seqs:      694 | max kl: 1.186\n",
      "...........CCGATC........ | cdf score: 0.000 | n seqs:      693 | max kl: 0.654\n",
      "Too few sequences left\n",
      "............C............ | cdf score: 0.000 | n seqs:      928 | max kl: inf\n",
      "...........GC............ | cdf score: 0.000 | n seqs:      831 | max kl: 0.300\n",
      "Too few sequences left\n",
      "............C............ | cdf score: 0.000 | n seqs:      588 | max kl: inf\n",
      "Too few sequences left\n"
     ]
    }
   ],
   "source": [
    "geobacillus_5mc = motif_identification_workflow(geobacillus.pileup.filter(pl.col(\"contig\") == \"contig_1\"), geobacillus_assembly[\"contig_1\"], \"m\", 0.5)"
   ]
  },
  {
   "cell_type": "code",
   "execution_count": 97,
   "metadata": {},
   "outputs": [
    {
     "data": {
      "text/plain": [
       "([], [], [])"
      ]
     },
     "execution_count": 97,
     "metadata": {},
     "output_type": "execute_result"
    }
   ],
   "source": [
    "geobacillus_5mc"
   ]
  }
 ],
 "metadata": {
  "kernelspec": {
   "display_name": "Python 3",
   "language": "python",
   "name": "python3"
  },
  "language_info": {
   "codemirror_mode": {
    "name": "ipython",
    "version": 3
   },
   "file_extension": ".py",
   "mimetype": "text/x-python",
   "name": "python",
   "nbconvert_exporter": "python",
   "pygments_lexer": "ipython3",
   "version": "3.9.16"
  },
  "orig_nbformat": 4
 },
 "nbformat": 4,
 "nbformat_minor": 2
}
