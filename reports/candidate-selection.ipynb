{
 "cells": [
  {
   "cell_type": "code",
   "execution_count": 76,
   "metadata": {},
   "outputs": [],
   "source": [
    "import nanomotif as nm\n",
    "import polars as pl\n",
    "import matplotlib.pyplot as plt\n",
    "import re\n",
    "import numpy as np\n",
    "padding = 12"
   ]
  },
  {
   "cell_type": "markdown",
   "metadata": {},
   "source": [
    "# Intro\n",
    "\n",
    "Documentation of considerations in the implementation of the candidate selection. \n",
    "\n",
    "The selection is based on the sequences around methylation sites on the contig. At each methylated position, a frame of n posiion on each side of the methylation side is extracted and the index within this subsequence is considered relative to the methylation position (range: -n to n or 0:n*2).\n",
    "\n",
    "The initial approach for candidate selection is outlined here:\n",
    "\n",
    "1. Sample random sequences in contig at canonical bases (e.g. A when 6mA i evaluated)\n",
    "2. Calculate [PSSM](https://cs.rice.edu/~ogilvie/comp571/pssm/) for contig sequences\n",
    "3. Extract sequences in contig at all methylation sites\n",
    "4. Set motif candidate to canonical base\n",
    "2. While len(methylations sequences) > minimum sequences \n",
    "    - calculate PSSM for methylations sequences\n",
    "    - Calculate KL-divergence from methylation PSSM to contig PSSM\n",
    "    - Select position in sequence with highest distance\n",
    "    - Select most frequent base at this position\n",
    "    - Add base to motif\n",
    "    - Score new motif\n",
    "    - if score > threshold\n",
    "        - remove seuqences with motif from methylation sequences\n",
    "        - keep motif and score\n",
    "    - else\n",
    "        - select sequences with motif from methylation sequences\n",
    "\n",
    "This should grow a motif by incorporation the most informative positions and bases first. "
   ]
  },
  {
   "cell_type": "code",
   "execution_count": 77,
   "metadata": {},
   "outputs": [],
   "source": [
    "def motif_identification_workflow(pileup, contig, modtype, fraction_threshold, min_cov = 5, padding = 12, min_kl_divergence = 0.01, min_sequences = 500, cdf_limit = 0.55):\n",
    "    pileup_meth = pileup.filter(pl.col(\"mod_type\") == modtype).filter(pl.col(\"fraction_mod\") > fraction_threshold) \n",
    "    methylation_index = pileup_meth \\\n",
    "        .filter(pl.col(\"strand\") == \"+\") \\\n",
    "        .filter(pl.col(\"Nvalid_cov\") > min_cov) \\\n",
    "        .get_column(\"position\").to_list()\n",
    "    methylation_sequences = nm.seq.EqualLengthDNASet([nm.seq.DNAsequence(contig[(i - padding):(i + padding + 1)]) for i in methylation_index])\n",
    "    return nm.evaluate.identify_motifs(methylation_sequences, contig, pileup_meth, min_kl_divergence = min_kl_divergence, min_sequences = min_sequences, cdf_limit = cdf_limit)\n"
   ]
  },
  {
   "cell_type": "code",
   "execution_count": 78,
   "metadata": {},
   "outputs": [],
   "source": [
    "assembly = nm.load_assembly(\"../data/ecoli/assembly.polished.fasta\")\n",
    "ecoli = nm.load_pileup(\"../data/ecoli/modkit.pileup.bed\")"
   ]
  },
  {
   "cell_type": "code",
   "execution_count": 79,
   "metadata": {},
   "outputs": [
    {
     "name": "stdout",
     "output_type": "stream",
     "text": [
      "............A............ | cdf score: 0.000 | n seqs:    21390 | max kl: inf\n",
      "...........GA............ | cdf score: 0.000 | n seqs:    20956 | max kl: 1.074\n",
      "...........GAT........... | cdf score: 0.000 | n seqs:    18970 | max kl: 1.257\n",
      "...........GATC.......... | cdf score: 1.000 | n seqs:    18817 | max kl: 1.243\n",
      "Saving candidate\n",
      "............A............ | cdf score: 0.000 | n seqs:     2604 | max kl: inf\n",
      "............AC........... | cdf score: 0.000 | n seqs:     2170 | max kl: 0.300\n",
      "............AC......G.... | cdf score: 0.000 | n seqs:      897 | max kl: 0.487\n",
      "............AC......GT... | cdf score: 0.000 | n seqs:      645 | max kl: 0.906\n",
      "............AC......GTT.. | cdf score: 0.000 | n seqs:      567 | max kl: 0.579\n",
      "Too few sequences left\n",
      "............A............ | cdf score: 0.000 | n seqs:     2327 | max kl: inf\n",
      "............AG........... | cdf score: 0.000 | n seqs:     1893 | max kl: 0.269\n",
      "............AGG.......... | cdf score: 0.000 | n seqs:      857 | max kl: 0.818\n",
      "..........C.AGG.......... | cdf score: 0.000 | n seqs:      696 | max kl: 1.154\n",
      "..........CCAGG.......... | cdf score: 0.000 | n seqs:      644 | max kl: 1.182\n",
      ".........GCCAGG.......... | cdf score: 0.000 | n seqs:      636 | max kl: 0.257\n",
      "Too few sequences left\n",
      "............A............ | cdf score: 0.000 | n seqs:     1943 | max kl: inf\n",
      "............AC........... | cdf score: 0.000 | n seqs:     1509 | max kl: 0.180\n",
      "...........AAC........... | cdf score: 0.000 | n seqs:      620 | max kl: 0.336\n",
      "Too few sequences left\n",
      "............A............ | cdf score: 0.000 | n seqs:     1581 | max kl: inf\n",
      "............A.G.......... | cdf score: 0.000 | n seqs:     1147 | max kl: 0.226\n",
      "Too few sequences left\n",
      "............A............ | cdf score: 0.000 | n seqs:     1108 | max kl: inf\n",
      "............A.C.......... | cdf score: 0.000 | n seqs:      674 | max kl: 0.506\n",
      "Too few sequences left\n",
      "............G............ | cdf score: 0.000 | n seqs:      643 | max kl: inf\n",
      "Too few sequences left\n"
     ]
    }
   ],
   "source": [
    "ecol_6ma = motif_identification_workflow(ecoli.pileup, assembly[\"contig_3\"], \"a\", 0.8)"
   ]
  },
  {
   "cell_type": "code",
   "execution_count": 80,
   "metadata": {},
   "outputs": [
    {
     "data": {
      "text/html": [
       "<div><style>\n",
       ".dataframe > thead > tr > th,\n",
       ".dataframe > tbody > tr > td {\n",
       "  text-align: right;\n",
       "}\n",
       "</style>\n",
       "<small>shape: (1, 3)</small><table border=\"1\" class=\"dataframe\"><thead><tr><th>column_0</th><th>column_1</th><th>column_2</th></tr><tr><td>str</td><td>object</td><td>f64</td></tr></thead><tbody><tr><td>&quot;...........GAT…</td><td>BetaBernoulliModel(alpha=33978, beta=506)</td><td>1.0</td></tr></tbody></table></div>"
      ],
      "text/plain": [
       "shape: (1, 3)\n",
       "┌───────────────────────────┬───────────────────────────────────┬──────────┐\n",
       "│ column_0                  ┆ column_1                          ┆ column_2 │\n",
       "│ ---                       ┆ ---                               ┆ ---      │\n",
       "│ str                       ┆ object                            ┆ f64      │\n",
       "╞═══════════════════════════╪═══════════════════════════════════╪══════════╡\n",
       "│ ...........GATC.......... ┆ BetaBernoulliModel(alpha=33978, … ┆ 1.0      │\n",
       "└───────────────────────────┴───────────────────────────────────┴──────────┘"
      ]
     },
     "execution_count": 80,
     "metadata": {},
     "output_type": "execute_result"
    }
   ],
   "source": [
    "pl.DataFrame(ecol_6ma)"
   ]
  },
  {
   "cell_type": "code",
   "execution_count": 81,
   "metadata": {},
   "outputs": [
    {
     "name": "stdout",
     "output_type": "stream",
     "text": [
      "............C............ | cdf score: 0.000 | n seqs:    12359 | max kl: inf\n",
      "............C.G.......... | cdf score: 0.000 | n seqs:    12275 | max kl: 1.353\n",
      "............C.GG......... | cdf score: 0.000 | n seqs:    12023 | max kl: 1.314\n",
      "...........CC.GG......... | cdf score: 1.000 | n seqs:    11979 | max kl: 1.249\n",
      "Saving candidate\n"
     ]
    }
   ],
   "source": [
    "ecol_5mc = motif_identification_workflow(ecoli.pileup, assembly[\"contig_3\"], \"m\", 0.8)"
   ]
  },
  {
   "cell_type": "code",
   "execution_count": 82,
   "metadata": {},
   "outputs": [
    {
     "data": {
      "text/html": [
       "<div><style>\n",
       ".dataframe > thead > tr > th,\n",
       ".dataframe > tbody > tr > td {\n",
       "  text-align: right;\n",
       "}\n",
       "</style>\n",
       "<small>shape: (1, 3)</small><table border=\"1\" class=\"dataframe\"><thead><tr><th>column_0</th><th>column_1</th><th>column_2</th></tr><tr><td>str</td><td>object</td><td>f64</td></tr></thead><tbody><tr><td>&quot;...........CC.…</td><td>BetaBernoulliModel(alpha=22041, beta=16477)</td><td>1.0</td></tr></tbody></table></div>"
      ],
      "text/plain": [
       "shape: (1, 3)\n",
       "┌───────────────────────────┬───────────────────────────────────┬──────────┐\n",
       "│ column_0                  ┆ column_1                          ┆ column_2 │\n",
       "│ ---                       ┆ ---                               ┆ ---      │\n",
       "│ str                       ┆ object                            ┆ f64      │\n",
       "╞═══════════════════════════╪═══════════════════════════════════╪══════════╡\n",
       "│ ...........CC.GG......... ┆ BetaBernoulliModel(alpha=22041, … ┆ 1.0      │\n",
       "└───────────────────────────┴───────────────────────────────────┴──────────┘"
      ]
     },
     "execution_count": 82,
     "metadata": {},
     "output_type": "execute_result"
    }
   ],
   "source": [
    "pl.DataFrame(ecol_5mc)"
   ]
  },
  {
   "cell_type": "markdown",
   "metadata": {},
   "source": [
    "# M. ruber"
   ]
  },
  {
   "cell_type": "code",
   "execution_count": 83,
   "metadata": {},
   "outputs": [],
   "source": [
    "mruber_assembly = nm.load_assembly(\"../data/mruber/assembly.polished.fasta\")\n",
    "mruber = nm.load_pileup(\"../data/mruber/modkit.pileup.bed\")"
   ]
  },
  {
   "cell_type": "code",
   "execution_count": 84,
   "metadata": {},
   "outputs": [
    {
     "name": "stdout",
     "output_type": "stream",
     "text": [
      "............A............ | cdf score: 0.000 | n seqs:    27680 | max kl: inf\n",
      "...........GA............ | cdf score: 0.000 | n seqs:    21875 | max kl: 0.449\n",
      "...........GAG........... | cdf score: 0.000 | n seqs:    14845 | max kl: 0.660\n",
      ".........T.GAG........... | cdf score: 0.000 | n seqs:     7574 | max kl: 1.068\n",
      "........CT.GAG........... | cdf score: 1.000 | n seqs:     6499 | max kl: 0.999\n",
      "Saving candidate\n",
      "............A............ | cdf score: 0.000 | n seqs:    21290 | max kl: inf\n",
      "............AT........... | cdf score: 0.000 | n seqs:    15485 | max kl: 0.649\n",
      "...........GAT........... | cdf score: 0.000 | n seqs:    10551 | max kl: 0.577\n",
      "...........GATC.......... | cdf score: 1.000 | n seqs:     7081 | max kl: 0.850\n",
      "Saving candidate\n",
      "............A............ | cdf score: 0.000 | n seqs:    14447 | max kl: inf\n",
      "...........AA............ | cdf score: 0.000 | n seqs:     8642 | max kl: 0.304\n",
      "...........AA.T.......... | cdf score: 0.000 | n seqs:     5039 | max kl: 0.592\n",
      "...........AATT.......... | cdf score: 1.000 | n seqs:     3011 | max kl: 1.355\n",
      "Saving candidate\n",
      "............A............ | cdf score: 0.000 | n seqs:    11674 | max kl: inf\n",
      "..........G.A............ | cdf score: 0.000 | n seqs:     5869 | max kl: 0.351\n",
      ".........GG.A............ | cdf score: 0.000 | n seqs:     2504 | max kl: 0.709\n",
      ".........GGGA............ | cdf score: 0.000 | n seqs:     2102 | max kl: 0.263\n",
      ".........GGGAG........... | cdf score: 0.000 | n seqs:     1089 | max kl: 0.740\n",
      ".........GGGAGC.......... | cdf score: 1.000 | n seqs:      972 | max kl: 0.780\n",
      "Saving candidate\n",
      "............A............ | cdf score: 0.000 | n seqs:    10755 | max kl: inf\n",
      "..........T.A............ | cdf score: 0.000 | n seqs:     4950 | max kl: 0.372\n",
      ".........TT.A............ | cdf score: 0.000 | n seqs:     2390 | max kl: 0.914\n",
      ".........TTAA............ | cdf score: 1.000 | n seqs:     2000 | max kl: 1.415\n",
      "Saving candidate\n",
      "............G............ | cdf score: 0.000 | n seqs:     8773 | max kl: inf\n",
      ".........G..G............ | cdf score: 0.000 | n seqs:     3567 | max kl: 0.305\n",
      "........GG..G............ | cdf score: 0.000 | n seqs:     2221 | max kl: 0.399\n",
      "........GGG.G............ | cdf score: 0.000 | n seqs:     1722 | max kl: 0.235\n",
      "...G....GGG.G............ | cdf score: 0.000 | n seqs:      894 | max kl: 0.208\n",
      "G..G....GGG.G............ | cdf score: 0.000 | n seqs:      514 | max kl: 0.168\n",
      "Too few sequences left\n",
      "............G............ | cdf score: 0.000 | n seqs:     8504 | max kl: inf\n",
      "........G...G............ | cdf score: 0.000 | n seqs:     3298 | max kl: 0.276\n",
      "........GG..G............ | cdf score: 0.000 | n seqs:     1898 | max kl: 0.508\n",
      "........GGG.G............ | cdf score: 0.000 | n seqs:     1453 | max kl: 0.190\n",
      "........GGGAG............ | cdf score: 0.000 | n seqs:      625 | max kl: 0.182\n",
      "Too few sequences left\n",
      "............G............ | cdf score: 0.000 | n seqs:     8198 | max kl: inf\n",
      "........G...G............ | cdf score: 0.000 | n seqs:     2992 | max kl: 0.257\n",
      "........GG..G............ | cdf score: 0.000 | n seqs:     1592 | max kl: 0.418\n",
      "........GGT.G............ | cdf score: 0.000 | n seqs:     1147 | max kl: 0.189\n",
      "Too few sequences left\n",
      "............A............ | cdf score: 0.000 | n seqs:     7757 | max kl: inf\n",
      "............A......T..... | cdf score: 0.000 | n seqs:     2968 | max kl: 0.250\n",
      "............A......TG.... | cdf score: 0.000 | n seqs:     1430 | max kl: 0.740\n",
      "...........CA......TG.... | cdf score: 0.000 | n seqs:     1294 | max kl: 0.752\n",
      "...........CA......TGG... | cdf score: 0.000 | n seqs:     1202 | max kl: 0.517\n",
      ".........G.CA......TGG... | cdf score: 0.000 | n seqs:      669 | max kl: 1.199\n",
      ".........GGCA......TGG... | cdf score: 1.000 | n seqs:      661 | max kl: 1.190\n",
      "Saving candidate\n",
      "............G............ | cdf score: 0.000 | n seqs:     7099 | max kl: inf\n",
      "........G...G............ | cdf score: 0.000 | n seqs:     2551 | max kl: 0.243\n",
      "........GG..G............ | cdf score: 0.000 | n seqs:     1151 | max kl: 0.242\n",
      "........GGC.G............ | cdf score: 0.000 | n seqs:      706 | max kl: 0.259\n",
      "Too few sequences left\n",
      "............A............ | cdf score: 0.000 | n seqs:     6772 | max kl: inf\n",
      "..G.........A............ | cdf score: 0.000 | n seqs:     2310 | max kl: 0.224\n",
      "..GG........A............ | cdf score: 0.000 | n seqs:     1516 | max kl: 0.297\n",
      "..GG....G...A............ | cdf score: 0.000 | n seqs:      958 | max kl: 0.262\n",
      "..GG....G.G.A............ | cdf score: 0.000 | n seqs:      669 | max kl: 0.242\n",
      "Too few sequences left\n",
      "............G............ | cdf score: 0.000 | n seqs:     6436 | max kl: inf\n",
      "..........G.G............ | cdf score: 0.000 | n seqs:     2224 | max kl: 0.426\n",
      "........T.G.G............ | cdf score: 0.000 | n seqs:     1566 | max kl: 0.414\n",
      "........T.GAG............ | cdf score: 0.000 | n seqs:      788 | max kl: 0.808\n",
      "........TCGAG............ | cdf score: 0.000 | n seqs:      653 | max kl: 1.054\n",
      ".......CTCGAG............ | cdf score: 0.000 | n seqs:      622 | max kl: 1.075\n",
      ".......CTCGAGG........... | cdf score: 0.000 | n seqs:      620 | max kl: 0.374\n",
      "Too few sequences left\n",
      "............A............ | cdf score: 0.000 | n seqs:     6091 | max kl: inf\n",
      "..G.........A............ | cdf score: 0.000 | n seqs:     1974 | max kl: 0.157\n",
      "..G..G......A............ | cdf score: 0.000 | n seqs:     1180 | max kl: 0.182\n",
      "..G.GG......A............ | cdf score: 0.000 | n seqs:      729 | max kl: 0.254\n",
      "Too few sequences left\n",
      "............G............ | cdf score: 0.000 | n seqs:     5658 | max kl: inf\n",
      "..........G.G............ | cdf score: 0.000 | n seqs:     1879 | max kl: 0.351\n",
      "........G.G.G............ | cdf score: 0.000 | n seqs:     1221 | max kl: 0.242\n",
      "........GGG.G............ | cdf score: 0.000 | n seqs:      547 | max kl: 0.236\n",
      "Too few sequences left\n",
      "............G............ | cdf score: 0.000 | n seqs:     5339 | max kl: inf\n",
      "..........G.G............ | cdf score: 0.000 | n seqs:     1560 | max kl: 0.272\n",
      "........T.G.G............ | cdf score: 0.000 | n seqs:      902 | max kl: 0.322\n",
      "Too few sequences left\n",
      "............A............ | cdf score: 0.000 | n seqs:     4896 | max kl: inf\n",
      "............A......T..... | cdf score: 0.000 | n seqs:     1541 | max kl: 0.170\n",
      "............A......T.C... | cdf score: 0.000 | n seqs:      658 | max kl: 0.647\n",
      "............A......TGC... | cdf score: 0.000 | n seqs:      543 | max kl: 0.868\n",
      "............A......TGCC.. | cdf score: 0.000 | n seqs:      514 | max kl: 0.958\n",
      "Too few sequences left\n",
      "............T............ | cdf score: 0.000 | n seqs:     4397 | max kl: inf\n",
      "...........AT............ | cdf score: 0.000 | n seqs:     1132 | max kl: 0.747\n",
      "...........ATC........... | cdf score: 0.000 | n seqs:      866 | max kl: 0.755\n",
      "Too few sequences left\n",
      "............G............ | cdf score: 0.000 | n seqs:     3954 | max kl: inf\n",
      "..........G.G............ | cdf score: 0.000 | n seqs:     1117 | max kl: 0.170\n",
      "Too few sequences left\n",
      "............C............ | cdf score: 0.000 | n seqs:     3495 | max kl: inf\n",
      ".........G..C............ | cdf score: 0.000 | n seqs:     1106 | max kl: 0.443\n",
      ".........G.TC............ | cdf score: 0.000 | n seqs:      812 | max kl: 0.452\n",
      "Too few sequences left\n",
      "............A............ | cdf score: 0.000 | n seqs:     3104 | max kl: inf\n",
      "...G........A............ | cdf score: 0.000 | n seqs:     1042 | max kl: 0.255\n",
      "...G........A.G.......... | cdf score: 0.000 | n seqs:      635 | max kl: 0.195\n",
      "Too few sequences left\n",
      "............C............ | cdf score: 0.000 | n seqs:     2746 | max kl: inf\n",
      "...........CC............ | cdf score: 0.000 | n seqs:      715 | max kl: 0.228\n",
      "Too few sequences left\n",
      "............T............ | cdf score: 0.000 | n seqs:     2277 | max kl: inf\n",
      "............TT........... | cdf score: 0.000 | n seqs:      689 | max kl: 0.660\n",
      "Too few sequences left\n",
      "............A............ | cdf score: 0.000 | n seqs:     1810 | max kl: inf\n",
      ".G..........A............ | cdf score: 0.000 | n seqs:      684 | max kl: 0.175\n",
      "Too few sequences left\n",
      "............G............ | cdf score: 0.000 | n seqs:     1416 | max kl: inf\n",
      "..........T.G............ | cdf score: 0.000 | n seqs:      658 | max kl: 0.587\n",
      "Too few sequences left\n",
      "............G............ | cdf score: 0.000 | n seqs:     1063 | max kl: inf\n",
      "Too few sequences left\n",
      "............A............ | cdf score: 0.000 | n seqs:      758 | max kl: inf\n",
      "Too few sequences left\n"
     ]
    }
   ],
   "source": [
    "mruber_6ma = motif_identification_workflow(mruber.pileup, mruber_assembly[\"contig_1\"], \"a\", 0.8)"
   ]
  },
  {
   "cell_type": "code",
   "execution_count": 85,
   "metadata": {},
   "outputs": [
    {
     "data": {
      "text/plain": [
       "['........CT.GAG...........',\n",
       " '...........GATC..........',\n",
       " '...........AATT..........',\n",
       " '.........GGGAGC..........',\n",
       " '.........TTAA............',\n",
       " '.........GGCA......TGG...']"
      ]
     },
     "execution_count": 85,
     "metadata": {},
     "output_type": "execute_result"
    }
   ],
   "source": [
    "pl.DataFrame(mruber_6ma).sort(\"column_2\", descending=True).get_column(\"column_0\").to_list()"
   ]
  },
  {
   "cell_type": "code",
   "execution_count": 86,
   "metadata": {},
   "outputs": [
    {
     "name": "stdout",
     "output_type": "stream",
     "text": [
      "............G............ | cdf score: 0.000 | n seqs:     1250 | max kl: inf\n",
      "............GA........... | cdf score: 0.000 | n seqs:      511 | max kl: 0.479\n",
      "Too few sequences left\n",
      "............C............ | cdf score: 0.000 | n seqs:      926 | max kl: inf\n",
      "Too few sequences left\n"
     ]
    }
   ],
   "source": [
    "mruber_5mc = motif_identification_workflow(mruber.pileup, mruber_assembly[\"contig_1\"], \"m\", 0.8)"
   ]
  },
  {
   "cell_type": "code",
   "execution_count": 87,
   "metadata": {},
   "outputs": [
    {
     "data": {
      "text/plain": [
       "([], [], [])"
      ]
     },
     "execution_count": 87,
     "metadata": {},
     "output_type": "execute_result"
    }
   ],
   "source": [
    "mruber_5mc"
   ]
  },
  {
   "cell_type": "markdown",
   "metadata": {},
   "source": [
    "# Geobacillus"
   ]
  },
  {
   "cell_type": "code",
   "execution_count": 88,
   "metadata": {},
   "outputs": [],
   "source": [
    "geobacillus_assembly = nm.load_assembly(\"../data/geobacillus/assembly.polished.fasta\")\n",
    "geobacillus = nm.load_pileup(\"../data/geobacillus/modkit.pileup.bed\")"
   ]
  },
  {
   "cell_type": "code",
   "execution_count": 89,
   "metadata": {},
   "outputs": [
    {
     "data": {
      "text/plain": [
       "{'contig_3': DNAsequence() | Number of sequence: 82915 | Unique Bases: ['A', 'G', 'C', 'T'],\n",
       " 'contig_2': DNAsequence() | Number of sequence: 93311 | Unique Bases: ['A', 'G', 'C', 'T'],\n",
       " 'contig_1': DNAsequence() | Number of sequence: 3857718 | Unique Bases: ['A', 'G', 'C', 'T']}"
      ]
     },
     "execution_count": 89,
     "metadata": {},
     "output_type": "execute_result"
    }
   ],
   "source": [
    "geobacillus_assembly.assembly"
   ]
  },
  {
   "cell_type": "code",
   "execution_count": 94,
   "metadata": {},
   "outputs": [
    {
     "name": "stdout",
     "output_type": "stream",
     "text": [
      "............A............ | cdf score: 0.000 | n seqs:    15963 | max kl: inf\n",
      "............A.C.......... | cdf score: 0.000 | n seqs:    15756 | max kl: 0.853\n",
      "...........GA.C.......... | cdf score: 0.000 | n seqs:    13195 | max kl: 1.066\n",
      "...........GATC.......... | cdf score: 1.000 | n seqs:    11617 | max kl: 1.218\n",
      "Saving candidate\n",
      "............A............ | cdf score: 0.000 | n seqs:     4350 | max kl: inf\n",
      "...........AA............ | cdf score: 0.000 | n seqs:     4143 | max kl: 0.497\n",
      "...........AAG........... | cdf score: 0.000 | n seqs:     3065 | max kl: 0.755\n",
      ".......G...AAG........... | cdf score: 0.000 | n seqs:     1556 | max kl: 1.468\n",
      ".......G..GAAG........... | cdf score: 0.000 | n seqs:     1552 | max kl: 1.407\n",
      ".......G..GAAGC.......... | cdf score: 0.000 | n seqs:     1551 | max kl: 0.763\n",
      ".......GA.GAAGC.......... | cdf score: 1.000 | n seqs:      904 | max kl: 0.706\n",
      "Saving candidate\n",
      "............A............ | cdf score: 0.000 | n seqs:     3714 | max kl: inf\n",
      ".........C..A............ | cdf score: 0.000 | n seqs:     3507 | max kl: 0.696\n",
      "........CC..A............ | cdf score: 0.000 | n seqs:     2610 | max kl: 0.550\n",
      "........CC..AT........... | cdf score: 0.000 | n seqs:     1478 | max kl: 1.115\n",
      "........CCA.AT........... | cdf score: 0.000 | n seqs:     1448 | max kl: 1.162\n",
      "........CCAAAT........... | cdf score: 1.000 | n seqs:     1447 | max kl: 0.992\n",
      "Saving candidate\n",
      "............A............ | cdf score: 0.000 | n seqs:     2267 | max kl: inf\n",
      "..........C.A............ | cdf score: 0.000 | n seqs:     2060 | max kl: 0.589\n",
      ".........CC.A............ | cdf score: 0.000 | n seqs:      975 | max kl: 1.497\n",
      ".........CCCA............ | cdf score: 0.000 | n seqs:      956 | max kl: 1.316\n",
      "........ACCCA............ | cdf score: 1.000 | n seqs:      926 | max kl: 1.237\n",
      "Saving candidate\n",
      "............A............ | cdf score: 0.000 | n seqs:     1342 | max kl: inf\n",
      "............AG........... | cdf score: 0.000 | n seqs:     1135 | max kl: 1.072\n",
      ".......G....AG........... | cdf score: 0.000 | n seqs:      934 | max kl: 1.387\n",
      ".......G..G.AG........... | cdf score: 0.000 | n seqs:      919 | max kl: 1.388\n",
      ".......G..GAAG........... | cdf score: 0.000 | n seqs:      916 | max kl: 0.984\n",
      ".......G..GAAGT.......... | cdf score: 0.000 | n seqs:      915 | max kl: 0.811\n",
      ".......GA.GAAGT.......... | cdf score: 1.000 | n seqs:      647 | max kl: 0.699\n",
      "Saving candidate\n",
      "............A............ | cdf score: 0.000 | n seqs:      895 | max kl: inf\n",
      "........G...A............ | cdf score: 0.000 | n seqs:      688 | max kl: 0.950\n",
      "........G...AG........... | cdf score: 0.000 | n seqs:      593 | max kl: 1.076\n",
      ".......GG...AG........... | cdf score: 0.000 | n seqs:      476 | max kl: 1.412\n",
      ".......GG.G.AG........... | cdf score: 0.000 | n seqs:      470 | max kl: 1.382\n",
      ".......GG.GAAG........... | cdf score: 0.000 | n seqs:      468 | max kl: 0.992\n",
      ".......GG.GAAGC.......... | cdf score: 1.000 | n seqs:      468 | max kl: 0.759\n",
      "Saving candidate\n",
      "............A............ | cdf score: 0.000 | n seqs:      627 | max kl: inf\n",
      "........G...A............ | cdf score: 0.000 | n seqs:      420 | max kl: 0.737\n",
      "........G...AG........... | cdf score: 0.000 | n seqs:      325 | max kl: 0.726\n",
      ".......GG...AG........... | cdf score: 0.000 | n seqs:      208 | max kl: 1.338\n",
      ".......GG...AGT.......... | cdf score: 0.000 | n seqs:      202 | max kl: 1.358\n",
      ".......GG.G.AGT.......... | cdf score: 0.000 | n seqs:      201 | max kl: 1.381\n",
      ".......GG.GAAGT.......... | cdf score: 1.000 | n seqs:      200 | max kl: 0.992\n",
      "Saving candidate\n",
      "............A............ | cdf score: 0.000 | n seqs:      427 | max kl: inf\n",
      "........G...A............ | cdf score: 0.000 | n seqs:      220 | max kl: 0.401\n",
      "Too few sequences left\n",
      "............G............ | cdf score: 0.000 | n seqs:      302 | max kl: inf\n",
      "Too few sequences left\n"
     ]
    }
   ],
   "source": [
    "geobacillus_6ma = motif_identification_workflow(geobacillus.pileup.filter(pl.col(\"contig\") == \"contig_1\"), geobacillus_assembly[\"contig_1\"], \"a\", 0.8, min_sequences=200)"
   ]
  },
  {
   "cell_type": "code",
   "execution_count": 95,
   "metadata": {},
   "outputs": [
    {
     "data": {
      "text/plain": [
       "(['...........GATC..........',\n",
       "  '.......GA.GAAGC..........',\n",
       "  '........CCAAAT...........',\n",
       "  '........ACCCA............',\n",
       "  '.......GA.GAAGT..........',\n",
       "  '.......GG.GAAGC..........',\n",
       "  '.......GG.GAAGT..........'],\n",
       " [BetaBernoulliModel(alpha=21448, beta=3052),\n",
       "  BetaBernoulliModel(alpha=1255, beta=160),\n",
       "  BetaBernoulliModel(alpha=2847, beta=321),\n",
       "  BetaBernoulliModel(alpha=1804, beta=778),\n",
       "  BetaBernoulliModel(alpha=872, beta=197),\n",
       "  BetaBernoulliModel(alpha=534, beta=109),\n",
       "  BetaBernoulliModel(alpha=396, beta=135)],\n",
       " [1.0, 1.0, 1.0, 1.0, 1.0, 1.0, 1.0])"
      ]
     },
     "execution_count": 95,
     "metadata": {},
     "output_type": "execute_result"
    }
   ],
   "source": [
    "geobacillus_6ma"
   ]
  },
  {
   "cell_type": "code",
   "execution_count": 96,
   "metadata": {},
   "outputs": [
    {
     "name": "stdout",
     "output_type": "stream",
     "text": [
      "............C............ | cdf score: 0.000 | n seqs:     1411 | max kl: inf\n",
      "............C...C........ | cdf score: 0.000 | n seqs:     1314 | max kl: 0.482\n",
      "............CG..C........ | cdf score: 0.000 | n seqs:      873 | max kl: 0.981\n",
      "............CG.TC........ | cdf score: 0.000 | n seqs:      700 | max kl: 1.331\n",
      "............CGATC........ | cdf score: 0.000 | n seqs:      694 | max kl: 1.186\n",
      "...........CCGATC........ | cdf score: 0.000 | n seqs:      693 | max kl: 0.654\n",
      "Too few sequences left\n",
      "............C............ | cdf score: 0.000 | n seqs:      928 | max kl: inf\n",
      "...........GC............ | cdf score: 0.000 | n seqs:      831 | max kl: 0.300\n",
      "Too few sequences left\n",
      "............C............ | cdf score: 0.000 | n seqs:      588 | max kl: inf\n",
      "Too few sequences left\n"
     ]
    }
   ],
   "source": [
    "geobacillus_5mc = motif_identification_workflow(geobacillus.pileup.filter(pl.col(\"contig\") == \"contig_1\"), geobacillus_assembly[\"contig_1\"], \"m\", 0.5)"
   ]
  },
  {
   "cell_type": "code",
   "execution_count": 97,
   "metadata": {},
   "outputs": [
    {
     "data": {
      "text/plain": [
       "([], [], [])"
      ]
     },
     "execution_count": 97,
     "metadata": {},
     "output_type": "execute_result"
    }
   ],
   "source": [
    "geobacillus_5mc"
   ]
  }
 ],
 "metadata": {
  "kernelspec": {
   "display_name": "Python 3",
   "language": "python",
   "name": "python3"
  },
  "language_info": {
   "codemirror_mode": {
    "name": "ipython",
    "version": 3
   },
   "file_extension": ".py",
   "mimetype": "text/x-python",
   "name": "python",
   "nbconvert_exporter": "python",
   "pygments_lexer": "ipython3",
   "version": "3.9.16"
  },
  "orig_nbformat": 4
 },
 "nbformat": 4,
 "nbformat_minor": 2
}
