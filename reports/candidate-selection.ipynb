{
 "cells": [
  {
   "cell_type": "code",
   "execution_count": 76,
   "metadata": {},
   "outputs": [],
   "source": [
    "import nanomotif as nm\n",
    "import polars as pl\n",
    "import matplotlib.pyplot as plt\n",
    "import re\n",
    "import numpy as np\n",
    "padding = 12"
   ]
  },
  {
   "cell_type": "markdown",
   "metadata": {},
   "source": [
    "# Intro\n",
    "\n",
    "Documentation of considerations in the implementation of the candidate selection. \n",
    "\n",
    "The selection is based on the sequences around methylation sites on the contig. At each methylated position, a frame of n posiion on each side of the methylation side is extracted and the index within this subsequence is considered relative to the methylation position (range: -n to n or 0:n*2).\n",
    "\n",
    "The initial approach for candidate selection is outlined here:\n",
    "\n",
    "1. Sample random sequences in contig at canonical bases (e.g. A when 6mA i evaluated)\n",
    "2. Calculate [PSSM](https://cs.rice.edu/~ogilvie/comp571/pssm/) for contig sequences\n",
    "3. Extract sequences in contig at all methylation sites\n",
    "4. Set motif candidate to canonical base\n",
    "2. While len(methylations sequences) > minimum sequences \n",
    "    - calculate PSSM for methylations sequences\n",
    "    - Calculate KL-divergence from methylation PSSM to contig PSSM\n",
    "    - Select position in sequence with highest distance\n",
    "    - Select most frequent base at this position\n",
    "    - Add base to motif\n",
    "    - Score new motif\n",
    "    - if score > threshold\n",
    "        - remove seuqences with motif from methylation sequences\n",
    "        - keep motif and score\n",
    "    - else\n",
    "        - select sequences with motif from methylation sequences\n",
    "\n",
    "This should grow a motif by incorporation the most informative positions and bases first. "
   ]
  },
  {
   "cell_type": "code",
   "execution_count": 98,
   "metadata": {},
   "outputs": [],
   "source": [
    "def motif_identification_workflow(pileup, contig, modtype, fraction_threshold, min_cov = 5, padding = 12, min_kl_divergence = 0.01, min_sequences = 500, cdf_limit = 0.55):\n",
    "    pileup_meth = pileup.filter(pl.col(\"mod_type\") == modtype).filter(pl.col(\"fraction_mod\") > fraction_threshold) \n",
    "    methylation_index = pileup_meth \\\n",
    "        .filter(pl.col(\"strand\") == \"+\") \\\n",
    "        .filter(pl.col(\"Nvalid_cov\") > min_cov) \\\n",
    "        .get_column(\"position\").to_list()\n",
    "    methylation_sequences = nm.seq.EqualLengthDNASet([nm.seq.DNAsequence(contig[(i - padding):(i + padding + 1)]) for i in methylation_index])\n",
    "    return nm.evaluate.identify_motifs(methylation_sequences, contig, pileup_meth, min_kl_divergence = min_kl_divergence, min_sequences = min_sequences, cdf_limit = cdf_limit)\n"
   ]
  },
  {
   "cell_type": "code",
   "execution_count": 99,
   "metadata": {},
   "outputs": [],
   "source": [
    "assembly = nm.load_assembly(\"../data/ecoli/assembly.polished.fasta\")\n",
    "ecoli = nm.load_pileup(\"../data/ecoli/modkit.pileup.bed\")"
   ]
  },
  {
   "cell_type": "code",
   "execution_count": 104,
   "metadata": {},
   "outputs": [
    {
     "name": "stdout",
     "output_type": "stream",
     "text": [
      "............A............ | cdf score: 0.000 | n seqs:    21390 | max kl: inf\n",
      "...........GA............ | cdf score: 0.000 | n seqs:    20956 | max kl: 1.031\n",
      "...........GAT........... | cdf score: 0.000 | n seqs:    18970 | max kl: 1.244\n",
      "...........GATC.......... | cdf score: 1.000 | n seqs:    18817 | max kl: 1.270\n",
      "Saving candidate\n",
      "............A............ | cdf score: 0.000 | n seqs:     2604 | max kl: inf\n",
      "............AC........... | cdf score: 0.000 | n seqs:     2170 | max kl: 0.297\n",
      "............AC......G.... | cdf score: 0.000 | n seqs:      897 | max kl: 0.493\n",
      "............AC......GT... | cdf score: 0.000 | n seqs:      645 | max kl: 0.908\n",
      "............AC......GTT.. | cdf score: 0.000 | n seqs:      567 | max kl: 0.581\n",
      "..........G.AC......GTT.. | cdf score: 0.000 | n seqs:      277 | max kl: 1.293\n",
      "..........GCAC......GTT.. | cdf score: 1.000 | n seqs:      272 | max kl: 1.256\n",
      "Saving candidate\n",
      "............A............ | cdf score: 0.000 | n seqs:     2332 | max kl: inf\n",
      "............AG........... | cdf score: 0.000 | n seqs:     1898 | max kl: 0.271\n",
      "............AGG.......... | cdf score: 0.000 | n seqs:      857 | max kl: 0.785\n",
      "..........C.AGG.......... | cdf score: 0.000 | n seqs:      696 | max kl: 1.098\n",
      "..........CCAGG.......... | cdf score: 0.000 | n seqs:      644 | max kl: 1.179\n",
      ".........GCCAGG.......... | cdf score: 0.000 | n seqs:      636 | max kl: 0.256\n",
      ".......G.GCCAGG.......... | cdf score: 0.000 | n seqs:      384 | max kl: 0.093\n",
      "Too few sequences left\n",
      "............A............ | cdf score: 0.000 | n seqs:     2184 | max kl: inf\n",
      "............AG........... | cdf score: 0.000 | n seqs:     1750 | max kl: 0.230\n",
      "............AGG.......... | cdf score: 0.000 | n seqs:      709 | max kl: 0.699\n",
      "..........C.AGG.......... | cdf score: 0.000 | n seqs:      548 | max kl: 1.028\n",
      "..........CCAGG.......... | cdf score: 0.000 | n seqs:      496 | max kl: 1.160\n",
      "........G.CCAGG.......... | cdf score: 0.000 | n seqs:      488 | max kl: 0.165\n",
      ".......CG.CCAGG.......... | cdf score: 0.000 | n seqs:      268 | max kl: 0.104\n",
      "Too few sequences left\n",
      "............A............ | cdf score: 0.000 | n seqs:     2063 | max kl: inf\n",
      "............AC........... | cdf score: 0.000 | n seqs:     1629 | max kl: 0.200\n",
      "...........AAC........... | cdf score: 0.000 | n seqs:      625 | max kl: 0.338\n",
      "...........AAC......G.... | cdf score: 0.000 | n seqs:      363 | max kl: 0.737\n",
      "...........AAC......GT... | cdf score: 0.000 | n seqs:      302 | max kl: 1.036\n",
      "...........AAC......GTG.. | cdf score: 0.000 | n seqs:      277 | max kl: 1.296\n",
      "...........AAC......GTGC. | cdf score: 1.000 | n seqs:      272 | max kl: 1.330\n",
      "Saving candidate\n",
      "............A............ | cdf score: 0.000 | n seqs:     1792 | max kl: inf\n",
      "............A.G.......... | cdf score: 0.000 | n seqs:     1358 | max kl: 0.253\n",
      "............AGG.......... | cdf score: 0.000 | n seqs:      602 | max kl: 0.596\n",
      "..........C.AGG.......... | cdf score: 0.000 | n seqs:      427 | max kl: 0.942\n",
      "..........CCAGG.......... | cdf score: 0.000 | n seqs:      375 | max kl: 1.135\n",
      "..........CCAGGC......... | cdf score: 0.000 | n seqs:      367 | max kl: 0.133\n",
      "Too few sequences left\n",
      "............A............ | cdf score: 0.000 | n seqs:     1639 | max kl: inf\n",
      "............A.C.......... | cdf score: 0.000 | n seqs:     1205 | max kl: 0.218\n",
      "............A.C..G....... | cdf score: 0.000 | n seqs:      538 | max kl: 0.280\n",
      "............A.C..GG...... | cdf score: 0.000 | n seqs:      315 | max kl: 0.324\n",
      "Too few sequences left\n",
      "............A............ | cdf score: 0.000 | n seqs:     1446 | max kl: inf\n",
      "............A.G.......... | cdf score: 0.000 | n seqs:     1012 | max kl: 0.192\n",
      "............AGG.......... | cdf score: 0.000 | n seqs:      449 | max kl: 0.395\n",
      "..........C.AGG.......... | cdf score: 0.000 | n seqs:      274 | max kl: 0.753\n",
      "..........CCAGG.......... | cdf score: 0.000 | n seqs:      222 | max kl: 1.071\n",
      "..........CCAGGT......... | cdf score: 0.000 | n seqs:      214 | max kl: 0.363\n",
      "Too few sequences left\n",
      "............A............ | cdf score: 0.000 | n seqs:     1348 | max kl: inf\n",
      "........G...A............ | cdf score: 0.000 | n seqs:      914 | max kl: 0.191\n",
      "........G.T.A............ | cdf score: 0.000 | n seqs:      495 | max kl: 0.389\n",
      "........GAT.A............ | cdf score: 0.000 | n seqs:      318 | max kl: 0.617\n",
      "........GATCA............ | cdf score: 0.000 | n seqs:      248 | max kl: 1.052\n",
      "........GATCAC........... | cdf score: 0.000 | n seqs:      238 | max kl: 0.567\n",
      "Too few sequences left\n",
      "............A............ | cdf score: 0.000 | n seqs:     1196 | max kl: inf\n",
      "............A.G.......... | cdf score: 0.000 | n seqs:      762 | max kl: 0.162\n",
      "............AGG.......... | cdf score: 0.000 | n seqs:      325 | max kl: 0.293\n",
      "Too few sequences left\n",
      "............A............ | cdf score: 0.000 | n seqs:     1020 | max kl: inf\n",
      ".....G......A............ | cdf score: 0.000 | n seqs:      586 | max kl: 0.143\n",
      ".....G..C...A............ | cdf score: 0.000 | n seqs:      301 | max kl: 0.186\n",
      "Too few sequences left\n",
      "............A............ | cdf score: 0.000 | n seqs:      891 | max kl: inf\n",
      "........G...A............ | cdf score: 0.000 | n seqs:      457 | max kl: 0.208\n",
      "........G.T.A............ | cdf score: 0.000 | n seqs:      264 | max kl: 0.282\n",
      "Too few sequences left\n",
      "............G............ | cdf score: 0.000 | n seqs:      742 | max kl: inf\n",
      ".........G..G............ | cdf score: 0.000 | n seqs:      323 | max kl: 0.301\n",
      "........GG..G............ | cdf score: 0.000 | n seqs:      202 | max kl: 0.254\n",
      "Too few sequences left\n",
      "............A............ | cdf score: 0.000 | n seqs:      619 | max kl: inf\n",
      "............A...C........ | cdf score: 0.000 | n seqs:      308 | max kl: 0.208\n",
      "Too few sequences left\n",
      "............G............ | cdf score: 0.000 | n seqs:      456 | max kl: inf\n",
      "............G.G.......... | cdf score: 0.000 | n seqs:      200 | max kl: 0.245\n",
      "Too few sequences left\n",
      "............A............ | cdf score: 0.000 | n seqs:      355 | max kl: inf\n",
      "Too few sequences left\n",
      "............G............ | cdf score: 0.000 | n seqs:      210 | max kl: inf\n",
      "Too few sequences left\n"
     ]
    }
   ],
   "source": [
    "ecol_6ma = motif_identification_workflow(ecoli.pileup, assembly[\"contig_3\"], \"a\", 0.8, min_sequences=200)"
   ]
  },
  {
   "cell_type": "code",
   "execution_count": 105,
   "metadata": {},
   "outputs": [
    {
     "data": {
      "text/plain": [
       "(['...........GATC..........',\n",
       "  '..........GCAC......GTT..',\n",
       "  '...........AAC......GTGC.'],\n",
       " [BetaBernoulliModel(alpha=33978, beta=506),\n",
       "  BetaBernoulliModel(alpha=529, beta=67),\n",
       "  BetaBernoulliModel(alpha=558, beta=38)],\n",
       " [1.0, 1.0, 1.0])"
      ]
     },
     "execution_count": 105,
     "metadata": {},
     "output_type": "execute_result"
    }
   ],
   "source": [
    "ecol_6ma"
   ]
  },
  {
   "cell_type": "code",
   "execution_count": 108,
   "metadata": {},
   "outputs": [
    {
     "name": "stdout",
     "output_type": "stream",
     "text": [
      "............C............ | cdf score: 0.000 | n seqs:    12359 | max kl: inf\n",
      "............C.G.......... | cdf score: 0.000 | n seqs:    12275 | max kl: 1.336\n",
      "............C.GG......... | cdf score: 0.000 | n seqs:    12023 | max kl: 1.325\n",
      "...........CC.GG......... | cdf score: 0.000 | n seqs:    11979 | max kl: 1.230\n",
      "...........CCAGG......... | cdf score: 1.000 | n seqs:    11949 | max kl: 0.575\n",
      "Saving candidate\n",
      "............C............ | cdf score: 0.000 | n seqs:     6374 | max kl: inf\n",
      "............C.G.......... | cdf score: 0.000 | n seqs:     6290 | max kl: 1.255\n",
      "............C.GG......... | cdf score: 0.000 | n seqs:     6038 | max kl: 1.302\n",
      "............CTGG......... | cdf score: 0.000 | n seqs:     5994 | max kl: 1.300\n",
      "...........CCTGG......... | cdf score: 1.000 | n seqs:     5979 | max kl: 1.230\n",
      "Saving candidate\n",
      "............C............ | cdf score: 0.000 | n seqs:      410 | max kl: inf\n",
      "............C.A.......... | cdf score: 0.000 | n seqs:      326 | max kl: 0.406\n",
      "Too few sequences left\n",
      "............C............ | cdf score: 0.000 | n seqs:      216 | max kl: inf\n",
      "Too few sequences left\n"
     ]
    }
   ],
   "source": [
    "ecol_5mc = motif_identification_workflow(ecoli.pileup, assembly[\"contig_3\"], \"m\", 0.8, min_sequences=200, cdf_limit = 0.6)"
   ]
  },
  {
   "cell_type": "code",
   "execution_count": 109,
   "metadata": {},
   "outputs": [
    {
     "data": {
      "text/plain": [
       "(['...........CCAGG.........', '...........CCTGG.........'],\n",
       " [BetaBernoulliModel(alpha=11634, beta=90),\n",
       "  BetaBernoulliModel(alpha=11671, beta=53)],\n",
       " [1.0, 1.0])"
      ]
     },
     "execution_count": 109,
     "metadata": {},
     "output_type": "execute_result"
    }
   ],
   "source": [
    "ecol_5mc"
   ]
  },
  {
   "cell_type": "markdown",
   "metadata": {},
   "source": [
    "# M. ruber"
   ]
  },
  {
   "cell_type": "code",
   "execution_count": 83,
   "metadata": {},
   "outputs": [],
   "source": [
    "mruber_assembly = nm.load_assembly(\"../data/mruber/assembly.polished.fasta\")\n",
    "mruber = nm.load_pileup(\"../data/mruber/modkit.pileup.bed\")"
   ]
  },
  {
   "cell_type": "code",
   "execution_count": 111,
   "metadata": {},
   "outputs": [
    {
     "name": "stdout",
     "output_type": "stream",
     "text": [
      "............A............ | cdf score: 0.000 | n seqs:    27680 | max kl: inf\n",
      "...........GA............ | cdf score: 0.000 | n seqs:    21875 | max kl: 0.454\n",
      "...........GAG........... | cdf score: 0.000 | n seqs:    14845 | max kl: 0.645\n",
      ".........T.GAG........... | cdf score: 0.000 | n seqs:     7574 | max kl: 1.070\n",
      "........CT.GAG........... | cdf score: 0.000 | n seqs:     6499 | max kl: 0.974\n",
      "........CTCGAG........... | cdf score: 1.000 | n seqs:     6390 | max kl: 1.025\n",
      "Saving candidate\n",
      "............A............ | cdf score: 0.000 | n seqs:    21323 | max kl: inf\n",
      "............AT........... | cdf score: 0.000 | n seqs:    15518 | max kl: 0.629\n",
      "...........GAT........... | cdf score: 0.000 | n seqs:    10551 | max kl: 0.583\n",
      "...........GATC.......... | cdf score: 0.205 | n seqs:     7081 | max kl: 0.823\n",
      "Saving candidate\n",
      "............A............ | cdf score: 0.000 | n seqs:    14480 | max kl: inf\n",
      "...........AA............ | cdf score: 0.000 | n seqs:     8675 | max kl: 0.303\n",
      "...........AA.T.......... | cdf score: 0.000 | n seqs:     5039 | max kl: 0.614\n",
      "...........AATT.......... | cdf score: 1.000 | n seqs:     3011 | max kl: 1.331\n",
      "Saving candidate\n",
      "............A............ | cdf score: 0.000 | n seqs:    11707 | max kl: inf\n",
      "..........G.A............ | cdf score: 0.000 | n seqs:     5902 | max kl: 0.347\n",
      ".........GG.A............ | cdf score: 0.000 | n seqs:     2532 | max kl: 0.693\n",
      ".........GGGA............ | cdf score: 0.000 | n seqs:     2102 | max kl: 0.261\n",
      ".........GGGAG........... | cdf score: 0.000 | n seqs:     1089 | max kl: 0.735\n",
      ".........GGGAGC.......... | cdf score: 1.000 | n seqs:      972 | max kl: 0.754\n",
      "Saving candidate\n",
      "............A............ | cdf score: 0.000 | n seqs:    10788 | max kl: inf\n",
      "..........T.A............ | cdf score: 0.000 | n seqs:     4983 | max kl: 0.366\n",
      ".........TT.A............ | cdf score: 0.000 | n seqs:     2395 | max kl: 0.918\n",
      ".........TTAA............ | cdf score: 1.000 | n seqs:     2005 | max kl: 1.407\n",
      "Saving candidate\n",
      "............G............ | cdf score: 0.000 | n seqs:     8806 | max kl: inf\n",
      "........G...G............ | cdf score: 0.000 | n seqs:     3567 | max kl: 0.323\n",
      "........GG..G............ | cdf score: 0.000 | n seqs:     2167 | max kl: 0.573\n",
      "........GGG.G............ | cdf score: 0.000 | n seqs:     1722 | max kl: 0.230\n",
      "...G....GGG.G............ | cdf score: 0.000 | n seqs:      894 | max kl: 0.214\n",
      "G..G....GGG.G............ | cdf score: 0.000 | n seqs:      514 | max kl: 0.172\n",
      "Too few sequences left\n",
      "............G............ | cdf score: 0.000 | n seqs:     8537 | max kl: inf\n",
      "........G...G............ | cdf score: 0.000 | n seqs:     3298 | max kl: 0.305\n",
      "........GG..G............ | cdf score: 0.000 | n seqs:     1898 | max kl: 0.508\n",
      "........GGG.G............ | cdf score: 0.000 | n seqs:     1453 | max kl: 0.185\n",
      "........GGGAG............ | cdf score: 0.000 | n seqs:      625 | max kl: 0.181\n",
      "Too few sequences left\n",
      "............A............ | cdf score: 0.000 | n seqs:     8231 | max kl: inf\n",
      "............A......T..... | cdf score: 0.000 | n seqs:     3001 | max kl: 0.252\n",
      "............A......TG.... | cdf score: 0.000 | n seqs:     1433 | max kl: 0.729\n",
      "...........CA......TG.... | cdf score: 0.000 | n seqs:     1295 | max kl: 0.731\n",
      "...........CA......TGG... | cdf score: 0.000 | n seqs:     1202 | max kl: 0.526\n",
      ".........G.CA......TGG... | cdf score: 0.000 | n seqs:      669 | max kl: 1.199\n",
      ".........GGCA......TGG... | cdf score: 1.000 | n seqs:      661 | max kl: 1.186\n",
      "Saving candidate\n",
      "............G............ | cdf score: 0.000 | n seqs:     7573 | max kl: inf\n",
      "........G...G............ | cdf score: 0.000 | n seqs:     2992 | max kl: 0.288\n",
      "........GG..G............ | cdf score: 0.000 | n seqs:     1592 | max kl: 0.418\n",
      "........GGT.G............ | cdf score: 0.000 | n seqs:     1147 | max kl: 0.184\n",
      "Too few sequences left\n",
      "............G............ | cdf score: 0.000 | n seqs:     7132 | max kl: inf\n",
      "........G...G............ | cdf score: 0.000 | n seqs:     2551 | max kl: 0.277\n",
      "........GG..G............ | cdf score: 0.000 | n seqs:     1151 | max kl: 0.243\n",
      "........GGC.G............ | cdf score: 0.000 | n seqs:      706 | max kl: 0.255\n",
      "Too few sequences left\n",
      "............A............ | cdf score: 0.000 | n seqs:     6805 | max kl: inf\n",
      "..G.........A............ | cdf score: 0.000 | n seqs:     2343 | max kl: 0.222\n",
      "..GG........A............ | cdf score: 0.000 | n seqs:     1539 | max kl: 0.306\n",
      "..GG....G...A............ | cdf score: 0.000 | n seqs:      976 | max kl: 0.256\n",
      "..GG....G.G.A............ | cdf score: 0.000 | n seqs:      669 | max kl: 0.237\n",
      "Too few sequences left\n",
      "............G............ | cdf score: 0.000 | n seqs:     6469 | max kl: inf\n",
      "..........G.G............ | cdf score: 0.000 | n seqs:     2224 | max kl: 0.423\n",
      "........T.G.G............ | cdf score: 0.000 | n seqs:     1566 | max kl: 0.461\n",
      "........T.GAG............ | cdf score: 0.000 | n seqs:      788 | max kl: 0.813\n",
      "........TCGAG............ | cdf score: 0.000 | n seqs:      653 | max kl: 1.045\n",
      ".......CTCGAG............ | cdf score: 0.000 | n seqs:      622 | max kl: 1.067\n",
      ".......CTCGAGG........... | cdf score: 0.000 | n seqs:      620 | max kl: 0.370\n",
      "Too few sequences left\n",
      "............A............ | cdf score: 0.000 | n seqs:     6124 | max kl: inf\n",
      "..G.........A............ | cdf score: 0.000 | n seqs:     2007 | max kl: 0.157\n",
      "..G..G......A............ | cdf score: 0.000 | n seqs:     1203 | max kl: 0.194\n",
      "..G.GG......A............ | cdf score: 0.000 | n seqs:      747 | max kl: 0.261\n",
      "Too few sequences left\n",
      "............G............ | cdf score: 0.000 | n seqs:     5681 | max kl: inf\n",
      "..........G.G............ | cdf score: 0.000 | n seqs:     1879 | max kl: 0.349\n",
      "........G.G.G............ | cdf score: 0.000 | n seqs:     1221 | max kl: 0.275\n",
      "........GGG.G............ | cdf score: 0.000 | n seqs:      547 | max kl: 0.237\n",
      "Too few sequences left\n",
      "............A............ | cdf score: 0.000 | n seqs:     5362 | max kl: inf\n",
      "............A......T..... | cdf score: 0.000 | n seqs:     1564 | max kl: 0.172\n",
      "............A......T.C... | cdf score: 0.000 | n seqs:      661 | max kl: 0.659\n",
      "............A......TGC... | cdf score: 0.000 | n seqs:      543 | max kl: 0.861\n",
      "............A......TGCC.. | cdf score: 0.000 | n seqs:      514 | max kl: 0.952\n",
      "Too few sequences left\n",
      "............G............ | cdf score: 0.000 | n seqs:     4863 | max kl: inf\n",
      "..........G.G............ | cdf score: 0.000 | n seqs:     1560 | max kl: 0.271\n",
      "........T.G.G............ | cdf score: 0.000 | n seqs:      902 | max kl: 0.362\n",
      "Too few sequences left\n",
      "............T............ | cdf score: 0.000 | n seqs:     4420 | max kl: inf\n",
      "...........AT............ | cdf score: 0.000 | n seqs:     1132 | max kl: 0.755\n",
      "...........ATC........... | cdf score: 0.000 | n seqs:      866 | max kl: 0.741\n",
      "Too few sequences left\n",
      "............G............ | cdf score: 0.000 | n seqs:     3977 | max kl: inf\n",
      "..........G.G............ | cdf score: 0.000 | n seqs:     1117 | max kl: 0.170\n",
      "Too few sequences left\n",
      "............C............ | cdf score: 0.000 | n seqs:     3518 | max kl: inf\n",
      ".........G..C............ | cdf score: 0.000 | n seqs:     1106 | max kl: 0.443\n",
      ".........G.TC............ | cdf score: 0.000 | n seqs:      812 | max kl: 0.460\n",
      "Too few sequences left\n",
      "............A............ | cdf score: 0.000 | n seqs:     3127 | max kl: inf\n",
      "...G........A............ | cdf score: 0.000 | n seqs:     1065 | max kl: 0.266\n",
      "...G........A.G.......... | cdf score: 0.000 | n seqs:      653 | max kl: 0.205\n",
      "Too few sequences left\n",
      "............C............ | cdf score: 0.000 | n seqs:     2759 | max kl: inf\n",
      "...........CC............ | cdf score: 0.000 | n seqs:      715 | max kl: 0.217\n",
      "Too few sequences left\n",
      "............A............ | cdf score: 0.000 | n seqs:     2290 | max kl: inf\n",
      ".G..........A............ | cdf score: 0.000 | n seqs:      697 | max kl: 0.183\n",
      "Too few sequences left\n",
      "............T............ | cdf score: 0.000 | n seqs:     1887 | max kl: inf\n",
      "............TT........... | cdf score: 0.000 | n seqs:      689 | max kl: 0.646\n",
      "Too few sequences left\n",
      "............G............ | cdf score: 0.000 | n seqs:     1420 | max kl: inf\n",
      "..........T.G............ | cdf score: 0.000 | n seqs:      658 | max kl: 0.589\n",
      "Too few sequences left\n",
      "............G............ | cdf score: 0.000 | n seqs:     1067 | max kl: inf\n",
      "Too few sequences left\n",
      "............A............ | cdf score: 0.000 | n seqs:      762 | max kl: inf\n",
      "Too few sequences left\n"
     ]
    }
   ],
   "source": [
    "mruber_6ma = motif_identification_workflow(mruber.pileup, mruber_assembly[\"contig_1\"], \"a\", 0.8, cdf_limit=0.7)"
   ]
  },
  {
   "cell_type": "code",
   "execution_count": 112,
   "metadata": {},
   "outputs": [
    {
     "data": {
      "text/plain": [
       "(['........CTCGAG...........',\n",
       "  '...........GATC..........',\n",
       "  '...........AATT..........',\n",
       "  '.........GGGAGC..........',\n",
       "  '.........TTAA............',\n",
       "  '.........GGCA......TGG...'],\n",
       " [BetaBernoulliModel(alpha=12193, beta=2207),\n",
       "  BetaBernoulliModel(alpha=12605, beta=5475),\n",
       "  BetaBernoulliModel(alpha=5373, beta=603),\n",
       "  BetaBernoulliModel(alpha=1802, beta=67),\n",
       "  BetaBernoulliModel(alpha=3974, beta=532),\n",
       "  BetaBernoulliModel(alpha=1227, beta=10)],\n",
       " [1.0, 0.20474233761287053, 1.0, 1.0, 1.0, 1.0])"
      ]
     },
     "execution_count": 112,
     "metadata": {},
     "output_type": "execute_result"
    }
   ],
   "source": [
    "mruber_6ma"
   ]
  },
  {
   "cell_type": "code",
   "execution_count": 113,
   "metadata": {},
   "outputs": [
    {
     "name": "stdout",
     "output_type": "stream",
     "text": [
      "............G............ | cdf score: 0.000 | n seqs:     1250 | max kl: inf\n",
      "............GA........... | cdf score: 0.000 | n seqs:      511 | max kl: 0.486\n",
      "Too few sequences left\n",
      "............C............ | cdf score: 0.000 | n seqs:      926 | max kl: inf\n",
      "Too few sequences left\n"
     ]
    }
   ],
   "source": [
    "mruber_5mc = motif_identification_workflow(mruber.pileup, mruber_assembly[\"contig_1\"], \"m\", 0.8)"
   ]
  },
  {
   "cell_type": "code",
   "execution_count": 87,
   "metadata": {},
   "outputs": [
    {
     "data": {
      "text/plain": [
       "([], [], [])"
      ]
     },
     "execution_count": 87,
     "metadata": {},
     "output_type": "execute_result"
    }
   ],
   "source": [
    "mruber_5mc"
   ]
  },
  {
   "cell_type": "markdown",
   "metadata": {},
   "source": [
    "# Geobacillus"
   ]
  },
  {
   "cell_type": "code",
   "execution_count": 88,
   "metadata": {},
   "outputs": [],
   "source": [
    "geobacillus_assembly = nm.load_assembly(\"../data/geobacillus/assembly.polished.fasta\")\n",
    "geobacillus = nm.load_pileup(\"../data/geobacillus/modkit.pileup.bed\")"
   ]
  },
  {
   "cell_type": "code",
   "execution_count": 89,
   "metadata": {},
   "outputs": [
    {
     "data": {
      "text/plain": [
       "{'contig_3': DNAsequence() | Number of sequence: 82915 | Unique Bases: ['A', 'G', 'C', 'T'],\n",
       " 'contig_2': DNAsequence() | Number of sequence: 93311 | Unique Bases: ['A', 'G', 'C', 'T'],\n",
       " 'contig_1': DNAsequence() | Number of sequence: 3857718 | Unique Bases: ['A', 'G', 'C', 'T']}"
      ]
     },
     "execution_count": 89,
     "metadata": {},
     "output_type": "execute_result"
    }
   ],
   "source": [
    "geobacillus_assembly.assembly"
   ]
  },
  {
   "cell_type": "code",
   "execution_count": 94,
   "metadata": {},
   "outputs": [
    {
     "name": "stdout",
     "output_type": "stream",
     "text": [
      "............A............ | cdf score: 0.000 | n seqs:    15963 | max kl: inf\n",
      "............A.C.......... | cdf score: 0.000 | n seqs:    15756 | max kl: 0.853\n",
      "...........GA.C.......... | cdf score: 0.000 | n seqs:    13195 | max kl: 1.066\n",
      "...........GATC.......... | cdf score: 1.000 | n seqs:    11617 | max kl: 1.218\n",
      "Saving candidate\n",
      "............A............ | cdf score: 0.000 | n seqs:     4350 | max kl: inf\n",
      "...........AA............ | cdf score: 0.000 | n seqs:     4143 | max kl: 0.497\n",
      "...........AAG........... | cdf score: 0.000 | n seqs:     3065 | max kl: 0.755\n",
      ".......G...AAG........... | cdf score: 0.000 | n seqs:     1556 | max kl: 1.468\n",
      ".......G..GAAG........... | cdf score: 0.000 | n seqs:     1552 | max kl: 1.407\n",
      ".......G..GAAGC.......... | cdf score: 0.000 | n seqs:     1551 | max kl: 0.763\n",
      ".......GA.GAAGC.......... | cdf score: 1.000 | n seqs:      904 | max kl: 0.706\n",
      "Saving candidate\n",
      "............A............ | cdf score: 0.000 | n seqs:     3714 | max kl: inf\n",
      ".........C..A............ | cdf score: 0.000 | n seqs:     3507 | max kl: 0.696\n",
      "........CC..A............ | cdf score: 0.000 | n seqs:     2610 | max kl: 0.550\n",
      "........CC..AT........... | cdf score: 0.000 | n seqs:     1478 | max kl: 1.115\n",
      "........CCA.AT........... | cdf score: 0.000 | n seqs:     1448 | max kl: 1.162\n",
      "........CCAAAT........... | cdf score: 1.000 | n seqs:     1447 | max kl: 0.992\n",
      "Saving candidate\n",
      "............A............ | cdf score: 0.000 | n seqs:     2267 | max kl: inf\n",
      "..........C.A............ | cdf score: 0.000 | n seqs:     2060 | max kl: 0.589\n",
      ".........CC.A............ | cdf score: 0.000 | n seqs:      975 | max kl: 1.497\n",
      ".........CCCA............ | cdf score: 0.000 | n seqs:      956 | max kl: 1.316\n",
      "........ACCCA............ | cdf score: 1.000 | n seqs:      926 | max kl: 1.237\n",
      "Saving candidate\n",
      "............A............ | cdf score: 0.000 | n seqs:     1342 | max kl: inf\n",
      "............AG........... | cdf score: 0.000 | n seqs:     1135 | max kl: 1.072\n",
      ".......G....AG........... | cdf score: 0.000 | n seqs:      934 | max kl: 1.387\n",
      ".......G..G.AG........... | cdf score: 0.000 | n seqs:      919 | max kl: 1.388\n",
      ".......G..GAAG........... | cdf score: 0.000 | n seqs:      916 | max kl: 0.984\n",
      ".......G..GAAGT.......... | cdf score: 0.000 | n seqs:      915 | max kl: 0.811\n",
      ".......GA.GAAGT.......... | cdf score: 1.000 | n seqs:      647 | max kl: 0.699\n",
      "Saving candidate\n",
      "............A............ | cdf score: 0.000 | n seqs:      895 | max kl: inf\n",
      "........G...A............ | cdf score: 0.000 | n seqs:      688 | max kl: 0.950\n",
      "........G...AG........... | cdf score: 0.000 | n seqs:      593 | max kl: 1.076\n",
      ".......GG...AG........... | cdf score: 0.000 | n seqs:      476 | max kl: 1.412\n",
      ".......GG.G.AG........... | cdf score: 0.000 | n seqs:      470 | max kl: 1.382\n",
      ".......GG.GAAG........... | cdf score: 0.000 | n seqs:      468 | max kl: 0.992\n",
      ".......GG.GAAGC.......... | cdf score: 1.000 | n seqs:      468 | max kl: 0.759\n",
      "Saving candidate\n",
      "............A............ | cdf score: 0.000 | n seqs:      627 | max kl: inf\n",
      "........G...A............ | cdf score: 0.000 | n seqs:      420 | max kl: 0.737\n",
      "........G...AG........... | cdf score: 0.000 | n seqs:      325 | max kl: 0.726\n",
      ".......GG...AG........... | cdf score: 0.000 | n seqs:      208 | max kl: 1.338\n",
      ".......GG...AGT.......... | cdf score: 0.000 | n seqs:      202 | max kl: 1.358\n",
      ".......GG.G.AGT.......... | cdf score: 0.000 | n seqs:      201 | max kl: 1.381\n",
      ".......GG.GAAGT.......... | cdf score: 1.000 | n seqs:      200 | max kl: 0.992\n",
      "Saving candidate\n",
      "............A............ | cdf score: 0.000 | n seqs:      427 | max kl: inf\n",
      "........G...A............ | cdf score: 0.000 | n seqs:      220 | max kl: 0.401\n",
      "Too few sequences left\n",
      "............G............ | cdf score: 0.000 | n seqs:      302 | max kl: inf\n",
      "Too few sequences left\n"
     ]
    }
   ],
   "source": [
    "geobacillus_6ma = motif_identification_workflow(geobacillus.pileup.filter(pl.col(\"contig\") == \"contig_1\"), geobacillus_assembly[\"contig_1\"], \"a\", 0.8, min_sequences=200)"
   ]
  },
  {
   "cell_type": "code",
   "execution_count": 95,
   "metadata": {},
   "outputs": [
    {
     "data": {
      "text/plain": [
       "(['...........GATC..........',\n",
       "  '.......GA.GAAGC..........',\n",
       "  '........CCAAAT...........',\n",
       "  '........ACCCA............',\n",
       "  '.......GA.GAAGT..........',\n",
       "  '.......GG.GAAGC..........',\n",
       "  '.......GG.GAAGT..........'],\n",
       " [BetaBernoulliModel(alpha=21448, beta=3052),\n",
       "  BetaBernoulliModel(alpha=1255, beta=160),\n",
       "  BetaBernoulliModel(alpha=2847, beta=321),\n",
       "  BetaBernoulliModel(alpha=1804, beta=778),\n",
       "  BetaBernoulliModel(alpha=872, beta=197),\n",
       "  BetaBernoulliModel(alpha=534, beta=109),\n",
       "  BetaBernoulliModel(alpha=396, beta=135)],\n",
       " [1.0, 1.0, 1.0, 1.0, 1.0, 1.0, 1.0])"
      ]
     },
     "execution_count": 95,
     "metadata": {},
     "output_type": "execute_result"
    }
   ],
   "source": [
    "geobacillus_6ma"
   ]
  },
  {
   "cell_type": "code",
   "execution_count": 96,
   "metadata": {},
   "outputs": [
    {
     "name": "stdout",
     "output_type": "stream",
     "text": [
      "............C............ | cdf score: 0.000 | n seqs:     1411 | max kl: inf\n",
      "............C...C........ | cdf score: 0.000 | n seqs:     1314 | max kl: 0.482\n",
      "............CG..C........ | cdf score: 0.000 | n seqs:      873 | max kl: 0.981\n",
      "............CG.TC........ | cdf score: 0.000 | n seqs:      700 | max kl: 1.331\n",
      "............CGATC........ | cdf score: 0.000 | n seqs:      694 | max kl: 1.186\n",
      "...........CCGATC........ | cdf score: 0.000 | n seqs:      693 | max kl: 0.654\n",
      "Too few sequences left\n",
      "............C............ | cdf score: 0.000 | n seqs:      928 | max kl: inf\n",
      "...........GC............ | cdf score: 0.000 | n seqs:      831 | max kl: 0.300\n",
      "Too few sequences left\n",
      "............C............ | cdf score: 0.000 | n seqs:      588 | max kl: inf\n",
      "Too few sequences left\n"
     ]
    }
   ],
   "source": [
    "geobacillus_5mc = motif_identification_workflow(geobacillus.pileup.filter(pl.col(\"contig\") == \"contig_1\"), geobacillus_assembly[\"contig_1\"], \"m\", 0.5)"
   ]
  },
  {
   "cell_type": "code",
   "execution_count": 97,
   "metadata": {},
   "outputs": [
    {
     "data": {
      "text/plain": [
       "([], [], [])"
      ]
     },
     "execution_count": 97,
     "metadata": {},
     "output_type": "execute_result"
    }
   ],
   "source": [
    "geobacillus_5mc"
   ]
  }
 ],
 "metadata": {
  "kernelspec": {
   "display_name": "Python 3",
   "language": "python",
   "name": "python3"
  },
  "language_info": {
   "codemirror_mode": {
    "name": "ipython",
    "version": 3
   },
   "file_extension": ".py",
   "mimetype": "text/x-python",
   "name": "python",
   "nbconvert_exporter": "python",
   "pygments_lexer": "ipython3",
   "version": "3.9.16"
  },
  "orig_nbformat": 4
 },
 "nbformat": 4,
 "nbformat_minor": 2
}
