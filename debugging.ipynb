{
 "cells": [
  {
   "cell_type": "code",
   "execution_count": 2,
   "metadata": {},
   "outputs": [],
   "source": [
    "from nanomotif.binnary import data_processing, detect_contamination, include_contigs\n",
    "import os\n",
    "os.environ[\"POLARS_MAX_THREADS\"] = \"1\"\n",
    "import polars as pl"
   ]
  },
  {
   "cell_type": "code",
   "execution_count": 8,
   "metadata": {},
   "outputs": [],
   "source": [
    "class Args:\n",
    "    def __init__(self):\n",
    "        self.motifs_scored = \"../binnary/data/data/anaerobic_digestor/nanomotif/motifs-scored.tsv\"\n",
    "        self.bin_motifs = \"../binnary/data/data/anaerobic_digestor/nanomotif/bin-motifs.tsv\"\n",
    "        self.contig_bins = \"../binnary/data/data/anaerobic_digestor/mmlong2_lite/tmp/binning/contig_bin.tsv\"#\"../binnary/data/data/anaerobic_digestor/mmlong2_lite/tmp/binning/contig_bin.tsv\"\n",
    "        self.mean_methylation_cutoff = 0.25\n",
    "        self.n_motif_contig_cutoff = 10\n",
    "        self.n_motif_bin_cutoff = 500\n",
    "        self.ambiguous_motif_percentage_cutoff = 0.40\n",
    "        self.out = \"../binnary/data/data/anaerobic_digestor/binnary/fecal_contamination_test_comparison_matrix.tsv\"\n",
    "\n",
    "args = Args()"
   ]
  },
  {
   "cell_type": "code",
   "execution_count": 9,
   "metadata": {},
   "outputs": [],
   "source": [
    "(\n",
    "    motifs_scored,\n",
    "    bin_motifs,\n",
    "    contig_bins,\n",
    ") = data_processing.load_data(args)\n",
    "\n",
    "# "
   ]
  },
  {
   "cell_type": "code",
   "execution_count": 12,
   "metadata": {},
   "outputs": [],
   "source": [
    "bin_motif_binary = data_processing.prepare_bin_consensus(bin_motifs, args)\n",
    "\n",
    "motifs_in_bin_consensus = bin_motif_binary.select(\"motif_mod\").unique()[\"motif_mod\"]\n",
    "\n",
    "motifs_scored_in_bins = data_processing.prepare_motifs_scored_in_bins(\n",
    "    motifs_scored,\n",
    "    motifs_in_bin_consensus,\n",
    "    contig_bins\n",
    ")\n",
    "\n",
    "bin_motifs_from_motifs_scored_in_bins = data_processing.construct_bin_consensus_from_motifs_scored_in_bins(\n",
    "        motifs_scored_in_bins,\n",
    "        args\n",
    "    )"
   ]
  },
  {
   "cell_type": "code",
   "execution_count": 13,
   "metadata": {},
   "outputs": [],
   "source": [
    "motifs_scored_in_bins_wo_unbinned = motifs_scored_in_bins \\\n",
    "        .filter(~pl.col(\"bin_contig\").str.contains(\"unbinned\"))\n",
    "    \n",
    "# Define the corresponding choices for each condition\n",
    "choices = [\n",
    "    0,  # bin motif is methylated, contig motif is methylated\n",
    "    1,  # bin motif is methylated, contig motif is not methylated\n",
    "    1,  # bin motif is not methylated, contig motif is methylated\n",
    "    0,  # bin motif is not methylated, contig motif is not methylated\n",
    "    0,  # bin motif is methylated, contig motif is not observed\n",
    "    0,  # bin motif is not methylated, contig motif is not observed\n",
    "]"
   ]
  },
  {
   "cell_type": "code",
   "execution_count": 18,
   "metadata": {},
   "outputs": [],
   "source": [
    "motifs_scored_in_contigs = motifs_scored_in_bins_wo_unbinned \\\n",
    "        .filter(pl.col(\"n_motifs\") >= args.n_motif_contig_cutoff) \\\n",
    "        .select([\"bin_contig\", \"motif_mod\", \"mean\"]) \\\n",
    "        .rename({\"bin_contig\": \"bin_compare\"}) \n",
    "        \n",
    "        \n",
    "motif_binary_compare = bin_motifs_from_motifs_scored_in_bins \\\n",
    "        .filter(pl.col(\"bin\") == \"mmlong2_lite.bin.1.14\") \\\n",
    "        .join(\n",
    "            motifs_scored_in_contigs.filter(pl.col(\"bin_compare\") == \"mmlong2_lite.bin.1.14_contig_39961\"),\n",
    "            on=\"motif_mod\"\n",
    "        )"
   ]
  },
  {
   "cell_type": "code",
   "execution_count": 19,
   "metadata": {},
   "outputs": [],
   "source": [
    "motif_binary_compare = motif_binary_compare.with_columns([\n",
    "    pl.when(pl.col(\"methylation_binary\") == 1)\n",
    "    .then(\n",
    "        pl.when(pl.col(\"mean_methylation\") - 4 * pl.col(\"std_methylation_bin\") > 0.1)\n",
    "        .then(pl.col(\"mean_methylation\") - 4 * pl.col(\"std_methylation_bin\"))\n",
    "        .otherwise(0.1)\n",
    "    )\n",
    "    .otherwise(pl.lit(None))\n",
    "    .alias(\"methylation_mean_threshold\")\n",
    "])\n",
    "\n",
    "# Calculate the binary methylation value for each motif in each bin where the bin consensus is 1\n",
    "motif_binary_compare = motif_binary_compare.with_columns([\n",
    "    pl.when((pl.col(\"methylation_binary\") == 1) & \n",
    "            ((pl.col(\"mean\") >= pl.col(\"methylation_mean_threshold\")) | \n",
    "            (pl.col(\"mean\") > 0.4)))\n",
    "    .then(1)\n",
    "    .when(pl.col(\"methylation_binary\") == 1)\n",
    "    .then(0)\n",
    "    .otherwise(pl.lit(None))\n",
    "    .alias(\"methylation_binary_compare\")\n",
    "])\n",
    "\n",
    "# Calculate score for bin consensus is 0\n",
    "motif_binary_compare = motif_binary_compare.with_columns([\n",
    "    pl.when(pl.col(\"methylation_binary\") == 0)\n",
    "    .then(0.25)\n",
    "    .otherwise(pl.col(\"methylation_mean_threshold\"))\n",
    "    .alias(\"methylation_mean_threshold\"),\n",
    "\n",
    "    pl.when(pl.col(\"methylation_binary\") == 0)\n",
    "    .then((pl.col(\"mean\") >= 0.25).cast(pl.Int32))\n",
    "    .otherwise(pl.col(\"methylation_binary_compare\"))\n",
    "    .alias(\"methylation_binary_compare\")\n",
    "])"
   ]
  }
 ],
 "metadata": {
  "kernelspec": {
   "display_name": "nanomotif_dev",
   "language": "python",
   "name": "python3"
  },
  "language_info": {
   "codemirror_mode": {
    "name": "ipython",
    "version": 3
   },
   "file_extension": ".py",
   "mimetype": "text/x-python",
   "name": "python",
   "nbconvert_exporter": "python",
   "pygments_lexer": "ipython3",
   "version": "3.9.19"
  }
 },
 "nbformat": 4,
 "nbformat_minor": 2
}
